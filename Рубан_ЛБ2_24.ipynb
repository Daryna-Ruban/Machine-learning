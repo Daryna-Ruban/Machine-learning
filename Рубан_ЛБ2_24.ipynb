{
  "nbformat": 4,
  "nbformat_minor": 0,
  "metadata": {
    "colab": {
      "provenance": [],
      "authorship_tag": "ABX9TyOwUzOvk73a1l114YtfY4dL",
      "include_colab_link": true
    },
    "kernelspec": {
      "name": "python3",
      "display_name": "Python 3"
    },
    "language_info": {
      "name": "python"
    }
  },
  "cells": [
    {
      "cell_type": "markdown",
      "metadata": {
        "id": "view-in-github",
        "colab_type": "text"
      },
      "source": [
        "<a href=\"https://colab.research.google.com/github/Daryna-Ruban/Machine-learning/blob/main/%D0%A0%D1%83%D0%B1%D0%B0%D0%BD_%D0%9B%D0%912_24.ipynb\" target=\"_parent\"><img src=\"https://colab.research.google.com/assets/colab-badge.svg\" alt=\"Open In Colab\"/></a>"
      ]
    },
    {
      "cell_type": "markdown",
      "source": [
        "# Завдання 1.\n",
        "Зчитати датасет ВВП (млн. дол. США) за країнами з Вікіпедії за\n",
        "посиланням\n",
        "https://en.wikipedia.org/wiki/List_of_countries_by_GDP_(nominal)\n",
        "Провести попередній аналіз даних, а саме:\n",
        "\n"
      ],
      "metadata": {
        "id": "aspR1rMV6AP9"
      }
    },
    {
      "cell_type": "markdown",
      "source": [
        "1. Вивести перших 5 рядків."
      ],
      "metadata": {
        "id": "7thVl6l16Zn6"
      }
    },
    {
      "cell_type": "code",
      "source": [
        "import pandas as pd\n",
        "# Завантажимо таблицю з Вікіпедії\n",
        "url =\"https://en.wikipedia.org/wiki/List_of_countries_by_GDP_(nominal)\"\n",
        "tables = pd.read_html (url)\n",
        "df = tables [2] # Таблиця, що містить дані про ВвП\n",
        "# Відображення перших рядків таблиці для перевірки\n",
        "df. head()"
      ],
      "metadata": {
        "colab": {
          "base_uri": "https://localhost:8080/",
          "height": 237
        },
        "id": "VJp-lMC-6cBL",
        "outputId": "dbb54023-6505-4ae4-913d-25579109ac6a"
      },
      "execution_count": null,
      "outputs": [
        {
          "output_type": "execute_result",
          "data": {
            "text/plain": [
              "  Country/Territory IMF[1][13]            World Bank[14]             \\\n",
              "  Country/Territory   Forecast       Year       Estimate       Year   \n",
              "0             World  109529216       2024      105435540       2023   \n",
              "1     United States   28781083       2024       27360935       2023   \n",
              "2             China   18532633  [n 1]2024       17794782  [n 3]2023   \n",
              "3           Germany    4591100       2024        4456081       2023   \n",
              "4             Japan    4110452       2024        4212945       2023   \n",
              "\n",
              "  United Nations[15]             \n",
              "            Estimate       Year  \n",
              "0          100834796       2022  \n",
              "1           25744100       2022  \n",
              "2           17963170  [n 1]2022  \n",
              "3            4076923       2022  \n",
              "4            4232173       2022  "
            ],
            "text/html": [
              "\n",
              "  <div id=\"df-ab1b2cba-29fa-4959-abd0-7cd7d32c97b9\" class=\"colab-df-container\">\n",
              "    <div>\n",
              "<style scoped>\n",
              "    .dataframe tbody tr th:only-of-type {\n",
              "        vertical-align: middle;\n",
              "    }\n",
              "\n",
              "    .dataframe tbody tr th {\n",
              "        vertical-align: top;\n",
              "    }\n",
              "\n",
              "    .dataframe thead tr th {\n",
              "        text-align: left;\n",
              "    }\n",
              "</style>\n",
              "<table border=\"1\" class=\"dataframe\">\n",
              "  <thead>\n",
              "    <tr>\n",
              "      <th></th>\n",
              "      <th>Country/Territory</th>\n",
              "      <th colspan=\"2\" halign=\"left\">IMF[1][13]</th>\n",
              "      <th colspan=\"2\" halign=\"left\">World Bank[14]</th>\n",
              "      <th colspan=\"2\" halign=\"left\">United Nations[15]</th>\n",
              "    </tr>\n",
              "    <tr>\n",
              "      <th></th>\n",
              "      <th>Country/Territory</th>\n",
              "      <th>Forecast</th>\n",
              "      <th>Year</th>\n",
              "      <th>Estimate</th>\n",
              "      <th>Year</th>\n",
              "      <th>Estimate</th>\n",
              "      <th>Year</th>\n",
              "    </tr>\n",
              "  </thead>\n",
              "  <tbody>\n",
              "    <tr>\n",
              "      <th>0</th>\n",
              "      <td>World</td>\n",
              "      <td>109529216</td>\n",
              "      <td>2024</td>\n",
              "      <td>105435540</td>\n",
              "      <td>2023</td>\n",
              "      <td>100834796</td>\n",
              "      <td>2022</td>\n",
              "    </tr>\n",
              "    <tr>\n",
              "      <th>1</th>\n",
              "      <td>United States</td>\n",
              "      <td>28781083</td>\n",
              "      <td>2024</td>\n",
              "      <td>27360935</td>\n",
              "      <td>2023</td>\n",
              "      <td>25744100</td>\n",
              "      <td>2022</td>\n",
              "    </tr>\n",
              "    <tr>\n",
              "      <th>2</th>\n",
              "      <td>China</td>\n",
              "      <td>18532633</td>\n",
              "      <td>[n 1]2024</td>\n",
              "      <td>17794782</td>\n",
              "      <td>[n 3]2023</td>\n",
              "      <td>17963170</td>\n",
              "      <td>[n 1]2022</td>\n",
              "    </tr>\n",
              "    <tr>\n",
              "      <th>3</th>\n",
              "      <td>Germany</td>\n",
              "      <td>4591100</td>\n",
              "      <td>2024</td>\n",
              "      <td>4456081</td>\n",
              "      <td>2023</td>\n",
              "      <td>4076923</td>\n",
              "      <td>2022</td>\n",
              "    </tr>\n",
              "    <tr>\n",
              "      <th>4</th>\n",
              "      <td>Japan</td>\n",
              "      <td>4110452</td>\n",
              "      <td>2024</td>\n",
              "      <td>4212945</td>\n",
              "      <td>2023</td>\n",
              "      <td>4232173</td>\n",
              "      <td>2022</td>\n",
              "    </tr>\n",
              "  </tbody>\n",
              "</table>\n",
              "</div>\n",
              "    <div class=\"colab-df-buttons\">\n",
              "\n",
              "  <div class=\"colab-df-container\">\n",
              "    <button class=\"colab-df-convert\" onclick=\"convertToInteractive('df-ab1b2cba-29fa-4959-abd0-7cd7d32c97b9')\"\n",
              "            title=\"Convert this dataframe to an interactive table.\"\n",
              "            style=\"display:none;\">\n",
              "\n",
              "  <svg xmlns=\"http://www.w3.org/2000/svg\" height=\"24px\" viewBox=\"0 -960 960 960\">\n",
              "    <path d=\"M120-120v-720h720v720H120Zm60-500h600v-160H180v160Zm220 220h160v-160H400v160Zm0 220h160v-160H400v160ZM180-400h160v-160H180v160Zm440 0h160v-160H620v160ZM180-180h160v-160H180v160Zm440 0h160v-160H620v160Z\"/>\n",
              "  </svg>\n",
              "    </button>\n",
              "\n",
              "  <style>\n",
              "    .colab-df-container {\n",
              "      display:flex;\n",
              "      gap: 12px;\n",
              "    }\n",
              "\n",
              "    .colab-df-convert {\n",
              "      background-color: #E8F0FE;\n",
              "      border: none;\n",
              "      border-radius: 50%;\n",
              "      cursor: pointer;\n",
              "      display: none;\n",
              "      fill: #1967D2;\n",
              "      height: 32px;\n",
              "      padding: 0 0 0 0;\n",
              "      width: 32px;\n",
              "    }\n",
              "\n",
              "    .colab-df-convert:hover {\n",
              "      background-color: #E2EBFA;\n",
              "      box-shadow: 0px 1px 2px rgba(60, 64, 67, 0.3), 0px 1px 3px 1px rgba(60, 64, 67, 0.15);\n",
              "      fill: #174EA6;\n",
              "    }\n",
              "\n",
              "    .colab-df-buttons div {\n",
              "      margin-bottom: 4px;\n",
              "    }\n",
              "\n",
              "    [theme=dark] .colab-df-convert {\n",
              "      background-color: #3B4455;\n",
              "      fill: #D2E3FC;\n",
              "    }\n",
              "\n",
              "    [theme=dark] .colab-df-convert:hover {\n",
              "      background-color: #434B5C;\n",
              "      box-shadow: 0px 1px 3px 1px rgba(0, 0, 0, 0.15);\n",
              "      filter: drop-shadow(0px 1px 2px rgba(0, 0, 0, 0.3));\n",
              "      fill: #FFFFFF;\n",
              "    }\n",
              "  </style>\n",
              "\n",
              "    <script>\n",
              "      const buttonEl =\n",
              "        document.querySelector('#df-ab1b2cba-29fa-4959-abd0-7cd7d32c97b9 button.colab-df-convert');\n",
              "      buttonEl.style.display =\n",
              "        google.colab.kernel.accessAllowed ? 'block' : 'none';\n",
              "\n",
              "      async function convertToInteractive(key) {\n",
              "        const element = document.querySelector('#df-ab1b2cba-29fa-4959-abd0-7cd7d32c97b9');\n",
              "        const dataTable =\n",
              "          await google.colab.kernel.invokeFunction('convertToInteractive',\n",
              "                                                    [key], {});\n",
              "        if (!dataTable) return;\n",
              "\n",
              "        const docLinkHtml = 'Like what you see? Visit the ' +\n",
              "          '<a target=\"_blank\" href=https://colab.research.google.com/notebooks/data_table.ipynb>data table notebook</a>'\n",
              "          + ' to learn more about interactive tables.';\n",
              "        element.innerHTML = '';\n",
              "        dataTable['output_type'] = 'display_data';\n",
              "        await google.colab.output.renderOutput(dataTable, element);\n",
              "        const docLink = document.createElement('div');\n",
              "        docLink.innerHTML = docLinkHtml;\n",
              "        element.appendChild(docLink);\n",
              "      }\n",
              "    </script>\n",
              "  </div>\n",
              "\n",
              "\n",
              "<div id=\"df-9ca6ac28-f59b-4092-9a10-e415cc34ffed\">\n",
              "  <button class=\"colab-df-quickchart\" onclick=\"quickchart('df-9ca6ac28-f59b-4092-9a10-e415cc34ffed')\"\n",
              "            title=\"Suggest charts\"\n",
              "            style=\"display:none;\">\n",
              "\n",
              "<svg xmlns=\"http://www.w3.org/2000/svg\" height=\"24px\"viewBox=\"0 0 24 24\"\n",
              "     width=\"24px\">\n",
              "    <g>\n",
              "        <path d=\"M19 3H5c-1.1 0-2 .9-2 2v14c0 1.1.9 2 2 2h14c1.1 0 2-.9 2-2V5c0-1.1-.9-2-2-2zM9 17H7v-7h2v7zm4 0h-2V7h2v10zm4 0h-2v-4h2v4z\"/>\n",
              "    </g>\n",
              "</svg>\n",
              "  </button>\n",
              "\n",
              "<style>\n",
              "  .colab-df-quickchart {\n",
              "      --bg-color: #E8F0FE;\n",
              "      --fill-color: #1967D2;\n",
              "      --hover-bg-color: #E2EBFA;\n",
              "      --hover-fill-color: #174EA6;\n",
              "      --disabled-fill-color: #AAA;\n",
              "      --disabled-bg-color: #DDD;\n",
              "  }\n",
              "\n",
              "  [theme=dark] .colab-df-quickchart {\n",
              "      --bg-color: #3B4455;\n",
              "      --fill-color: #D2E3FC;\n",
              "      --hover-bg-color: #434B5C;\n",
              "      --hover-fill-color: #FFFFFF;\n",
              "      --disabled-bg-color: #3B4455;\n",
              "      --disabled-fill-color: #666;\n",
              "  }\n",
              "\n",
              "  .colab-df-quickchart {\n",
              "    background-color: var(--bg-color);\n",
              "    border: none;\n",
              "    border-radius: 50%;\n",
              "    cursor: pointer;\n",
              "    display: none;\n",
              "    fill: var(--fill-color);\n",
              "    height: 32px;\n",
              "    padding: 0;\n",
              "    width: 32px;\n",
              "  }\n",
              "\n",
              "  .colab-df-quickchart:hover {\n",
              "    background-color: var(--hover-bg-color);\n",
              "    box-shadow: 0 1px 2px rgba(60, 64, 67, 0.3), 0 1px 3px 1px rgba(60, 64, 67, 0.15);\n",
              "    fill: var(--button-hover-fill-color);\n",
              "  }\n",
              "\n",
              "  .colab-df-quickchart-complete:disabled,\n",
              "  .colab-df-quickchart-complete:disabled:hover {\n",
              "    background-color: var(--disabled-bg-color);\n",
              "    fill: var(--disabled-fill-color);\n",
              "    box-shadow: none;\n",
              "  }\n",
              "\n",
              "  .colab-df-spinner {\n",
              "    border: 2px solid var(--fill-color);\n",
              "    border-color: transparent;\n",
              "    border-bottom-color: var(--fill-color);\n",
              "    animation:\n",
              "      spin 1s steps(1) infinite;\n",
              "  }\n",
              "\n",
              "  @keyframes spin {\n",
              "    0% {\n",
              "      border-color: transparent;\n",
              "      border-bottom-color: var(--fill-color);\n",
              "      border-left-color: var(--fill-color);\n",
              "    }\n",
              "    20% {\n",
              "      border-color: transparent;\n",
              "      border-left-color: var(--fill-color);\n",
              "      border-top-color: var(--fill-color);\n",
              "    }\n",
              "    30% {\n",
              "      border-color: transparent;\n",
              "      border-left-color: var(--fill-color);\n",
              "      border-top-color: var(--fill-color);\n",
              "      border-right-color: var(--fill-color);\n",
              "    }\n",
              "    40% {\n",
              "      border-color: transparent;\n",
              "      border-right-color: var(--fill-color);\n",
              "      border-top-color: var(--fill-color);\n",
              "    }\n",
              "    60% {\n",
              "      border-color: transparent;\n",
              "      border-right-color: var(--fill-color);\n",
              "    }\n",
              "    80% {\n",
              "      border-color: transparent;\n",
              "      border-right-color: var(--fill-color);\n",
              "      border-bottom-color: var(--fill-color);\n",
              "    }\n",
              "    90% {\n",
              "      border-color: transparent;\n",
              "      border-bottom-color: var(--fill-color);\n",
              "    }\n",
              "  }\n",
              "</style>\n",
              "\n",
              "  <script>\n",
              "    async function quickchart(key) {\n",
              "      const quickchartButtonEl =\n",
              "        document.querySelector('#' + key + ' button');\n",
              "      quickchartButtonEl.disabled = true;  // To prevent multiple clicks.\n",
              "      quickchartButtonEl.classList.add('colab-df-spinner');\n",
              "      try {\n",
              "        const charts = await google.colab.kernel.invokeFunction(\n",
              "            'suggestCharts', [key], {});\n",
              "      } catch (error) {\n",
              "        console.error('Error during call to suggestCharts:', error);\n",
              "      }\n",
              "      quickchartButtonEl.classList.remove('colab-df-spinner');\n",
              "      quickchartButtonEl.classList.add('colab-df-quickchart-complete');\n",
              "    }\n",
              "    (() => {\n",
              "      let quickchartButtonEl =\n",
              "        document.querySelector('#df-9ca6ac28-f59b-4092-9a10-e415cc34ffed button');\n",
              "      quickchartButtonEl.style.display =\n",
              "        google.colab.kernel.accessAllowed ? 'block' : 'none';\n",
              "    })();\n",
              "  </script>\n",
              "</div>\n",
              "    </div>\n",
              "  </div>\n"
            ],
            "application/vnd.google.colaboratory.intrinsic+json": {
              "type": "dataframe",
              "summary": "{\n  \"name\": \"df\",\n  \"rows\": 5,\n  \"fields\": [\n    {\n      \"column\": [\n        \"Country/Territory\",\n        \"Country/Territory\"\n      ],\n      \"properties\": {\n        \"dtype\": \"string\",\n        \"num_unique_values\": 5,\n        \"samples\": [\n          \"United States\",\n          \"Japan\",\n          \"China\"\n        ],\n        \"semantic_type\": \"\",\n        \"description\": \"\"\n      }\n    },\n    {\n      \"column\": [\n        \"IMF[1][13]\",\n        \"Forecast\"\n      ],\n      \"properties\": {\n        \"dtype\": \"string\",\n        \"num_unique_values\": 5,\n        \"samples\": [\n          \"28781083\",\n          \"4110452\",\n          \"18532633\"\n        ],\n        \"semantic_type\": \"\",\n        \"description\": \"\"\n      }\n    },\n    {\n      \"column\": [\n        \"IMF[1][13]\",\n        \"Year\"\n      ],\n      \"properties\": {\n        \"dtype\": \"category\",\n        \"num_unique_values\": 2,\n        \"samples\": [\n          \"[n 1]2024\",\n          \"2024\"\n        ],\n        \"semantic_type\": \"\",\n        \"description\": \"\"\n      }\n    },\n    {\n      \"column\": [\n        \"World Bank[14]\",\n        \"Estimate\"\n      ],\n      \"properties\": {\n        \"dtype\": \"string\",\n        \"num_unique_values\": 5,\n        \"samples\": [\n          \"27360935\",\n          \"4212945\"\n        ],\n        \"semantic_type\": \"\",\n        \"description\": \"\"\n      }\n    },\n    {\n      \"column\": [\n        \"World Bank[14]\",\n        \"Year\"\n      ],\n      \"properties\": {\n        \"dtype\": \"category\",\n        \"num_unique_values\": 2,\n        \"samples\": [\n          \"[n 3]2023\",\n          \"2023\"\n        ],\n        \"semantic_type\": \"\",\n        \"description\": \"\"\n      }\n    },\n    {\n      \"column\": [\n        \"United Nations[15]\",\n        \"Estimate\"\n      ],\n      \"properties\": {\n        \"dtype\": \"string\",\n        \"num_unique_values\": 5,\n        \"samples\": [\n          \"25744100\",\n          \"4232173\"\n        ],\n        \"semantic_type\": \"\",\n        \"description\": \"\"\n      }\n    },\n    {\n      \"column\": [\n        \"United Nations[15]\",\n        \"Year\"\n      ],\n      \"properties\": {\n        \"dtype\": \"category\",\n        \"num_unique_values\": 2,\n        \"samples\": [\n          \"[n 1]2022\",\n          \"2022\"\n        ],\n        \"semantic_type\": \"\",\n        \"description\": \"\"\n      }\n    }\n  ]\n}"
            }
          },
          "metadata": {},
          "execution_count": 21
        }
      ]
    },
    {
      "cell_type": "markdown",
      "source": [
        "2. Визначити розмір датасета."
      ],
      "metadata": {
        "id": "TGkraXFiB5sC"
      }
    },
    {
      "cell_type": "code",
      "source": [
        "# Визначення розміру датасету\n",
        "dataset_size = df.shape\n",
        "\n",
        "print(f\"Розмір датасету: {dataset_size[0]} рядків і {dataset_size[1]} стовпців\")"
      ],
      "metadata": {
        "colab": {
          "base_uri": "https://localhost:8080/"
        },
        "id": "L4bQYX7RB0FS",
        "outputId": "a19e605e-71aa-4e1a-b9fe-9da84a41df0d"
      },
      "execution_count": null,
      "outputs": [
        {
          "output_type": "stream",
          "name": "stdout",
          "text": [
            "Розмір датасету: 210 рядків і 7 стовпців\n"
          ]
        }
      ]
    },
    {
      "cell_type": "markdown",
      "source": [
        "3. Визначити оптимальну кількість стовпців."
      ],
      "metadata": {
        "id": "qpvYrD-XB9ij"
      }
    },
    {
      "cell_type": "code",
      "source": [
        "import pandas as pd\n",
        "import requests\n",
        "from bs4 import BeautifulSoup\n",
        "from io import StringIO\n",
        "\n",
        "df = pd.read_html(StringIO(str(BeautifulSoup(requests.get(\"https://en.wikipedia.org/wiki/List_of_countries_by_GDP_(nominal)\").text, 'html.parser').find('table', {'class': 'wikitable'}))))[0]\n",
        "num_columns = df.shape[1]\n",
        "print(f\"Кількість стовпців: {num_columns}\\nКількість стовпців оптимальна.\" if num_columns <= 10 else \"Кількість стовпців не оптимальна\")"
      ],
      "metadata": {
        "id": "Igy_PKEICAfA",
        "colab": {
          "base_uri": "https://localhost:8080/"
        },
        "outputId": "871deabb-42e5-4293-f58a-408418c127bb"
      },
      "execution_count": null,
      "outputs": [
        {
          "output_type": "stream",
          "name": "stdout",
          "text": [
            "Кількість стовпців: 7\n",
            "Кількість стовпців оптимальна.\n"
          ]
        }
      ]
    },
    {
      "cell_type": "markdown",
      "source": [
        "4. Змінити назви стовпців на більш зручні"
      ],
      "metadata": {
        "id": "U-Fkh0UbBMrh"
      }
    },
    {
      "cell_type": "code",
      "source": [
        "import pandas as pd\n",
        "\n",
        "df = pd.read_html(StringIO(str(BeautifulSoup(requests.get(\"https://en.wikipedia.org/wiki/List_of_countries_by_GDP_(nominal)\").text, 'html.parser').find('table', {'class': 'wikitable'}))))[0]\n",
        "df.columns = ['Country', 'MVF_2024', 'WorldBank_2023', 'OON_2022'] + df.columns[4:].tolist()\n",
        "print(df.head())\n",
        "\n",
        "# Перевірка результату - відобразимо перші кілька рядків у гарному форматі\n",
        "print(\"Оновлені дані:\\n\")\n",
        "print(tabulate(df.head(10), headers='keys', tablefmt='grid'))\n"
      ],
      "metadata": {
        "colab": {
          "base_uri": "https://localhost:8080/"
        },
        "id": "f3SVPboR_f6H",
        "outputId": "ef8a0480-012d-486b-c1be-0e5b96e71b3e"
      },
      "execution_count": null,
      "outputs": [
        {
          "output_type": "stream",
          "name": "stdout",
          "text": [
            "Кількість пропущених значень у кожному стовпці:\n",
            " Country/Territory   Country/Territory     0\n",
            "IMF[1][13]          Forecast             15\n",
            "                    Year                 15\n",
            "World Bank[14]      Estimate              8\n",
            "                    Year                  8\n",
            "United Nations[15]  Estimate              1\n",
            "                    Year                  1\n",
            "dtype: int64\n",
            "Оновлені дані:\n",
            "\n",
            "+----+----------------------------------------------+------------------------------+--------------------------+----------------------------------+------------------------------+--------------------------------------+----------------------------------+\n",
            "|    | ('Country/Territory', 'Country/Territory')   |   ('IMF[1][13]', 'Forecast') | ('IMF[1][13]', 'Year')   |   ('World Bank[14]', 'Estimate') | ('World Bank[14]', 'Year')   |   ('United Nations[15]', 'Estimate') | ('United Nations[15]', 'Year')   |\n",
            "+====+==============================================+==============================+==========================+==================================+==============================+======================================+==================================+\n",
            "|  0 | World                                        |                    109529216 | 2024                     |                        105435540 | 2023                         |                            100834796 | 2022                             |\n",
            "+----+----------------------------------------------+------------------------------+--------------------------+----------------------------------+------------------------------+--------------------------------------+----------------------------------+\n",
            "|  1 | United States                                |                     28781083 | 2024                     |                         27360935 | 2023                         |                             25744100 | 2022                             |\n",
            "+----+----------------------------------------------+------------------------------+--------------------------+----------------------------------+------------------------------+--------------------------------------+----------------------------------+\n",
            "|  2 | China                                        |                     18532633 | [n 1]2024                |                         17794782 | [n 3]2023                    |                             17963170 | [n 1]2022                        |\n",
            "+----+----------------------------------------------+------------------------------+--------------------------+----------------------------------+------------------------------+--------------------------------------+----------------------------------+\n",
            "|  3 | Germany                                      |                      4591100 | 2024                     |                          4456081 | 2023                         |                              4076923 | 2022                             |\n",
            "+----+----------------------------------------------+------------------------------+--------------------------+----------------------------------+------------------------------+--------------------------------------+----------------------------------+\n",
            "|  4 | Japan                                        |                      4110452 | 2024                     |                          4212945 | 2023                         |                              4232173 | 2022                             |\n",
            "+----+----------------------------------------------+------------------------------+--------------------------+----------------------------------+------------------------------+--------------------------------------+----------------------------------+\n",
            "|  5 | India                                        |                      3937011 | 2024                     |                          3549919 | 2023                         |                              3465541 | 2022                             |\n",
            "+----+----------------------------------------------+------------------------------+--------------------------+----------------------------------+------------------------------+--------------------------------------+----------------------------------+\n",
            "|  6 | United Kingdom                               |                      3495261 | 2024                     |                          3340032 | 2023                         |                              3089072 | 2022                             |\n",
            "+----+----------------------------------------------+------------------------------+--------------------------+----------------------------------+------------------------------+--------------------------------------+----------------------------------+\n",
            "|  7 | France                                       |                      3130014 | 2024                     |                          3030904 | 2023                         |                              2775316 | 2022                             |\n",
            "+----+----------------------------------------------+------------------------------+--------------------------+----------------------------------+------------------------------+--------------------------------------+----------------------------------+\n",
            "|  8 | Brazil                                       |                      2331391 | 2024                     |                          2173666 | 2023                         |                              1920095 | 2022                             |\n",
            "+----+----------------------------------------------+------------------------------+--------------------------+----------------------------------+------------------------------+--------------------------------------+----------------------------------+\n",
            "|  9 | Italy                                        |                      2328028 | 2024                     |                          2254851 | 2023                         |                              2046952 | 2022                             |\n",
            "+----+----------------------------------------------+------------------------------+--------------------------+----------------------------------+------------------------------+--------------------------------------+----------------------------------+\n"
          ]
        }
      ]
    },
    {
      "cell_type": "markdown",
      "source": [
        "5. Визначити тип даних."
      ],
      "metadata": {
        "id": "zkAgfnY4CnaS"
      }
    },
    {
      "cell_type": "code",
      "source": [
        "# Визначення типів даних\n",
        "data_types = df.dtypes\n",
        "\n",
        "print(\"\\nТипи даних у датасеті:\")\n",
        "print(data_types)"
      ],
      "metadata": {
        "colab": {
          "base_uri": "https://localhost:8080/"
        },
        "id": "j7aHKOy2CpGK",
        "outputId": "bddc07f2-b7f7-459a-d0c8-34f79df9142e"
      },
      "execution_count": null,
      "outputs": [
        {
          "output_type": "stream",
          "name": "stdout",
          "text": [
            "\n",
            "Типи даних у датасеті:\n",
            "Country/Territory   Country/Territory    object\n",
            "IMF[1][13]          Forecast             object\n",
            "                    Year                 object\n",
            "World Bank[14]      Estimate             object\n",
            "                    Year                 object\n",
            "United Nations[15]  Estimate             object\n",
            "                    Year                 object\n",
            "dtype: object\n"
          ]
        }
      ]
    },
    {
      "cell_type": "markdown",
      "source": [
        "6. Замініть у таблиці значення \"—\" на значення NaN. Перевірити\n",
        "наявність пропущених значень. При наявності, замінити пропущені\n",
        "значення на середнє значення"
      ],
      "metadata": {
        "id": "bs56rrsqCwBK"
      }
    },
    {
      "cell_type": "code",
      "source": [
        "import pandas as pd\n",
        "\n",
        "df.replace('—', float('NaN'), inplace=True)\n",
        "df.isnull().sum()"
      ],
      "metadata": {
        "colab": {
          "base_uri": "https://localhost:8080/",
          "height": 303
        },
        "id": "E0VNp8YsCxnI",
        "outputId": "6e6d8120-db1c-497b-be8f-3fbc7a628567"
      },
      "execution_count": null,
      "outputs": [
        {
          "output_type": "execute_result",
          "data": {
            "text/plain": [
              "Country/Territory   Country/Territory     0\n",
              "IMF[1][13]          Forecast             15\n",
              "                    Year                 15\n",
              "World Bank[14]      Estimate              8\n",
              "                    Year                  8\n",
              "United Nations[15]  Estimate              1\n",
              "                    Year                  1\n",
              "dtype: int64"
            ],
            "text/html": [
              "<div>\n",
              "<style scoped>\n",
              "    .dataframe tbody tr th:only-of-type {\n",
              "        vertical-align: middle;\n",
              "    }\n",
              "\n",
              "    .dataframe tbody tr th {\n",
              "        vertical-align: top;\n",
              "    }\n",
              "\n",
              "    .dataframe thead th {\n",
              "        text-align: right;\n",
              "    }\n",
              "</style>\n",
              "<table border=\"1\" class=\"dataframe\">\n",
              "  <thead>\n",
              "    <tr style=\"text-align: right;\">\n",
              "      <th></th>\n",
              "      <th></th>\n",
              "      <th>0</th>\n",
              "    </tr>\n",
              "  </thead>\n",
              "  <tbody>\n",
              "    <tr>\n",
              "      <th>Country/Territory</th>\n",
              "      <th>Country/Territory</th>\n",
              "      <td>0</td>\n",
              "    </tr>\n",
              "    <tr>\n",
              "      <th rowspan=\"2\" valign=\"top\">IMF[1][13]</th>\n",
              "      <th>Forecast</th>\n",
              "      <td>15</td>\n",
              "    </tr>\n",
              "    <tr>\n",
              "      <th>Year</th>\n",
              "      <td>15</td>\n",
              "    </tr>\n",
              "    <tr>\n",
              "      <th rowspan=\"2\" valign=\"top\">World Bank[14]</th>\n",
              "      <th>Estimate</th>\n",
              "      <td>8</td>\n",
              "    </tr>\n",
              "    <tr>\n",
              "      <th>Year</th>\n",
              "      <td>8</td>\n",
              "    </tr>\n",
              "    <tr>\n",
              "      <th rowspan=\"2\" valign=\"top\">United Nations[15]</th>\n",
              "      <th>Estimate</th>\n",
              "      <td>1</td>\n",
              "    </tr>\n",
              "    <tr>\n",
              "      <th>Year</th>\n",
              "      <td>1</td>\n",
              "    </tr>\n",
              "  </tbody>\n",
              "</table>\n",
              "</div><br><label><b>dtype:</b> int64</label>"
            ]
          },
          "metadata": {},
          "execution_count": 6
        }
      ]
    },
    {
      "cell_type": "markdown",
      "source": [
        "7. Ще раз перевірити наявність пропущених значень."
      ],
      "metadata": {
        "id": "gp2Q9lC3KBfh"
      }
    },
    {
      "cell_type": "code",
      "source": [
        "import pandas as pd\n",
        "print(df.isna().sum())"
      ],
      "metadata": {
        "colab": {
          "base_uri": "https://localhost:8080/"
        },
        "id": "tCVRPqV8KMzI",
        "outputId": "9dde13b3-ba36-493a-90e4-df7cc13e1c6f"
      },
      "execution_count": null,
      "outputs": [
        {
          "output_type": "stream",
          "name": "stdout",
          "text": [
            "Country/Territory   Country/Territory     0\n",
            "IMF[1][13]          Forecast             15\n",
            "                    Year                 15\n",
            "World Bank[14]      Estimate              8\n",
            "                    Year                  8\n",
            "United Nations[15]  Estimate              1\n",
            "                    Year                  1\n",
            "dtype: int64\n"
          ]
        }
      ]
    },
    {
      "cell_type": "markdown",
      "source": [
        "8. Перевірити наявність дублікатів. При наявності видалити дублікати."
      ],
      "metadata": {
        "id": "ws2p2dfGKR9T"
      }
    },
    {
      "cell_type": "code",
      "source": [
        "import pandas as pd\n",
        "from tabulate import tabulate\n",
        "\n",
        "url = 'https://en.wikipedia.org/wiki/List_of_countries_by_GDP_(nominal)'\n",
        "tables = pd.read_html(url)\n",
        "df = tables[2]\n",
        "\n",
        "дублікати = df.duplicated()\n",
        "кількість_дублікатів = дублікати.sum()\n",
        "print(f\"Кількість дублікатів: {кількість_дублікатів}\")\n",
        "\n",
        "df_cleaned = df.drop_duplicates()\n",
        "print(tabulate(df.head(10), headers='keys', tablefmt='grid'))"
      ],
      "metadata": {
        "colab": {
          "base_uri": "https://localhost:8080/"
        },
        "id": "V4aq3GVMKhKt",
        "outputId": "3591bf07-0cdd-4c28-dd03-631b9b5045c8"
      },
      "execution_count": null,
      "outputs": [
        {
          "output_type": "stream",
          "name": "stdout",
          "text": [
            "Кількість дублікатів: 0\n",
            "+----+----------------------------------------------+------------------------------+--------------------------+----------------------------------+------------------------------+--------------------------------------+----------------------------------+\n",
            "|    | ('Country/Territory', 'Country/Territory')   |   ('IMF[1][13]', 'Forecast') | ('IMF[1][13]', 'Year')   |   ('World Bank[14]', 'Estimate') | ('World Bank[14]', 'Year')   |   ('United Nations[15]', 'Estimate') | ('United Nations[15]', 'Year')   |\n",
            "+====+==============================================+==============================+==========================+==================================+==============================+======================================+==================================+\n",
            "|  0 | World                                        |                    109529216 | 2024                     |                        105435540 | 2023                         |                            100834796 | 2022                             |\n",
            "+----+----------------------------------------------+------------------------------+--------------------------+----------------------------------+------------------------------+--------------------------------------+----------------------------------+\n",
            "|  1 | United States                                |                     28781083 | 2024                     |                         27360935 | 2023                         |                             25744100 | 2022                             |\n",
            "+----+----------------------------------------------+------------------------------+--------------------------+----------------------------------+------------------------------+--------------------------------------+----------------------------------+\n",
            "|  2 | China                                        |                     18532633 | [n 1]2024                |                         17794782 | [n 3]2023                    |                             17963170 | [n 1]2022                        |\n",
            "+----+----------------------------------------------+------------------------------+--------------------------+----------------------------------+------------------------------+--------------------------------------+----------------------------------+\n",
            "|  3 | Germany                                      |                      4591100 | 2024                     |                          4456081 | 2023                         |                              4076923 | 2022                             |\n",
            "+----+----------------------------------------------+------------------------------+--------------------------+----------------------------------+------------------------------+--------------------------------------+----------------------------------+\n",
            "|  4 | Japan                                        |                      4110452 | 2024                     |                          4212945 | 2023                         |                              4232173 | 2022                             |\n",
            "+----+----------------------------------------------+------------------------------+--------------------------+----------------------------------+------------------------------+--------------------------------------+----------------------------------+\n",
            "|  5 | India                                        |                      3937011 | 2024                     |                          3549919 | 2023                         |                              3465541 | 2022                             |\n",
            "+----+----------------------------------------------+------------------------------+--------------------------+----------------------------------+------------------------------+--------------------------------------+----------------------------------+\n",
            "|  6 | United Kingdom                               |                      3495261 | 2024                     |                          3340032 | 2023                         |                              3089072 | 2022                             |\n",
            "+----+----------------------------------------------+------------------------------+--------------------------+----------------------------------+------------------------------+--------------------------------------+----------------------------------+\n",
            "|  7 | France                                       |                      3130014 | 2024                     |                          3030904 | 2023                         |                              2775316 | 2022                             |\n",
            "+----+----------------------------------------------+------------------------------+--------------------------+----------------------------------+------------------------------+--------------------------------------+----------------------------------+\n",
            "|  8 | Brazil                                       |                      2331391 | 2024                     |                          2173666 | 2023                         |                              1920095 | 2022                             |\n",
            "+----+----------------------------------------------+------------------------------+--------------------------+----------------------------------+------------------------------+--------------------------------------+----------------------------------+\n",
            "|  9 | Italy                                        |                      2328028 | 2024                     |                          2254851 | 2023                         |                              2046952 | 2022                             |\n",
            "+----+----------------------------------------------+------------------------------+--------------------------+----------------------------------+------------------------------+--------------------------------------+----------------------------------+\n"
          ]
        }
      ]
    },
    {
      "cell_type": "markdown",
      "source": [
        "9. Вивести описову статистику датасету describe()\n"
      ],
      "metadata": {
        "id": "9DuLAaBwLu16"
      }
    },
    {
      "cell_type": "code",
      "source": [
        "print(\"\\nОписова статистика:\\n\")\n",
        "print(tabulate(df.describe(), headers='keys', tablefmt='grid'))"
      ],
      "metadata": {
        "colab": {
          "base_uri": "https://localhost:8080/"
        },
        "id": "VUw9r98hLxZO",
        "outputId": "edb63bae-e64a-4a20-e967-75cf79e54d23"
      },
      "execution_count": null,
      "outputs": [
        {
          "output_type": "stream",
          "name": "stdout",
          "text": [
            "\n",
            "Описова статистика:\n",
            "\n",
            "+--------+----------------------------------------------+------------------------------+--------------------------+----------------------------------+------------------------------+--------------------------------------+----------------------------------+\n",
            "|        | ('Country/Territory', 'Country/Territory')   | ('IMF[1][13]', 'Forecast')   |   ('IMF[1][13]', 'Year') | ('World Bank[14]', 'Estimate')   |   ('World Bank[14]', 'Year') |   ('United Nations[15]', 'Estimate') |   ('United Nations[15]', 'Year') |\n",
            "+========+==============================================+==============================+==========================+==================================+==============================+======================================+==================================+\n",
            "| count  | 210                                          | 210                          |                      210 | 210                              |                          210 |                        210           |                              210 |\n",
            "+--------+----------------------------------------------+------------------------------+--------------------------+----------------------------------+------------------------------+--------------------------------------+----------------------------------+\n",
            "| unique | 210                                          | 196                          |                       13 | 203                              |                           10 |                        210           |                               10 |\n",
            "+--------+----------------------------------------------+------------------------------+--------------------------+----------------------------------+------------------------------+--------------------------------------+----------------------------------+\n",
            "| top    | World                                        | —                            |                     2024 | —                                |                         2023 |                          1.00835e+08 |                             2022 |\n",
            "+--------+----------------------------------------------+------------------------------+--------------------------+----------------------------------+------------------------------+--------------------------------------+----------------------------------+\n",
            "| freq   | 1                                            | 15                           |                      182 | 8                                |                          180 |                          1           |                              201 |\n",
            "+--------+----------------------------------------------+------------------------------+--------------------------+----------------------------------+------------------------------+--------------------------------------+----------------------------------+\n"
          ]
        }
      ]
    },
    {
      "cell_type": "markdown",
      "source": [
        "10.Визначте відхилення (різницю) між показниками MVF_2024 та\n",
        "WorldBank_2023 для кожної країни. У яких країнах ці показники\n",
        "найбільше відрізняються (дати відповідт)?"
      ],
      "metadata": {
        "id": "MuOnClWQMA5i"
      }
    },
    {
      "cell_type": "code",
      "source": [
        "import pandas as pd\n",
        "import numpy as np\n",
        "\n",
        "url = \"https://en.wikipedia.org/wiki/List_of_countries_by_GDP_(nominal)\"\n",
        "tables = pd.read_html(url)\n",
        "df = tables[2]\n",
        "df.columns = ['Country', 'IMF_Forecast', 'IMF_Year', 'WorldBank_Estimate', 'WorldBank_Year', 'UN_Estimate', 'UN_Year']\n",
        "\n",
        "# Конвертація значень у числові типи\n",
        "df['IMF_Forecast'] = pd.to_numeric(df['IMF_Forecast'], errors='coerce')\n",
        "df['WorldBank_Estimate'] = pd.to_numeric(df['WorldBank_Estimate'], errors='coerce')\n",
        "\n",
        "# Обчислення різниці між прогнозом МВФ (IMF) та оцінкою Світового банку (World Bank)\n",
        "df['Difference'] = df['IMF_Forecast'] - df['WorldBank_Estimate']\n",
        "\n",
        "# Виведення таблиці з обчисленими відхиленнями\n",
        "print(\"\\nТаблиця з відхиленнями між прогнозом МВФ (IMF) та оцінкою Світового банку (World Bank):\\n\")\n",
        "print(df[['Country', 'IMF_Forecast', 'WorldBank_Estimate', 'Difference']].head(10))\n",
        "\n",
        "# Знаходження країни з найбільшим відхиленням\n",
        "max_diff_country = df.loc[df['Difference'].abs().idxmax()][['Country', 'Difference']]\n",
        "print(\"\\nКраїна з найбільшим відхиленням:\\n\", max_diff_country)\n",
        "\n"
      ],
      "metadata": {
        "colab": {
          "base_uri": "https://localhost:8080/"
        },
        "id": "JICWGU1FRGti",
        "outputId": "413bd993-a536-4d24-c6bc-89dd609d5437"
      },
      "execution_count": null,
      "outputs": [
        {
          "output_type": "stream",
          "name": "stdout",
          "text": [
            "\n",
            "Таблиця з відхиленнями між прогнозом МВФ (IMF) та оцінкою Світового банку (World Bank):\n",
            "\n",
            "          Country  IMF_Forecast  WorldBank_Estimate  Difference\n",
            "0           World   109529216.0         105435540.0   4093676.0\n",
            "1   United States    28781083.0          27360935.0   1420148.0\n",
            "2           China    18532633.0          17794782.0    737851.0\n",
            "3         Germany     4591100.0           4456081.0    135019.0\n",
            "4           Japan     4110452.0           4212945.0   -102493.0\n",
            "5           India     3937011.0           3549919.0    387092.0\n",
            "6  United Kingdom     3495261.0           3340032.0    155229.0\n",
            "7          France     3130014.0           3030904.0     99110.0\n",
            "8          Brazil     2331391.0           2173666.0    157725.0\n",
            "9           Italy     2328028.0           2254851.0     73177.0\n",
            "\n",
            "Країна з найбільшим відхиленням:\n",
            " Country           World\n",
            "Difference    4093676.0\n",
            "Name: 0, dtype: object\n"
          ]
        }
      ]
    },
    {
      "cell_type": "code",
      "source": [],
      "metadata": {
        "id": "Vcj_R34qY3Cv"
      },
      "execution_count": null,
      "outputs": []
    },
    {
      "cell_type": "markdown",
      "source": [
        "11.Обчисліть кореляцію між показниками MVF_2024, WorldBank_2023 та\n",
        "OON_2022. Які пари змінних мають найвищу кореляцію?"
      ],
      "metadata": {
        "id": "ItxU2PN-VXpk"
      }
    },
    {
      "cell_type": "code",
      "source": [
        "import pandas as pd\n",
        "import numpy as np\n",
        "\n",
        "# Завантаження таблиці з Вікіпедії\n",
        "url = \"https://en.wikipedia.org/wiki/List_of_countries_by_GDP_(nominal)\"\n",
        "tables = pd.read_html(url)\n",
        "df = tables[2]\n",
        "\n",
        "df.columns = ['Country', 'IMF_Forecast', 'IMF_Year', 'WorldBank_Estimate', 'WorldBank_Year', 'UN_Estimate', 'UN_Year']\n",
        "\n",
        "df['IMF_Forecast'] = pd.to_numeric(df['IMF_Forecast'], errors='coerce')\n",
        "df['WorldBank_Estimate'] = pd.to_numeric(df['WorldBank_Estimate'], errors='coerce')\n",
        "df['UN_Estimate'] = pd.to_numeric(df['UN_Estimate'], errors='coerce')\n",
        "\n",
        "# Обчислення кореляції між показниками МВФ, Світового банку та ООН\n",
        "correlation_matrix = df[['IMF_Forecast', 'WorldBank_Estimate', 'UN_Estimate']].corr()\n",
        "\n",
        "print(\"\\nКореляційна матриця між показниками МВФ, Світового банку та ООН:\\n\")\n",
        "print(correlation_matrix)\n",
        "\n",
        "# Знаходження пари змінних з найвищою кореляцією\n",
        "max_corr = correlation_matrix.abs().unstack().sort_values(ascending=False)\n",
        "max_corr = max_corr[max_corr < 1]  # Виключаємо самокореляцію (кореляцію показника з собою)\n",
        "highest_corr_pair = max_corr.idxmax()\n",
        "\n",
        "print(\"\\nПара змінних з найвищою кореляцією:\\n\", highest_corr_pair)\n",
        "print(\"Кореляція між ними:\", max_corr.max())\n"
      ],
      "metadata": {
        "colab": {
          "base_uri": "https://localhost:8080/"
        },
        "id": "e3K6a5nBVZlQ",
        "outputId": "2da6c75f-1021-401f-f38a-597a2a332842"
      },
      "execution_count": null,
      "outputs": [
        {
          "output_type": "stream",
          "name": "stdout",
          "text": [
            "\n",
            "Кореляційна матриця між показниками МВФ, Світового банку та ООН:\n",
            "\n",
            "                    IMF_Forecast  WorldBank_Estimate  UN_Estimate\n",
            "IMF_Forecast            1.000000            0.999987     0.999902\n",
            "WorldBank_Estimate      0.999987            1.000000     0.999932\n",
            "UN_Estimate             0.999902            0.999932     1.000000\n",
            "\n",
            "Пара змінних з найвищою кореляцією:\n",
            " ('IMF_Forecast', 'WorldBank_Estimate')\n",
            "Кореляція між ними: 0.9999871766485534\n"
          ]
        }
      ]
    },
    {
      "cell_type": "markdown",
      "source": [
        "12.Обчисліть середнє значення для кожного стовпця (MVF_2024,\n",
        "WorldBank_2023, OON_2022). Як це середнє значення змінюється між\n",
        "роками?\n"
      ],
      "metadata": {
        "id": "B4Cxn9eJW099"
      }
    },
    {
      "cell_type": "code",
      "source": [
        "# Обчислення середнього значення для кожного стовпця\n",
        "mean_values = df[['IMF_Forecast', 'WorldBank_Estimate', 'UN_Estimate']].mean()\n",
        "print(\"\\nСереднє значення для кожного стовпця:\\n\", mean_values)\n",
        "\n",
        "# Аналіз зміни середніх значень між роками\n",
        "mean_diff_imf_worldbank = mean_values['IMF_Forecast'] - mean_values['WorldBank_Estimate']\n",
        "mean_diff_worldbank_un = mean_values['WorldBank_Estimate'] - mean_values['UN_Estimate']\n",
        "mean_diff_imf_un = mean_values['IMF_Forecast'] - mean_values['UN_Estimate']\n",
        "\n",
        "print(\"\\nЗміна середнього значення між роками:\")\n",
        "print(\"МВФ і Світовий банк:\", mean_diff_imf_worldbank)\n",
        "print(\"Світовий банк і ООН:\", mean_diff_worldbank_un)\n",
        "print(\"МВФ і ООН:\", mean_diff_imf_un)\n",
        "\n"
      ],
      "metadata": {
        "colab": {
          "base_uri": "https://localhost:8080/"
        },
        "id": "cPqLwOxRXShV",
        "outputId": "00f2a51b-2773-4e00-bd28-567ba51caa6c"
      },
      "execution_count": null,
      "outputs": [
        {
          "output_type": "stream",
          "name": "stdout",
          "text": [
            "\n",
            "Середнє значення для кожного стовпця:\n",
            " IMF_Forecast          1.123228e+06\n",
            "WorldBank_Estimate    1.037206e+06\n",
            "UN_Estimate           9.612699e+05\n",
            "dtype: float64\n",
            "\n",
            "Зміна середнього значення між роками:\n",
            "МВФ і Світовий банк: 86021.5188626555\n",
            "Світовий банк і ООН: 75936.31185750151\n",
            "МВФ і ООН: 161957.830720157\n"
          ]
        }
      ]
    },
    {
      "cell_type": "markdown",
      "source": [
        "13.Обчисліть стандартне відхилення показників для кожної країни. Яка\n",
        "країна має найвищу варіативність у показниках між роками?"
      ],
      "metadata": {
        "id": "k2gr6d7bXbYJ"
      }
    },
    {
      "cell_type": "code",
      "source": [
        "# Обчислення стандартного відхилення показників для кожної країни\n",
        "df['Std_Dev'] = df[['IMF_Forecast', 'WorldBank_Estimate', 'UN_Estimate']].std(axis=1)\n",
        "country_highest_variability = df.loc[df['Std_Dev'].idxmax()][['Country', 'Std_Dev']]\n",
        "\n",
        "print(\"\\nКраїна з найвищою варіативністю в показниках між роками:\\n\", country_highest_variability)\n"
      ],
      "metadata": {
        "colab": {
          "base_uri": "https://localhost:8080/"
        },
        "id": "NayY3rrLXaQ-",
        "outputId": "e192091c-61ae-4738-bceb-7583f8435931"
      },
      "execution_count": null,
      "outputs": [
        {
          "output_type": "stream",
          "name": "stdout",
          "text": [
            "\n",
            "Країна з найвищою варіативністю в показниках між роками:\n",
            " Country             World\n",
            "Std_Dev    4349673.698162\n",
            "Name: 0, dtype: object\n"
          ]
        }
      ]
    },
    {
      "cell_type": "markdown",
      "source": [
        "14.Визначення країни з найвищим та найнижчим показниками: Знайдіть\n",
        "країну з найвищим та найнижчим показниками у кожному з років\n",
        "(MVF_2024, WorldBank_2023, OON_2022)."
      ],
      "metadata": {
        "id": "H_0C2ofnXtyO"
      }
    },
    {
      "cell_type": "code",
      "source": [
        "# Визначення країни з найвищим та найнижчим показниками\n",
        "max_imf_country = df.loc[df['IMF_Forecast'].idxmax()]['Country']\n",
        "min_imf_country = df.loc[df['IMF_Forecast'].idxmin()]['Country']\n",
        "\n",
        "max_worldbank_country = df.loc[df['WorldBank_Estimate'].idxmax()]['Country']\n",
        "min_worldbank_country = df.loc[df['WorldBank_Estimate'].idxmin()]['Country']\n",
        "\n",
        "max_un_country = df.loc[df['UN_Estimate'].idxmax()]['Country']\n",
        "min_un_country = df.loc[df['UN_Estimate'].idxmin()]['Country']\n",
        "\n",
        "print(\"\\nКраїни з найвищими та найнижчими показниками у кожному з років:\")\n",
        "print(\"МВФ 2024: Найвищий показник -\", max_imf_country, \", Найнижчий показник -\", min_imf_country)\n",
        "print(\"Світовий банк 2023: Найвищий показник -\", max_worldbank_country, \", Найнижчий показник -\", min_worldbank_country)\n",
        "print(\"ООН 2022: Найвищий показник -\", max_un_country, \", Найнижчий показник -\", min_un_country)"
      ],
      "metadata": {
        "colab": {
          "base_uri": "https://localhost:8080/"
        },
        "id": "6PxdTCgnXuDN",
        "outputId": "8d7900b7-8b75-4782-d4c2-538515011ff9"
      },
      "execution_count": null,
      "outputs": [
        {
          "output_type": "stream",
          "name": "stdout",
          "text": [
            "\n",
            "Країни з найвищими та найнижчими показниками у кожному з років:\n",
            "МВФ 2024: Найвищий показник - World , Найнижчий показник - Tuvalu\n",
            "Світовий банк 2023: Найвищий показник - World , Найнижчий показник - Tuvalu\n",
            "ООН 2022: Найвищий показник - World , Найнижчий показник - Tuvalu\n"
          ]
        }
      ]
    },
    {
      "cell_type": "markdown",
      "source": [
        "15.Побудуйте гістограму для розподілу показників MVF_2024 серед всіх\n",
        "країн. Який вигляд має розподіл? Чи є країни, що виділяються?"
      ],
      "metadata": {
        "id": "EpjMcR3MY88U"
      }
    },
    {
      "cell_type": "code",
      "source": [
        "import pandas as pd\n",
        "import matplotlib.pyplot as plt\n",
        "import seaborn as sns\n",
        "\n",
        "# Завантаження даних з таблиці Вікіпедії\n",
        "df = pd.read_html(\"https://en.wikipedia.org/wiki/List_of_countries_by_GDP_(nominal)\", attrs={\"class\": \"wikitable\"})[0]\n",
        "\n",
        "# Встановлення назв колонок\n",
        "df.columns = ['Country', 'MVF_2024', 'WorldBank_2023', 'OON_2022'] + df.columns[4:].tolist()\n",
        "\n",
        "# Конвертація значень у числові типи для відповідних колонок\n",
        "df['MVF_2024'] = pd.to_numeric(df['MVF_2024'], errors='coerce')\n",
        "\n",
        "# Видалення пропущених значень\n",
        "df = df.dropna(subset=['MVF_2024'])\n",
        "\n",
        "# Побудова гістограми\n",
        "plt.figure(figsize=(10, 6))\n",
        "sns.histplot(df['MVF_2024'], bins=30, kde=True, color='skyblue')\n",
        "\n",
        "# Додавання заголовку та підписів осей\n",
        "plt.title('Розподіл показників MVF_2024 серед країн')\n",
        "plt.xlabel('MVF_2024')\n",
        "plt.ylabel('Кількість країн')\n",
        "\n",
        "# Показ графіка\n",
        "plt.show()\n"
      ],
      "metadata": {
        "colab": {
          "base_uri": "https://localhost:8080/",
          "height": 564
        },
        "id": "XuE7IoUUY4rI",
        "outputId": "a34aa435-6f89-4edc-83b4-e991916dc6c1"
      },
      "execution_count": null,
      "outputs": [
        {
          "output_type": "display_data",
          "data": {
            "text/plain": [
              "<Figure size 1000x600 with 1 Axes>"
            ],
            "image/png": "[encoded data removed]"
          },
          "metadata": {}
        }
      ]
    },
    {
      "cell_type": "markdown",
      "source": [
        "16.Розрахуйте частку кожної країни в загальному значенні для кожного\n",
        "року (MVF_2024, WorldBank_2023, OON_2022). Як змінюються частки\n",
        "країн з часом (дати відповідь)?"
      ],
      "metadata": {
        "id": "rTioNzSlZA23"
      }
    },
    {
      "cell_type": "code",
      "source": [
        "import pandas as pd\n",
        "\n",
        "# Завантаження даних з таблиці Вікіпедії\n",
        "df = pd.read_html(\"https://en.wikipedia.org/wiki/List_of_countries_by_GDP_(nominal)\", attrs={\"class\": \"wikitable\"})[0]\n",
        "\n",
        "# Встановлення назв колонок\n",
        "df.columns = ['Country', 'MVF_2024', 'WorldBank_2023', 'OON_2022'] + df.columns[4:].tolist()\n",
        "\n",
        "# Конвертація значень у числові типи для відповідних колонок\n",
        "df[['MVF_2024', 'WorldBank_2023', 'OON_2022']] = df[['MVF_2024', 'WorldBank_2023', 'OON_2022']].apply(pd.to_numeric, errors='coerce')\n",
        "\n",
        "# Обчислення частки кожної країни в загальному значенні для кожного року\n",
        "df['MVF_2024_Share'] = df['MVF_2024'] / df['MVF_2024'].sum()\n",
        "df['WorldBank_2023_Share'] = df['WorldBank_2023'] / df['WorldBank_2023'].sum()\n",
        "df['OON_2022_Share'] = df['OON_2022'] / df['OON_2022'].sum()\n",
        "\n",
        "# Виведення часток для кожного року\n",
        "shares = df[['Country', 'MVF_2024_Share', 'WorldBank_2023_Share', 'OON_2022_Share']]\n",
        "\n",
        "print(\"Для кожного року:\")\n",
        "print(shares.head())\n",
        "\n",
        "# Зміна часток країн з часом\n",
        "shares = df.set_index('Country')[['MVF_2024_Share', 'WorldBank_2023_Share', 'OON_2022_Share']]\n",
        "\n",
        "print(\"\\nЗміна часток країн з часом:\")\n",
        "print(shares.head())\n",
        "\n"
      ],
      "metadata": {
        "id": "S2k5OCkiZNth",
        "outputId": "2a72d5e3-3714-4eb1-dfbd-6f665811ad45",
        "colab": {
          "base_uri": "https://localhost:8080/"
        }
      },
      "execution_count": 2,
      "outputs": [
        {
          "output_type": "stream",
          "name": "stdout",
          "text": [
            "Для кожного року:\n",
            "         Country  MVF_2024_Share  WorldBank_2023_Share  OON_2022_Share\n",
            "0          World        0.500066              0.005376        0.503235\n",
            "1  United States        0.131403              0.005376        0.130591\n",
            "2          China        0.084613                   NaN        0.084933\n",
            "3        Germany        0.020961              0.005376        0.021268\n",
            "4          Japan        0.018767              0.005376        0.020108\n",
            "\n",
            "Зміна часток країн з часом:\n",
            "               MVF_2024_Share  WorldBank_2023_Share  OON_2022_Share\n",
            "Country                                                            \n",
            "World                0.500066              0.005376        0.503235\n",
            "United States        0.131403              0.005376        0.130591\n",
            "China                0.084613                   NaN        0.084933\n",
            "Germany              0.020961              0.005376        0.021268\n",
            "Japan                0.018767              0.005376        0.020108\n"
          ]
        }
      ]
    },
    {
      "cell_type": "markdown",
      "source": [
        "17.Візуалізуйте зміни в показниках для кожної країни за три роки на\n",
        "графіку. Які країни показують стабільне зростання або спад (дати\n",
        "відповідь)?"
      ],
      "metadata": {
        "id": "T2FcgSviIJ_d"
      }
    },
    {
      "cell_type": "code",
      "source": [
        "import pandas as pd\n",
        "import matplotlib.pyplot as plt\n",
        "\n",
        "df = pd.read_html(\"https://en.wikipedia.org/wiki/List_of_countries_by_GDP_(nominal)\", attrs={\"class\": \"wikitable\"})[0]\n",
        "df.columns = ['Country', 'MVF_2024', 'WorldBank_2023', 'OON_2022'] + df.columns[4:].tolist()\n",
        "\n",
        "df[['MVF_2024', 'WorldBank_2023', 'OON_2022']] = df[['MVF_2024', 'WorldBank_2023', 'OON_2022']].apply(pd.to_numeric, errors='coerce')\n",
        "df = df.dropna(subset=['MVF_2024', 'WorldBank_2023', 'OON_2022'])\n",
        "\n",
        "df_melted = df.melt(id_vars=['Country'], value_vars=['MVF_2024', 'WorldBank_2023', 'OON_2022'],\n",
        "                    var_name='Year', value_name='GDP')\n",
        "\n",
        "# Створення лінійного графіка для кожної країни\n",
        "plt.figure(figsize=(14, 8))\n",
        "\n",
        "for country in df['Country']:\n",
        "    country_data = df_melted[df_melted['Country'] == country]\n",
        "    plt.plot(country_data['Year'], country_data['GDP'], marker='o', label=country)\n",
        "\n",
        "plt.title('Зміни в показниках ВВП для кожної країни за 2022-2024 роки')\n",
        "plt.xlabel('Рік')\n",
        "plt.ylabel('ВВП (номінал)')\n",
        "plt.xticks(rotation=45)\n",
        "plt.grid(True)\n",
        "\n",
        "plt.tight_layout()\n",
        "plt.show()\n",
        "\n",
        "# Ідентифікація країн зі стабільним зростанням або спадом\n",
        "stable_growth = []\n",
        "stable_decline = []\n",
        "\n",
        "for index, row in df.iterrows():\n",
        "    if row['MVF_2024'] > row['WorldBank_2023'] > row['OON_2022']:\n",
        "        stable_growth.append(row['Country'])\n",
        "    elif row['MVF_2024'] < row['WorldBank_2023'] < row['OON_2022']:\n",
        "        stable_decline.append(row['Country'])\n",
        "\n",
        "print(\"Країни зі стабільним зростанням ВВП:\")\n",
        "print(stable_growth)\n",
        "\n",
        "print(\"\\nКраїни зі стабільним спадом ВВП:\")\n",
        "print(stable_decline)"
      ],
      "metadata": {
        "colab": {
          "base_uri": "https://localhost:8080/",
          "height": 865
        },
        "id": "8jJ_JB1nIk-U",
        "outputId": "6177cc0e-e117-4df2-f361-14f1b16a5951"
      },
      "execution_count": 4,
      "outputs": [
        {
          "output_type": "display_data",
          "data": {
            "text/plain": [
              "<Figure size 1400x800 with 1 Axes>"
            ],
            "image/png": "[encoded data removed]"
          },
          "metadata": {}
        },
        {
          "output_type": "stream",
          "name": "stdout",
          "text": [
            "Країни зі стабільним зростанням ВВП:\n",
            "['Guinea-Bissau', 'San Marino']\n",
            "\n",
            "Країни зі стабільним спадом ВВП:\n",
            "['East Timor']\n"
          ]
        }
      ]
    },
    {
      "cell_type": "markdown",
      "source": [
        "**Висновок:** я згадала, як працювати із даними з таблиці, змогла зробити обчислення стандартного відхилення, часток у світовому ВВП та візуалізації, змогла виявити країни зі стабільним зростанням, спадом. Також відкрила для себе tabulate для поркращення вигляду таблиці"
      ],
      "metadata": {
        "id": "uEtDDBtsJf3c"
      }
    },
    {
      "cell_type": "markdown",
      "source": [
        "# Завдання 2.\n",
        "Завантажити датасет Титанік з Kaggle (або\n",
        "використовуйте вже завантажений файл titanic.csv)\n",
        "Виконати попередній аналіз даних.\n"
      ],
      "metadata": {
        "id": "n80if_G1J3m4"
      }
    },
    {
      "cell_type": "markdown",
      "source": [
        "1. Вивести перших 5 рядків"
      ],
      "metadata": {
        "id": "JK2gV51yKD3Q"
      }
    },
    {
      "cell_type": "code",
      "source": [
        "import pandas as pd\n",
        "\n",
        "from google.colab import files\n",
        "uploaded = files.upload()"
      ],
      "metadata": {
        "colab": {
          "base_uri": "https://localhost:8080/",
          "height": 73
        },
        "id": "QCAulwALLbTZ",
        "outputId": "b1df8f6e-a2f0-49ce-b2ef-22aeea65ce72"
      },
      "execution_count": 6,
      "outputs": [
        {
          "output_type": "display_data",
          "data": {
            "text/plain": [
              "<IPython.core.display.HTML object>"
            ],
            "text/html": [
              "\n",
              "     <input type=\"file\" id=\"files-88cc7788-f6f8-40fe-b617-42656017c115\" name=\"files[]\" multiple disabled\n",
              "        style=\"border:none\" />\n",
              "     <output id=\"result-88cc7788-f6f8-40fe-b617-42656017c115\">\n",
              "      Upload widget is only available when the cell has been executed in the\n",
              "      current browser session. Please rerun this cell to enable.\n",
              "      </output>\n",
              "      <script>// Copyright 2017 Google LLC\n",
              "//\n",
              "// Licensed under the Apache License, Version 2.0 (the \"License\");\n",
              "// you may not use this file except in compliance with the License.\n",
              "// You may obtain a copy of the License at\n",
              "//\n",
              "//      http://www.apache.org/licenses/LICENSE-2.0\n",
              "//\n",
              "// Unless required by applicable law or agreed to in writing, software\n",
              "// distributed under the License is distributed on an \"AS IS\" BASIS,\n",
              "// WITHOUT WARRANTIES OR CONDITIONS OF ANY KIND, either express or implied.\n",
              "// See the License for the specific language governing permissions and\n",
              "// limitations under the License.\n",
              "\n",
              "/**\n",
              " * @fileoverview Helpers for google.colab Python module.\n",
              " */\n",
              "(function(scope) {\n",
              "function span(text, styleAttributes = {}) {\n",
              "  const element = document.createElement('span');\n",
              "  element.textContent = text;\n",
              "  for (const key of Object.keys(styleAttributes)) {\n",
              "    element.style[key] = styleAttributes[key];\n",
              "  }\n",
              "  return element;\n",
              "}\n",
              "\n",
              "// Max number of bytes which will be uploaded at a time.\n",
              "const MAX_PAYLOAD_SIZE = 100 * 1024;\n",
              "\n",
              "function _uploadFiles(inputId, outputId) {\n",
              "  const steps = uploadFilesStep(inputId, outputId);\n",
              "  const outputElement = document.getElementById(outputId);\n",
              "  // Cache steps on the outputElement to make it available for the next call\n",
              "  // to uploadFilesContinue from Python.\n",
              "  outputElement.steps = steps;\n",
              "\n",
              "  return _uploadFilesContinue(outputId);\n",
              "}\n",
              "\n",
              "// This is roughly an async generator (not supported in the browser yet),\n",
              "// where there are multiple asynchronous steps and the Python side is going\n",
              "// to poll for completion of each step.\n",
              "// This uses a Promise to block the python side on completion of each step,\n",
              "// then passes the result of the previous step as the input to the next step.\n",
              "function _uploadFilesContinue(outputId) {\n",
              "  const outputElement = document.getElementById(outputId);\n",
              "  const steps = outputElement.steps;\n",
              "\n",
              "  const next = steps.next(outputElement.lastPromiseValue);\n",
              "  return Promise.resolve(next.value.promise).then((value) => {\n",
              "    // Cache the last promise value to make it available to the next\n",
              "    // step of the generator.\n",
              "    outputElement.lastPromiseValue = value;\n",
              "    return next.value.response;\n",
              "  });\n",
              "}\n",
              "\n",
              "/**\n",
              " * Generator function which is called between each async step of the upload\n",
              " * process.\n",
              " * @param {string} inputId Element ID of the input file picker element.\n",
              " * @param {string} outputId Element ID of the output display.\n",
              " * @return {!Iterable<!Object>} Iterable of next steps.\n",
              " */\n",
              "function* uploadFilesStep(inputId, outputId) {\n",
              "  const inputElement = document.getElementById(inputId);\n",
              "  inputElement.disabled = false;\n",
              "\n",
              "  const outputElement = document.getElementById(outputId);\n",
              "  outputElement.innerHTML = '';\n",
              "\n",
              "  const pickedPromise = new Promise((resolve) => {\n",
              "    inputElement.addEventListener('change', (e) => {\n",
              "      resolve(e.target.files);\n",
              "    });\n",
              "  });\n",
              "\n",
              "  const cancel = document.createElement('button');\n",
              "  inputElement.parentElement.appendChild(cancel);\n",
              "  cancel.textContent = 'Cancel upload';\n",
              "  const cancelPromise = new Promise((resolve) => {\n",
              "    cancel.onclick = () => {\n",
              "      resolve(null);\n",
              "    };\n",
              "  });\n",
              "\n",
              "  // Wait for the user to pick the files.\n",
              "  const files = yield {\n",
              "    promise: Promise.race([pickedPromise, cancelPromise]),\n",
              "    response: {\n",
              "      action: 'starting',\n",
              "    }\n",
              "  };\n",
              "\n",
              "  cancel.remove();\n",
              "\n",
              "  // Disable the input element since further picks are not allowed.\n",
              "  inputElement.disabled = true;\n",
              "\n",
              "  if (!files) {\n",
              "    return {\n",
              "      response: {\n",
              "        action: 'complete',\n",
              "      }\n",
              "    };\n",
              "  }\n",
              "\n",
              "  for (const file of files) {\n",
              "    const li = document.createElement('li');\n",
              "    li.append(span(file.name, {fontWeight: 'bold'}));\n",
              "    li.append(span(\n",
              "        `(${file.type || 'n/a'}) - ${file.size} bytes, ` +\n",
              "        `last modified: ${\n",
              "            file.lastModifiedDate ? file.lastModifiedDate.toLocaleDateString() :\n",
              "                                    'n/a'} - `));\n",
              "    const percent = span('0% done');\n",
              "    li.appendChild(percent);\n",
              "\n",
              "    outputElement.appendChild(li);\n",
              "\n",
              "    const fileDataPromise = new Promise((resolve) => {\n",
              "      const reader = new FileReader();\n",
              "      reader.onload = (e) => {\n",
              "        resolve(e.target.result);\n",
              "      };\n",
              "      reader.readAsArrayBuffer(file);\n",
              "    });\n",
              "    // Wait for the data to be ready.\n",
              "    let fileData = yield {\n",
              "      promise: fileDataPromise,\n",
              "      response: {\n",
              "        action: 'continue',\n",
              "      }\n",
              "    };\n",
              "\n",
              "    // Use a chunked sending to avoid message size limits. See b/62115660.\n",
              "    let position = 0;\n",
              "    do {\n",
              "      const length = Math.min(fileData.byteLength - position, MAX_PAYLOAD_SIZE);\n",
              "      const chunk = new Uint8Array(fileData, position, length);\n",
              "      position += length;\n",
              "\n",
              "      const base64 = btoa(String.fromCharCode.apply(null, chunk));\n",
              "      yield {\n",
              "        response: {\n",
              "          action: 'append',\n",
              "          file: file.name,\n",
              "          data: base64,\n",
              "        },\n",
              "      };\n",
              "\n",
              "      let percentDone = fileData.byteLength === 0 ?\n",
              "          100 :\n",
              "          Math.round((position / fileData.byteLength) * 100);\n",
              "      percent.textContent = `${percentDone}% done`;\n",
              "\n",
              "    } while (position < fileData.byteLength);\n",
              "  }\n",
              "\n",
              "  // All done.\n",
              "  yield {\n",
              "    response: {\n",
              "      action: 'complete',\n",
              "    }\n",
              "  };\n",
              "}\n",
              "\n",
              "scope.google = scope.google || {};\n",
              "scope.google.colab = scope.google.colab || {};\n",
              "scope.google.colab._files = {\n",
              "  _uploadFiles,\n",
              "  _uploadFilesContinue,\n",
              "};\n",
              "})(self);\n",
              "</script> "
            ]
          },
          "metadata": {}
        },
        {
          "output_type": "stream",
          "name": "stdout",
          "text": [
            "Saving titanic.csv to titanic.csv\n"
          ]
        }
      ]
    },
    {
      "cell_type": "code",
      "source": [
        "с\n",
        "\n",
        "print(\"Перші 5 рядків датасету:\")\n",
        "df.head()"
      ],
      "metadata": {
        "colab": {
          "base_uri": "https://localhost:8080/",
          "height": 223
        },
        "id": "RLwJ-Op6L79t",
        "outputId": "c43ed53e-4b76-442b-fb99-68ebad39c3bc"
      },
      "execution_count": 7,
      "outputs": [
        {
          "output_type": "stream",
          "name": "stdout",
          "text": [
            "Перші 5 рядків датасету:\n"
          ]
        },
        {
          "output_type": "execute_result",
          "data": {
            "text/plain": [
              "   PassengerId  Survived  Pclass  \\\n",
              "0          892         0       3   \n",
              "1          893         1       3   \n",
              "2          894         0       2   \n",
              "3          895         0       3   \n",
              "4          896         1       3   \n",
              "\n",
              "                                           Name     Sex   Age  SibSp  Parch  \\\n",
              "0                              Kelly, Mr. James    male  34.5      0      0   \n",
              "1              Wilkes, Mrs. James (Ellen Needs)  female  47.0      1      0   \n",
              "2                     Myles, Mr. Thomas Francis    male  62.0      0      0   \n",
              "3                              Wirz, Mr. Albert    male  27.0      0      0   \n",
              "4  Hirvonen, Mrs. Alexander (Helga E Lindqvist)  female  22.0      1      1   \n",
              "\n",
              "    Ticket     Fare Cabin Embarked  \n",
              "0   330911   7.8292   NaN        Q  \n",
              "1   363272   7.0000   NaN        S  \n",
              "2   240276   9.6875   NaN        Q  \n",
              "3   315154   8.6625   NaN        S  \n",
              "4  3101298  12.2875   NaN        S  "
            ],
            "text/html": [
              "\n",
              "  <div id=\"df-864801c1-772c-49ec-911b-4516f444d9cc\" class=\"colab-df-container\">\n",
              "    <div>\n",
              "<style scoped>\n",
              "    .dataframe tbody tr th:only-of-type {\n",
              "        vertical-align: middle;\n",
              "    }\n",
              "\n",
              "    .dataframe tbody tr th {\n",
              "        vertical-align: top;\n",
              "    }\n",
              "\n",
              "    .dataframe thead th {\n",
              "        text-align: right;\n",
              "    }\n",
              "</style>\n",
              "<table border=\"1\" class=\"dataframe\">\n",
              "  <thead>\n",
              "    <tr style=\"text-align: right;\">\n",
              "      <th></th>\n",
              "      <th>PassengerId</th>\n",
              "      <th>Survived</th>\n",
              "      <th>Pclass</th>\n",
              "      <th>Name</th>\n",
              "      <th>Sex</th>\n",
              "      <th>Age</th>\n",
              "      <th>SibSp</th>\n",
              "      <th>Parch</th>\n",
              "      <th>Ticket</th>\n",
              "      <th>Fare</th>\n",
              "      <th>Cabin</th>\n",
              "      <th>Embarked</th>\n",
              "    </tr>\n",
              "  </thead>\n",
              "  <tbody>\n",
              "    <tr>\n",
              "      <th>0</th>\n",
              "      <td>892</td>\n",
              "      <td>0</td>\n",
              "      <td>3</td>\n",
              "      <td>Kelly, Mr. James</td>\n",
              "      <td>male</td>\n",
              "      <td>34.5</td>\n",
              "      <td>0</td>\n",
              "      <td>0</td>\n",
              "      <td>330911</td>\n",
              "      <td>7.8292</td>\n",
              "      <td>NaN</td>\n",
              "      <td>Q</td>\n",
              "    </tr>\n",
              "    <tr>\n",
              "      <th>1</th>\n",
              "      <td>893</td>\n",
              "      <td>1</td>\n",
              "      <td>3</td>\n",
              "      <td>Wilkes, Mrs. James (Ellen Needs)</td>\n",
              "      <td>female</td>\n",
              "      <td>47.0</td>\n",
              "      <td>1</td>\n",
              "      <td>0</td>\n",
              "      <td>363272</td>\n",
              "      <td>7.0000</td>\n",
              "      <td>NaN</td>\n",
              "      <td>S</td>\n",
              "    </tr>\n",
              "    <tr>\n",
              "      <th>2</th>\n",
              "      <td>894</td>\n",
              "      <td>0</td>\n",
              "      <td>2</td>\n",
              "      <td>Myles, Mr. Thomas Francis</td>\n",
              "      <td>male</td>\n",
              "      <td>62.0</td>\n",
              "      <td>0</td>\n",
              "      <td>0</td>\n",
              "      <td>240276</td>\n",
              "      <td>9.6875</td>\n",
              "      <td>NaN</td>\n",
              "      <td>Q</td>\n",
              "    </tr>\n",
              "    <tr>\n",
              "      <th>3</th>\n",
              "      <td>895</td>\n",
              "      <td>0</td>\n",
              "      <td>3</td>\n",
              "      <td>Wirz, Mr. Albert</td>\n",
              "      <td>male</td>\n",
              "      <td>27.0</td>\n",
              "      <td>0</td>\n",
              "      <td>0</td>\n",
              "      <td>315154</td>\n",
              "      <td>8.6625</td>\n",
              "      <td>NaN</td>\n",
              "      <td>S</td>\n",
              "    </tr>\n",
              "    <tr>\n",
              "      <th>4</th>\n",
              "      <td>896</td>\n",
              "      <td>1</td>\n",
              "      <td>3</td>\n",
              "      <td>Hirvonen, Mrs. Alexander (Helga E Lindqvist)</td>\n",
              "      <td>female</td>\n",
              "      <td>22.0</td>\n",
              "      <td>1</td>\n",
              "      <td>1</td>\n",
              "      <td>3101298</td>\n",
              "      <td>12.2875</td>\n",
              "      <td>NaN</td>\n",
              "      <td>S</td>\n",
              "    </tr>\n",
              "  </tbody>\n",
              "</table>\n",
              "</div>\n",
              "    <div class=\"colab-df-buttons\">\n",
              "\n",
              "  <div class=\"colab-df-container\">\n",
              "    <button class=\"colab-df-convert\" onclick=\"convertToInteractive('df-864801c1-772c-49ec-911b-4516f444d9cc')\"\n",
              "            title=\"Convert this dataframe to an interactive table.\"\n",
              "            style=\"display:none;\">\n",
              "\n",
              "  <svg xmlns=\"http://www.w3.org/2000/svg\" height=\"24px\" viewBox=\"0 -960 960 960\">\n",
              "    <path d=\"M120-120v-720h720v720H120Zm60-500h600v-160H180v160Zm220 220h160v-160H400v160Zm0 220h160v-160H400v160ZM180-400h160v-160H180v160Zm440 0h160v-160H620v160ZM180-180h160v-160H180v160Zm440 0h160v-160H620v160Z\"/>\n",
              "  </svg>\n",
              "    </button>\n",
              "\n",
              "  <style>\n",
              "    .colab-df-container {\n",
              "      display:flex;\n",
              "      gap: 12px;\n",
              "    }\n",
              "\n",
              "    .colab-df-convert {\n",
              "      background-color: #E8F0FE;\n",
              "      border: none;\n",
              "      border-radius: 50%;\n",
              "      cursor: pointer;\n",
              "      display: none;\n",
              "      fill: #1967D2;\n",
              "      height: 32px;\n",
              "      padding: 0 0 0 0;\n",
              "      width: 32px;\n",
              "    }\n",
              "\n",
              "    .colab-df-convert:hover {\n",
              "      background-color: #E2EBFA;\n",
              "      box-shadow: 0px 1px 2px rgba(60, 64, 67, 0.3), 0px 1px 3px 1px rgba(60, 64, 67, 0.15);\n",
              "      fill: #174EA6;\n",
              "    }\n",
              "\n",
              "    .colab-df-buttons div {\n",
              "      margin-bottom: 4px;\n",
              "    }\n",
              "\n",
              "    [theme=dark] .colab-df-convert {\n",
              "      background-color: #3B4455;\n",
              "      fill: #D2E3FC;\n",
              "    }\n",
              "\n",
              "    [theme=dark] .colab-df-convert:hover {\n",
              "      background-color: #434B5C;\n",
              "      box-shadow: 0px 1px 3px 1px rgba(0, 0, 0, 0.15);\n",
              "      filter: drop-shadow(0px 1px 2px rgba(0, 0, 0, 0.3));\n",
              "      fill: #FFFFFF;\n",
              "    }\n",
              "  </style>\n",
              "\n",
              "    <script>\n",
              "      const buttonEl =\n",
              "        document.querySelector('#df-864801c1-772c-49ec-911b-4516f444d9cc button.colab-df-convert');\n",
              "      buttonEl.style.display =\n",
              "        google.colab.kernel.accessAllowed ? 'block' : 'none';\n",
              "\n",
              "      async function convertToInteractive(key) {\n",
              "        const element = document.querySelector('#df-864801c1-772c-49ec-911b-4516f444d9cc');\n",
              "        const dataTable =\n",
              "          await google.colab.kernel.invokeFunction('convertToInteractive',\n",
              "                                                    [key], {});\n",
              "        if (!dataTable) return;\n",
              "\n",
              "        const docLinkHtml = 'Like what you see? Visit the ' +\n",
              "          '<a target=\"_blank\" href=https://colab.research.google.com/notebooks/data_table.ipynb>data table notebook</a>'\n",
              "          + ' to learn more about interactive tables.';\n",
              "        element.innerHTML = '';\n",
              "        dataTable['output_type'] = 'display_data';\n",
              "        await google.colab.output.renderOutput(dataTable, element);\n",
              "        const docLink = document.createElement('div');\n",
              "        docLink.innerHTML = docLinkHtml;\n",
              "        element.appendChild(docLink);\n",
              "      }\n",
              "    </script>\n",
              "  </div>\n",
              "\n",
              "\n",
              "<div id=\"df-27b73356-0774-4613-a780-ebf24f51052d\">\n",
              "  <button class=\"colab-df-quickchart\" onclick=\"quickchart('df-27b73356-0774-4613-a780-ebf24f51052d')\"\n",
              "            title=\"Suggest charts\"\n",
              "            style=\"display:none;\">\n",
              "\n",
              "<svg xmlns=\"http://www.w3.org/2000/svg\" height=\"24px\"viewBox=\"0 0 24 24\"\n",
              "     width=\"24px\">\n",
              "    <g>\n",
              "        <path d=\"M19 3H5c-1.1 0-2 .9-2 2v14c0 1.1.9 2 2 2h14c1.1 0 2-.9 2-2V5c0-1.1-.9-2-2-2zM9 17H7v-7h2v7zm4 0h-2V7h2v10zm4 0h-2v-4h2v4z\"/>\n",
              "    </g>\n",
              "</svg>\n",
              "  </button>\n",
              "\n",
              "<style>\n",
              "  .colab-df-quickchart {\n",
              "      --bg-color: #E8F0FE;\n",
              "      --fill-color: #1967D2;\n",
              "      --hover-bg-color: #E2EBFA;\n",
              "      --hover-fill-color: #174EA6;\n",
              "      --disabled-fill-color: #AAA;\n",
              "      --disabled-bg-color: #DDD;\n",
              "  }\n",
              "\n",
              "  [theme=dark] .colab-df-quickchart {\n",
              "      --bg-color: #3B4455;\n",
              "      --fill-color: #D2E3FC;\n",
              "      --hover-bg-color: #434B5C;\n",
              "      --hover-fill-color: #FFFFFF;\n",
              "      --disabled-bg-color: #3B4455;\n",
              "      --disabled-fill-color: #666;\n",
              "  }\n",
              "\n",
              "  .colab-df-quickchart {\n",
              "    background-color: var(--bg-color);\n",
              "    border: none;\n",
              "    border-radius: 50%;\n",
              "    cursor: pointer;\n",
              "    display: none;\n",
              "    fill: var(--fill-color);\n",
              "    height: 32px;\n",
              "    padding: 0;\n",
              "    width: 32px;\n",
              "  }\n",
              "\n",
              "  .colab-df-quickchart:hover {\n",
              "    background-color: var(--hover-bg-color);\n",
              "    box-shadow: 0 1px 2px rgba(60, 64, 67, 0.3), 0 1px 3px 1px rgba(60, 64, 67, 0.15);\n",
              "    fill: var(--button-hover-fill-color);\n",
              "  }\n",
              "\n",
              "  .colab-df-quickchart-complete:disabled,\n",
              "  .colab-df-quickchart-complete:disabled:hover {\n",
              "    background-color: var(--disabled-bg-color);\n",
              "    fill: var(--disabled-fill-color);\n",
              "    box-shadow: none;\n",
              "  }\n",
              "\n",
              "  .colab-df-spinner {\n",
              "    border: 2px solid var(--fill-color);\n",
              "    border-color: transparent;\n",
              "    border-bottom-color: var(--fill-color);\n",
              "    animation:\n",
              "      spin 1s steps(1) infinite;\n",
              "  }\n",
              "\n",
              "  @keyframes spin {\n",
              "    0% {\n",
              "      border-color: transparent;\n",
              "      border-bottom-color: var(--fill-color);\n",
              "      border-left-color: var(--fill-color);\n",
              "    }\n",
              "    20% {\n",
              "      border-color: transparent;\n",
              "      border-left-color: var(--fill-color);\n",
              "      border-top-color: var(--fill-color);\n",
              "    }\n",
              "    30% {\n",
              "      border-color: transparent;\n",
              "      border-left-color: var(--fill-color);\n",
              "      border-top-color: var(--fill-color);\n",
              "      border-right-color: var(--fill-color);\n",
              "    }\n",
              "    40% {\n",
              "      border-color: transparent;\n",
              "      border-right-color: var(--fill-color);\n",
              "      border-top-color: var(--fill-color);\n",
              "    }\n",
              "    60% {\n",
              "      border-color: transparent;\n",
              "      border-right-color: var(--fill-color);\n",
              "    }\n",
              "    80% {\n",
              "      border-color: transparent;\n",
              "      border-right-color: var(--fill-color);\n",
              "      border-bottom-color: var(--fill-color);\n",
              "    }\n",
              "    90% {\n",
              "      border-color: transparent;\n",
              "      border-bottom-color: var(--fill-color);\n",
              "    }\n",
              "  }\n",
              "</style>\n",
              "\n",
              "  <script>\n",
              "    async function quickchart(key) {\n",
              "      const quickchartButtonEl =\n",
              "        document.querySelector('#' + key + ' button');\n",
              "      quickchartButtonEl.disabled = true;  // To prevent multiple clicks.\n",
              "      quickchartButtonEl.classList.add('colab-df-spinner');\n",
              "      try {\n",
              "        const charts = await google.colab.kernel.invokeFunction(\n",
              "            'suggestCharts', [key], {});\n",
              "      } catch (error) {\n",
              "        console.error('Error during call to suggestCharts:', error);\n",
              "      }\n",
              "      quickchartButtonEl.classList.remove('colab-df-spinner');\n",
              "      quickchartButtonEl.classList.add('colab-df-quickchart-complete');\n",
              "    }\n",
              "    (() => {\n",
              "      let quickchartButtonEl =\n",
              "        document.querySelector('#df-27b73356-0774-4613-a780-ebf24f51052d button');\n",
              "      quickchartButtonEl.style.display =\n",
              "        google.colab.kernel.accessAllowed ? 'block' : 'none';\n",
              "    })();\n",
              "  </script>\n",
              "</div>\n",
              "    </div>\n",
              "  </div>\n"
            ],
            "application/vnd.google.colaboratory.intrinsic+json": {
              "type": "dataframe",
              "variable_name": "df",
              "summary": "{\n  \"name\": \"df\",\n  \"rows\": 418,\n  \"fields\": [\n    {\n      \"column\": \"PassengerId\",\n      \"properties\": {\n        \"dtype\": \"number\",\n        \"std\": 120,\n        \"min\": 892,\n        \"max\": 1309,\n        \"num_unique_values\": 418,\n        \"samples\": [\n          1213,\n          1216,\n          1280\n        ],\n        \"semantic_type\": \"\",\n        \"description\": \"\"\n      }\n    },\n    {\n      \"column\": \"Survived\",\n      \"properties\": {\n        \"dtype\": \"number\",\n        \"std\": 0,\n        \"min\": 0,\n        \"max\": 1,\n        \"num_unique_values\": 2,\n        \"samples\": [\n          1,\n          0\n        ],\n        \"semantic_type\": \"\",\n        \"description\": \"\"\n      }\n    },\n    {\n      \"column\": \"Pclass\",\n      \"properties\": {\n        \"dtype\": \"number\",\n        \"std\": 0,\n        \"min\": 1,\n        \"max\": 3,\n        \"num_unique_values\": 3,\n        \"samples\": [\n          3,\n          2\n        ],\n        \"semantic_type\": \"\",\n        \"description\": \"\"\n      }\n    },\n    {\n      \"column\": \"Name\",\n      \"properties\": {\n        \"dtype\": \"string\",\n        \"num_unique_values\": 418,\n        \"samples\": [\n          \"Krekorian, Mr. Neshan\",\n          \"Kreuchen, Miss. Emilie\"\n        ],\n        \"semantic_type\": \"\",\n        \"description\": \"\"\n      }\n    },\n    {\n      \"column\": \"Sex\",\n      \"properties\": {\n        \"dtype\": \"category\",\n        \"num_unique_values\": 2,\n        \"samples\": [\n          \"female\",\n          \"male\"\n        ],\n        \"semantic_type\": \"\",\n        \"description\": \"\"\n      }\n    },\n    {\n      \"column\": \"Age\",\n      \"properties\": {\n        \"dtype\": \"number\",\n        \"std\": 14.181209235624422,\n        \"min\": 0.17,\n        \"max\": 76.0,\n        \"num_unique_values\": 79,\n        \"samples\": [\n          10.0,\n          34.5\n        ],\n        \"semantic_type\": \"\",\n        \"description\": \"\"\n      }\n    },\n    {\n      \"column\": \"SibSp\",\n      \"properties\": {\n        \"dtype\": \"number\",\n        \"std\": 0,\n        \"min\": 0,\n        \"max\": 8,\n        \"num_unique_values\": 7,\n        \"samples\": [\n          0,\n          1\n        ],\n        \"semantic_type\": \"\",\n        \"description\": \"\"\n      }\n    },\n    {\n      \"column\": \"Parch\",\n      \"properties\": {\n        \"dtype\": \"number\",\n        \"std\": 0,\n        \"min\": 0,\n        \"max\": 9,\n        \"num_unique_values\": 8,\n        \"samples\": [\n          1,\n          6\n        ],\n        \"semantic_type\": \"\",\n        \"description\": \"\"\n      }\n    },\n    {\n      \"column\": \"Ticket\",\n      \"properties\": {\n        \"dtype\": \"string\",\n        \"num_unique_values\": 363,\n        \"samples\": [\n          \"2673\",\n          \"W./C. 6607\"\n        ],\n        \"semantic_type\": \"\",\n        \"description\": \"\"\n      }\n    },\n    {\n      \"column\": \"Fare\",\n      \"properties\": {\n        \"dtype\": \"number\",\n        \"std\": 55.907576179973844,\n        \"min\": 0.0,\n        \"max\": 512.3292,\n        \"num_unique_values\": 169,\n        \"samples\": [\n          41.5792,\n          57.75\n        ],\n        \"semantic_type\": \"\",\n        \"description\": \"\"\n      }\n    },\n    {\n      \"column\": \"Cabin\",\n      \"properties\": {\n        \"dtype\": \"category\",\n        \"num_unique_values\": 76,\n        \"samples\": [\n          \"A21\",\n          \"E45\"\n        ],\n        \"semantic_type\": \"\",\n        \"description\": \"\"\n      }\n    },\n    {\n      \"column\": \"Embarked\",\n      \"properties\": {\n        \"dtype\": \"category\",\n        \"num_unique_values\": 3,\n        \"samples\": [\n          \"Q\",\n          \"S\"\n        ],\n        \"semantic_type\": \"\",\n        \"description\": \"\"\n      }\n    }\n  ]\n}"
            }
          },
          "metadata": {},
          "execution_count": 7
        }
      ]
    },
    {
      "cell_type": "markdown",
      "source": [
        "2. Визначити розмір датасета."
      ],
      "metadata": {
        "id": "7dLA9einL_8q"
      }
    },
    {
      "cell_type": "code",
      "source": [
        "rows, columns = df.shape\n",
        "print(f\"Розмір датасету: {rows} рядків і {columns} стовпців\")"
      ],
      "metadata": {
        "colab": {
          "base_uri": "https://localhost:8080/"
        },
        "id": "cyUWqWsZMCmJ",
        "outputId": "9e326ae4-5736-460e-a57e-2b044c104686"
      },
      "execution_count": 8,
      "outputs": [
        {
          "output_type": "stream",
          "name": "stdout",
          "text": [
            "Розмір датасету: 418 рядків і 12 стовпців\n"
          ]
        }
      ]
    },
    {
      "cell_type": "markdown",
      "source": [
        "3. Визначити тип даних"
      ],
      "metadata": {
        "id": "HRgf_n67MDli"
      }
    },
    {
      "cell_type": "code",
      "source": [
        "data_types = df.dtypes\n",
        "print(\"Тип даних:\")\n",
        "print(data_types)"
      ],
      "metadata": {
        "colab": {
          "base_uri": "https://localhost:8080/"
        },
        "id": "YRXoFHqXMG79",
        "outputId": "5e672456-6710-4cfd-9229-1ec6b0cae288"
      },
      "execution_count": 9,
      "outputs": [
        {
          "output_type": "stream",
          "name": "stdout",
          "text": [
            "Тип даних:\n",
            "PassengerId      int64\n",
            "Survived         int64\n",
            "Pclass           int64\n",
            "Name            object\n",
            "Sex             object\n",
            "Age            float64\n",
            "SibSp            int64\n",
            "Parch            int64\n",
            "Ticket          object\n",
            "Fare           float64\n",
            "Cabin           object\n",
            "Embarked        object\n",
            "dtype: object\n"
          ]
        }
      ]
    },
    {
      "cell_type": "markdown",
      "source": [
        "4. Визначити наявність пропущених значень. При наявності, замінити\n",
        "пропущені значення на середнє значення"
      ],
      "metadata": {
        "id": "SbaFyvaTMIR3"
      }
    },
    {
      "cell_type": "code",
      "source": [
        "import pandas as pd\n",
        "from tabulate import tabulate\n",
        "\n",
        "\n",
        "missing_values = df.isnull().sum()\n",
        "\n",
        "\n",
        "print(\"\\nПропущені значення:\")\n",
        "print(tabulate(missing_values.to_frame(name='Missing Values'), headers='keys', tablefmt='pretty'))\n",
        "\n",
        "# Заміна пропущених значень на середнє значення для числових колонок\n",
        "df.fillna(df.mean(numeric_only=True), inplace=True)\n",
        "\n",
        "# Визначення наявності пропущених значень після заміни\n",
        "missing_values_after = df.isnull().sum()\n",
        "\n",
        "print(\"\\nПісля заміни:\")\n",
        "print(tabulate(missing_values_after.to_frame(name='Missing Values After Replacement'), headers='keys', tablefmt='pretty'))"
      ],
      "metadata": {
        "colab": {
          "base_uri": "https://localhost:8080/"
        },
        "id": "NP0mTI-vMK9I",
        "outputId": "8c93fada-a6d3-4219-df47-61ce6e82c3b2"
      },
      "execution_count": 12,
      "outputs": [
        {
          "output_type": "stream",
          "name": "stdout",
          "text": [
            "\n",
            "Пропущені значення:\n",
            "+-------------+----------------+\n",
            "|             | Missing Values |\n",
            "+-------------+----------------+\n",
            "| PassengerId |       0        |\n",
            "|  Survived   |       0        |\n",
            "|   Pclass    |       0        |\n",
            "|    Name     |       0        |\n",
            "|     Sex     |       0        |\n",
            "|     Age     |       0        |\n",
            "|    SibSp    |       0        |\n",
            "|    Parch    |       0        |\n",
            "|   Ticket    |       0        |\n",
            "|    Fare     |       0        |\n",
            "|    Cabin    |      327       |\n",
            "|  Embarked   |       0        |\n",
            "+-------------+----------------+\n",
            "\n",
            "Після заміни:\n",
            "+-------------+----------------------------------+\n",
            "|             | Missing Values After Replacement |\n",
            "+-------------+----------------------------------+\n",
            "| PassengerId |                0                 |\n",
            "|  Survived   |                0                 |\n",
            "|   Pclass    |                0                 |\n",
            "|    Name     |                0                 |\n",
            "|     Sex     |                0                 |\n",
            "|     Age     |                0                 |\n",
            "|    SibSp    |                0                 |\n",
            "|    Parch    |                0                 |\n",
            "|   Ticket    |                0                 |\n",
            "|    Fare     |                0                 |\n",
            "|    Cabin    |               327                |\n",
            "|  Embarked   |                0                 |\n",
            "+-------------+----------------------------------+\n"
          ]
        }
      ]
    },
    {
      "cell_type": "markdown",
      "source": [
        "5. Ще раз перевірити наявність пропущених значень.\n"
      ],
      "metadata": {
        "id": "1ONWSReiNW9m"
      }
    },
    {
      "cell_type": "code",
      "source": [
        "df.fillna(df.mean(numeric_only=True), inplace=True)\n",
        "df.isnull().sum()\n",
        "print(tabulate(missing_values.to_frame(name='Missing Values'), headers='keys', tablefmt='pretty'))"
      ],
      "metadata": {
        "colab": {
          "base_uri": "https://localhost:8080/"
        },
        "id": "sQ3gJtH3NZlf",
        "outputId": "d9cd5176-5c34-449b-eddd-30ac95cc94df"
      },
      "execution_count": 16,
      "outputs": [
        {
          "output_type": "stream",
          "name": "stdout",
          "text": [
            "+-------------+----------------+\n",
            "|             | Missing Values |\n",
            "+-------------+----------------+\n",
            "| PassengerId |       0        |\n",
            "|  Survived   |       0        |\n",
            "|   Pclass    |       0        |\n",
            "|    Name     |       0        |\n",
            "|     Sex     |       0        |\n",
            "|     Age     |       0        |\n",
            "|    SibSp    |       0        |\n",
            "|    Parch    |       0        |\n",
            "|   Ticket    |       0        |\n",
            "|    Fare     |       0        |\n",
            "|    Cabin    |      327       |\n",
            "|  Embarked   |       0        |\n",
            "+-------------+----------------+\n"
          ]
        }
      ]
    },
    {
      "cell_type": "markdown",
      "source": [
        "6. Перевірити наявність дублікатів. При наявності видалити дублікати."
      ],
      "metadata": {
        "id": "YaPVEQEJNzsr"
      }
    },
    {
      "cell_type": "code",
      "source": [
        "df.drop_duplicates(inplace=True)\n",
        "print(f\"Дублікати після видалення: {df.duplicated().sum()}\")"
      ],
      "metadata": {
        "colab": {
          "base_uri": "https://localhost:8080/"
        },
        "id": "NS0KPDSDN5IR",
        "outputId": "6725014e-ac76-4ab7-96f9-f26f29f22288"
      },
      "execution_count": 19,
      "outputs": [
        {
          "output_type": "stream",
          "name": "stdout",
          "text": [
            "Дублікати після видалення: 0\n"
          ]
        }
      ]
    },
    {
      "cell_type": "markdown",
      "source": [
        "7. Вивести описову статистику датасету describe()"
      ],
      "metadata": {
        "id": "1az5K97dOFg6"
      }
    },
    {
      "cell_type": "code",
      "source": [
        "import pandas as pd\n",
        "import seaborn as sns\n",
        "\n",
        "# Описова статистика\n",
        "describe_df = df.describe()\n",
        "\n",
        "# Стилізувати\n",
        "cmap = sns.light_palette(\"skyblue\", as_cmap=True)\n",
        "styled_df = describe_df.style.background_gradient(cmap=cmap, axis=1).set_caption(\"Описова статистика датасету Titanic\")\n",
        "styled_head_df\n"
      ],
      "metadata": {
        "colab": {
          "base_uri": "https://localhost:8080/",
          "height": 223
        },
        "id": "v_xJhvJdOJZc",
        "outputId": "93f322ed-8526-4fcf-8bd3-87e8ad377d1c"
      },
      "execution_count": 46,
      "outputs": [
        {
          "output_type": "execute_result",
          "data": {
            "text/plain": [
              "<pandas.io.formats.style.Styler at 0x7d72a2748070>"
            ],
            "text/html": [
              "<style type=\"text/css\">\n",
              "#T_1063e_row0_col0, #T_1063e_row1_col0, #T_1063e_row2_col0, #T_1063e_row3_col0, #T_1063e_row4_col0 {\n",
              "  background-color: #87ceeb;\n",
              "  color: #000000;\n",
              "}\n",
              "#T_1063e_row0_col1, #T_1063e_row0_col2, #T_1063e_row0_col6, #T_1063e_row0_col7, #T_1063e_row1_col1, #T_1063e_row1_col2, #T_1063e_row1_col6, #T_1063e_row1_col7, #T_1063e_row2_col1, #T_1063e_row2_col2, #T_1063e_row2_col6, #T_1063e_row2_col7, #T_1063e_row3_col1, #T_1063e_row3_col2, #T_1063e_row3_col6, #T_1063e_row3_col7, #T_1063e_row4_col1, #T_1063e_row4_col2, #T_1063e_row4_col6, #T_1063e_row4_col7 {\n",
              "  background-color: #eff1f2;\n",
              "  color: #000000;\n",
              "}\n",
              "#T_1063e_row0_col5 {\n",
              "  background-color: #ebf0f2;\n",
              "  color: #000000;\n",
              "}\n",
              "#T_1063e_row0_col9, #T_1063e_row1_col9, #T_1063e_row2_col9, #T_1063e_row3_col9, #T_1063e_row4_col9 {\n",
              "  background-color: #eef1f2;\n",
              "  color: #000000;\n",
              "}\n",
              "#T_1063e_row1_col5 {\n",
              "  background-color: #eaeff2;\n",
              "  color: #000000;\n",
              "}\n",
              "#T_1063e_row2_col5 {\n",
              "  background-color: #e8eff2;\n",
              "  color: #000000;\n",
              "}\n",
              "#T_1063e_row3_col5 {\n",
              "  background-color: #ecf0f2;\n",
              "  color: #000000;\n",
              "}\n",
              "#T_1063e_row4_col5 {\n",
              "  background-color: #edf0f2;\n",
              "  color: #000000;\n",
              "}\n",
              "</style>\n",
              "<table id=\"T_1063e\" class=\"dataframe\">\n",
              "  <caption>Перші 5 рядків датасету Titanic</caption>\n",
              "  <thead>\n",
              "    <tr>\n",
              "      <th class=\"blank level0\" >&nbsp;</th>\n",
              "      <th id=\"T_1063e_level0_col0\" class=\"col_heading level0 col0\" >PassengerId</th>\n",
              "      <th id=\"T_1063e_level0_col1\" class=\"col_heading level0 col1\" >Survived</th>\n",
              "      <th id=\"T_1063e_level0_col2\" class=\"col_heading level0 col2\" >Pclass</th>\n",
              "      <th id=\"T_1063e_level0_col3\" class=\"col_heading level0 col3\" >Name</th>\n",
              "      <th id=\"T_1063e_level0_col4\" class=\"col_heading level0 col4\" >Sex</th>\n",
              "      <th id=\"T_1063e_level0_col5\" class=\"col_heading level0 col5\" >Age</th>\n",
              "      <th id=\"T_1063e_level0_col6\" class=\"col_heading level0 col6\" >SibSp</th>\n",
              "      <th id=\"T_1063e_level0_col7\" class=\"col_heading level0 col7\" >Parch</th>\n",
              "      <th id=\"T_1063e_level0_col8\" class=\"col_heading level0 col8\" >Ticket</th>\n",
              "      <th id=\"T_1063e_level0_col9\" class=\"col_heading level0 col9\" >Fare</th>\n",
              "      <th id=\"T_1063e_level0_col10\" class=\"col_heading level0 col10\" >Cabin</th>\n",
              "      <th id=\"T_1063e_level0_col11\" class=\"col_heading level0 col11\" >Embarked</th>\n",
              "    </tr>\n",
              "  </thead>\n",
              "  <tbody>\n",
              "    <tr>\n",
              "      <th id=\"T_1063e_level0_row0\" class=\"row_heading level0 row0\" >0</th>\n",
              "      <td id=\"T_1063e_row0_col0\" class=\"data row0 col0\" >892</td>\n",
              "      <td id=\"T_1063e_row0_col1\" class=\"data row0 col1\" >0</td>\n",
              "      <td id=\"T_1063e_row0_col2\" class=\"data row0 col2\" >3</td>\n",
              "      <td id=\"T_1063e_row0_col3\" class=\"data row0 col3\" >Kelly, Mr. James</td>\n",
              "      <td id=\"T_1063e_row0_col4\" class=\"data row0 col4\" >male</td>\n",
              "      <td id=\"T_1063e_row0_col5\" class=\"data row0 col5\" >34.500000</td>\n",
              "      <td id=\"T_1063e_row0_col6\" class=\"data row0 col6\" >0</td>\n",
              "      <td id=\"T_1063e_row0_col7\" class=\"data row0 col7\" >0</td>\n",
              "      <td id=\"T_1063e_row0_col8\" class=\"data row0 col8\" >330911</td>\n",
              "      <td id=\"T_1063e_row0_col9\" class=\"data row0 col9\" >7.829200</td>\n",
              "      <td id=\"T_1063e_row0_col10\" class=\"data row0 col10\" >nan</td>\n",
              "      <td id=\"T_1063e_row0_col11\" class=\"data row0 col11\" >Q</td>\n",
              "    </tr>\n",
              "    <tr>\n",
              "      <th id=\"T_1063e_level0_row1\" class=\"row_heading level0 row1\" >1</th>\n",
              "      <td id=\"T_1063e_row1_col0\" class=\"data row1 col0\" >893</td>\n",
              "      <td id=\"T_1063e_row1_col1\" class=\"data row1 col1\" >1</td>\n",
              "      <td id=\"T_1063e_row1_col2\" class=\"data row1 col2\" >3</td>\n",
              "      <td id=\"T_1063e_row1_col3\" class=\"data row1 col3\" >Wilkes, Mrs. James (Ellen Needs)</td>\n",
              "      <td id=\"T_1063e_row1_col4\" class=\"data row1 col4\" >female</td>\n",
              "      <td id=\"T_1063e_row1_col5\" class=\"data row1 col5\" >47.000000</td>\n",
              "      <td id=\"T_1063e_row1_col6\" class=\"data row1 col6\" >1</td>\n",
              "      <td id=\"T_1063e_row1_col7\" class=\"data row1 col7\" >0</td>\n",
              "      <td id=\"T_1063e_row1_col8\" class=\"data row1 col8\" >363272</td>\n",
              "      <td id=\"T_1063e_row1_col9\" class=\"data row1 col9\" >7.000000</td>\n",
              "      <td id=\"T_1063e_row1_col10\" class=\"data row1 col10\" >nan</td>\n",
              "      <td id=\"T_1063e_row1_col11\" class=\"data row1 col11\" >S</td>\n",
              "    </tr>\n",
              "    <tr>\n",
              "      <th id=\"T_1063e_level0_row2\" class=\"row_heading level0 row2\" >2</th>\n",
              "      <td id=\"T_1063e_row2_col0\" class=\"data row2 col0\" >894</td>\n",
              "      <td id=\"T_1063e_row2_col1\" class=\"data row2 col1\" >0</td>\n",
              "      <td id=\"T_1063e_row2_col2\" class=\"data row2 col2\" >2</td>\n",
              "      <td id=\"T_1063e_row2_col3\" class=\"data row2 col3\" >Myles, Mr. Thomas Francis</td>\n",
              "      <td id=\"T_1063e_row2_col4\" class=\"data row2 col4\" >male</td>\n",
              "      <td id=\"T_1063e_row2_col5\" class=\"data row2 col5\" >62.000000</td>\n",
              "      <td id=\"T_1063e_row2_col6\" class=\"data row2 col6\" >0</td>\n",
              "      <td id=\"T_1063e_row2_col7\" class=\"data row2 col7\" >0</td>\n",
              "      <td id=\"T_1063e_row2_col8\" class=\"data row2 col8\" >240276</td>\n",
              "      <td id=\"T_1063e_row2_col9\" class=\"data row2 col9\" >9.687500</td>\n",
              "      <td id=\"T_1063e_row2_col10\" class=\"data row2 col10\" >nan</td>\n",
              "      <td id=\"T_1063e_row2_col11\" class=\"data row2 col11\" >Q</td>\n",
              "    </tr>\n",
              "    <tr>\n",
              "      <th id=\"T_1063e_level0_row3\" class=\"row_heading level0 row3\" >3</th>\n",
              "      <td id=\"T_1063e_row3_col0\" class=\"data row3 col0\" >895</td>\n",
              "      <td id=\"T_1063e_row3_col1\" class=\"data row3 col1\" >0</td>\n",
              "      <td id=\"T_1063e_row3_col2\" class=\"data row3 col2\" >3</td>\n",
              "      <td id=\"T_1063e_row3_col3\" class=\"data row3 col3\" >Wirz, Mr. Albert</td>\n",
              "      <td id=\"T_1063e_row3_col4\" class=\"data row3 col4\" >male</td>\n",
              "      <td id=\"T_1063e_row3_col5\" class=\"data row3 col5\" >27.000000</td>\n",
              "      <td id=\"T_1063e_row3_col6\" class=\"data row3 col6\" >0</td>\n",
              "      <td id=\"T_1063e_row3_col7\" class=\"data row3 col7\" >0</td>\n",
              "      <td id=\"T_1063e_row3_col8\" class=\"data row3 col8\" >315154</td>\n",
              "      <td id=\"T_1063e_row3_col9\" class=\"data row3 col9\" >8.662500</td>\n",
              "      <td id=\"T_1063e_row3_col10\" class=\"data row3 col10\" >nan</td>\n",
              "      <td id=\"T_1063e_row3_col11\" class=\"data row3 col11\" >S</td>\n",
              "    </tr>\n",
              "    <tr>\n",
              "      <th id=\"T_1063e_level0_row4\" class=\"row_heading level0 row4\" >4</th>\n",
              "      <td id=\"T_1063e_row4_col0\" class=\"data row4 col0\" >896</td>\n",
              "      <td id=\"T_1063e_row4_col1\" class=\"data row4 col1\" >1</td>\n",
              "      <td id=\"T_1063e_row4_col2\" class=\"data row4 col2\" >3</td>\n",
              "      <td id=\"T_1063e_row4_col3\" class=\"data row4 col3\" >Hirvonen, Mrs. Alexander (Helga E Lindqvist)</td>\n",
              "      <td id=\"T_1063e_row4_col4\" class=\"data row4 col4\" >female</td>\n",
              "      <td id=\"T_1063e_row4_col5\" class=\"data row4 col5\" >22.000000</td>\n",
              "      <td id=\"T_1063e_row4_col6\" class=\"data row4 col6\" >1</td>\n",
              "      <td id=\"T_1063e_row4_col7\" class=\"data row4 col7\" >1</td>\n",
              "      <td id=\"T_1063e_row4_col8\" class=\"data row4 col8\" >3101298</td>\n",
              "      <td id=\"T_1063e_row4_col9\" class=\"data row4 col9\" >12.287500</td>\n",
              "      <td id=\"T_1063e_row4_col10\" class=\"data row4 col10\" >nan</td>\n",
              "      <td id=\"T_1063e_row4_col11\" class=\"data row4 col11\" >S</td>\n",
              "    </tr>\n",
              "  </tbody>\n",
              "</table>\n"
            ]
          },
          "metadata": {},
          "execution_count": 46
        }
      ]
    },
    {
      "cell_type": "markdown",
      "source": [
        "8. Видалити стовпчик Cabin"
      ],
      "metadata": {
        "id": "6sI4Mqq-P4fG"
      }
    },
    {
      "cell_type": "code",
      "source": [
        "df = pd.read_csv('titanic.csv')\n",
        "df.drop(columns='Cabin', inplace=True)\n",
        "df.head()"
      ],
      "metadata": {
        "colab": {
          "base_uri": "https://localhost:8080/",
          "height": 206
        },
        "id": "z--9A6BRPtNh",
        "outputId": "5941d64b-def1-4635-c91d-10a05486c59e"
      },
      "execution_count": 34,
      "outputs": [
        {
          "output_type": "execute_result",
          "data": {
            "text/plain": [
              "   PassengerId  Survived  Pclass  \\\n",
              "0          892         0       3   \n",
              "1          893         1       3   \n",
              "2          894         0       2   \n",
              "3          895         0       3   \n",
              "4          896         1       3   \n",
              "\n",
              "                                           Name     Sex   Age  SibSp  Parch  \\\n",
              "0                              Kelly, Mr. James    male  34.5      0      0   \n",
              "1              Wilkes, Mrs. James (Ellen Needs)  female  47.0      1      0   \n",
              "2                     Myles, Mr. Thomas Francis    male  62.0      0      0   \n",
              "3                              Wirz, Mr. Albert    male  27.0      0      0   \n",
              "4  Hirvonen, Mrs. Alexander (Helga E Lindqvist)  female  22.0      1      1   \n",
              "\n",
              "    Ticket     Fare Embarked  \n",
              "0   330911   7.8292        Q  \n",
              "1   363272   7.0000        S  \n",
              "2   240276   9.6875        Q  \n",
              "3   315154   8.6625        S  \n",
              "4  3101298  12.2875        S  "
            ],
            "text/html": [
              "\n",
              "  <div id=\"df-34346f27-c671-493e-a6f2-fc535f4f67ff\" class=\"colab-df-container\">\n",
              "    <div>\n",
              "<style scoped>\n",
              "    .dataframe tbody tr th:only-of-type {\n",
              "        vertical-align: middle;\n",
              "    }\n",
              "\n",
              "    .dataframe tbody tr th {\n",
              "        vertical-align: top;\n",
              "    }\n",
              "\n",
              "    .dataframe thead th {\n",
              "        text-align: right;\n",
              "    }\n",
              "</style>\n",
              "<table border=\"1\" class=\"dataframe\">\n",
              "  <thead>\n",
              "    <tr style=\"text-align: right;\">\n",
              "      <th></th>\n",
              "      <th>PassengerId</th>\n",
              "      <th>Survived</th>\n",
              "      <th>Pclass</th>\n",
              "      <th>Name</th>\n",
              "      <th>Sex</th>\n",
              "      <th>Age</th>\n",
              "      <th>SibSp</th>\n",
              "      <th>Parch</th>\n",
              "      <th>Ticket</th>\n",
              "      <th>Fare</th>\n",
              "      <th>Embarked</th>\n",
              "    </tr>\n",
              "  </thead>\n",
              "  <tbody>\n",
              "    <tr>\n",
              "      <th>0</th>\n",
              "      <td>892</td>\n",
              "      <td>0</td>\n",
              "      <td>3</td>\n",
              "      <td>Kelly, Mr. James</td>\n",
              "      <td>male</td>\n",
              "      <td>34.5</td>\n",
              "      <td>0</td>\n",
              "      <td>0</td>\n",
              "      <td>330911</td>\n",
              "      <td>7.8292</td>\n",
              "      <td>Q</td>\n",
              "    </tr>\n",
              "    <tr>\n",
              "      <th>1</th>\n",
              "      <td>893</td>\n",
              "      <td>1</td>\n",
              "      <td>3</td>\n",
              "      <td>Wilkes, Mrs. James (Ellen Needs)</td>\n",
              "      <td>female</td>\n",
              "      <td>47.0</td>\n",
              "      <td>1</td>\n",
              "      <td>0</td>\n",
              "      <td>363272</td>\n",
              "      <td>7.0000</td>\n",
              "      <td>S</td>\n",
              "    </tr>\n",
              "    <tr>\n",
              "      <th>2</th>\n",
              "      <td>894</td>\n",
              "      <td>0</td>\n",
              "      <td>2</td>\n",
              "      <td>Myles, Mr. Thomas Francis</td>\n",
              "      <td>male</td>\n",
              "      <td>62.0</td>\n",
              "      <td>0</td>\n",
              "      <td>0</td>\n",
              "      <td>240276</td>\n",
              "      <td>9.6875</td>\n",
              "      <td>Q</td>\n",
              "    </tr>\n",
              "    <tr>\n",
              "      <th>3</th>\n",
              "      <td>895</td>\n",
              "      <td>0</td>\n",
              "      <td>3</td>\n",
              "      <td>Wirz, Mr. Albert</td>\n",
              "      <td>male</td>\n",
              "      <td>27.0</td>\n",
              "      <td>0</td>\n",
              "      <td>0</td>\n",
              "      <td>315154</td>\n",
              "      <td>8.6625</td>\n",
              "      <td>S</td>\n",
              "    </tr>\n",
              "    <tr>\n",
              "      <th>4</th>\n",
              "      <td>896</td>\n",
              "      <td>1</td>\n",
              "      <td>3</td>\n",
              "      <td>Hirvonen, Mrs. Alexander (Helga E Lindqvist)</td>\n",
              "      <td>female</td>\n",
              "      <td>22.0</td>\n",
              "      <td>1</td>\n",
              "      <td>1</td>\n",
              "      <td>3101298</td>\n",
              "      <td>12.2875</td>\n",
              "      <td>S</td>\n",
              "    </tr>\n",
              "  </tbody>\n",
              "</table>\n",
              "</div>\n",
              "    <div class=\"colab-df-buttons\">\n",
              "\n",
              "  <div class=\"colab-df-container\">\n",
              "    <button class=\"colab-df-convert\" onclick=\"convertToInteractive('df-34346f27-c671-493e-a6f2-fc535f4f67ff')\"\n",
              "            title=\"Convert this dataframe to an interactive table.\"\n",
              "            style=\"display:none;\">\n",
              "\n",
              "  <svg xmlns=\"http://www.w3.org/2000/svg\" height=\"24px\" viewBox=\"0 -960 960 960\">\n",
              "    <path d=\"M120-120v-720h720v720H120Zm60-500h600v-160H180v160Zm220 220h160v-160H400v160Zm0 220h160v-160H400v160ZM180-400h160v-160H180v160Zm440 0h160v-160H620v160ZM180-180h160v-160H180v160Zm440 0h160v-160H620v160Z\"/>\n",
              "  </svg>\n",
              "    </button>\n",
              "\n",
              "  <style>\n",
              "    .colab-df-container {\n",
              "      display:flex;\n",
              "      gap: 12px;\n",
              "    }\n",
              "\n",
              "    .colab-df-convert {\n",
              "      background-color: #E8F0FE;\n",
              "      border: none;\n",
              "      border-radius: 50%;\n",
              "      cursor: pointer;\n",
              "      display: none;\n",
              "      fill: #1967D2;\n",
              "      height: 32px;\n",
              "      padding: 0 0 0 0;\n",
              "      width: 32px;\n",
              "    }\n",
              "\n",
              "    .colab-df-convert:hover {\n",
              "      background-color: #E2EBFA;\n",
              "      box-shadow: 0px 1px 2px rgba(60, 64, 67, 0.3), 0px 1px 3px 1px rgba(60, 64, 67, 0.15);\n",
              "      fill: #174EA6;\n",
              "    }\n",
              "\n",
              "    .colab-df-buttons div {\n",
              "      margin-bottom: 4px;\n",
              "    }\n",
              "\n",
              "    [theme=dark] .colab-df-convert {\n",
              "      background-color: #3B4455;\n",
              "      fill: #D2E3FC;\n",
              "    }\n",
              "\n",
              "    [theme=dark] .colab-df-convert:hover {\n",
              "      background-color: #434B5C;\n",
              "      box-shadow: 0px 1px 3px 1px rgba(0, 0, 0, 0.15);\n",
              "      filter: drop-shadow(0px 1px 2px rgba(0, 0, 0, 0.3));\n",
              "      fill: #FFFFFF;\n",
              "    }\n",
              "  </style>\n",
              "\n",
              "    <script>\n",
              "      const buttonEl =\n",
              "        document.querySelector('#df-34346f27-c671-493e-a6f2-fc535f4f67ff button.colab-df-convert');\n",
              "      buttonEl.style.display =\n",
              "        google.colab.kernel.accessAllowed ? 'block' : 'none';\n",
              "\n",
              "      async function convertToInteractive(key) {\n",
              "        const element = document.querySelector('#df-34346f27-c671-493e-a6f2-fc535f4f67ff');\n",
              "        const dataTable =\n",
              "          await google.colab.kernel.invokeFunction('convertToInteractive',\n",
              "                                                    [key], {});\n",
              "        if (!dataTable) return;\n",
              "\n",
              "        const docLinkHtml = 'Like what you see? Visit the ' +\n",
              "          '<a target=\"_blank\" href=https://colab.research.google.com/notebooks/data_table.ipynb>data table notebook</a>'\n",
              "          + ' to learn more about interactive tables.';\n",
              "        element.innerHTML = '';\n",
              "        dataTable['output_type'] = 'display_data';\n",
              "        await google.colab.output.renderOutput(dataTable, element);\n",
              "        const docLink = document.createElement('div');\n",
              "        docLink.innerHTML = docLinkHtml;\n",
              "        element.appendChild(docLink);\n",
              "      }\n",
              "    </script>\n",
              "  </div>\n",
              "\n",
              "\n",
              "<div id=\"df-c2cf7335-1e24-4104-a59e-cccacbdf8cd5\">\n",
              "  <button class=\"colab-df-quickchart\" onclick=\"quickchart('df-c2cf7335-1e24-4104-a59e-cccacbdf8cd5')\"\n",
              "            title=\"Suggest charts\"\n",
              "            style=\"display:none;\">\n",
              "\n",
              "<svg xmlns=\"http://www.w3.org/2000/svg\" height=\"24px\"viewBox=\"0 0 24 24\"\n",
              "     width=\"24px\">\n",
              "    <g>\n",
              "        <path d=\"M19 3H5c-1.1 0-2 .9-2 2v14c0 1.1.9 2 2 2h14c1.1 0 2-.9 2-2V5c0-1.1-.9-2-2-2zM9 17H7v-7h2v7zm4 0h-2V7h2v10zm4 0h-2v-4h2v4z\"/>\n",
              "    </g>\n",
              "</svg>\n",
              "  </button>\n",
              "\n",
              "<style>\n",
              "  .colab-df-quickchart {\n",
              "      --bg-color: #E8F0FE;\n",
              "      --fill-color: #1967D2;\n",
              "      --hover-bg-color: #E2EBFA;\n",
              "      --hover-fill-color: #174EA6;\n",
              "      --disabled-fill-color: #AAA;\n",
              "      --disabled-bg-color: #DDD;\n",
              "  }\n",
              "\n",
              "  [theme=dark] .colab-df-quickchart {\n",
              "      --bg-color: #3B4455;\n",
              "      --fill-color: #D2E3FC;\n",
              "      --hover-bg-color: #434B5C;\n",
              "      --hover-fill-color: #FFFFFF;\n",
              "      --disabled-bg-color: #3B4455;\n",
              "      --disabled-fill-color: #666;\n",
              "  }\n",
              "\n",
              "  .colab-df-quickchart {\n",
              "    background-color: var(--bg-color);\n",
              "    border: none;\n",
              "    border-radius: 50%;\n",
              "    cursor: pointer;\n",
              "    display: none;\n",
              "    fill: var(--fill-color);\n",
              "    height: 32px;\n",
              "    padding: 0;\n",
              "    width: 32px;\n",
              "  }\n",
              "\n",
              "  .colab-df-quickchart:hover {\n",
              "    background-color: var(--hover-bg-color);\n",
              "    box-shadow: 0 1px 2px rgba(60, 64, 67, 0.3), 0 1px 3px 1px rgba(60, 64, 67, 0.15);\n",
              "    fill: var(--button-hover-fill-color);\n",
              "  }\n",
              "\n",
              "  .colab-df-quickchart-complete:disabled,\n",
              "  .colab-df-quickchart-complete:disabled:hover {\n",
              "    background-color: var(--disabled-bg-color);\n",
              "    fill: var(--disabled-fill-color);\n",
              "    box-shadow: none;\n",
              "  }\n",
              "\n",
              "  .colab-df-spinner {\n",
              "    border: 2px solid var(--fill-color);\n",
              "    border-color: transparent;\n",
              "    border-bottom-color: var(--fill-color);\n",
              "    animation:\n",
              "      spin 1s steps(1) infinite;\n",
              "  }\n",
              "\n",
              "  @keyframes spin {\n",
              "    0% {\n",
              "      border-color: transparent;\n",
              "      border-bottom-color: var(--fill-color);\n",
              "      border-left-color: var(--fill-color);\n",
              "    }\n",
              "    20% {\n",
              "      border-color: transparent;\n",
              "      border-left-color: var(--fill-color);\n",
              "      border-top-color: var(--fill-color);\n",
              "    }\n",
              "    30% {\n",
              "      border-color: transparent;\n",
              "      border-left-color: var(--fill-color);\n",
              "      border-top-color: var(--fill-color);\n",
              "      border-right-color: var(--fill-color);\n",
              "    }\n",
              "    40% {\n",
              "      border-color: transparent;\n",
              "      border-right-color: var(--fill-color);\n",
              "      border-top-color: var(--fill-color);\n",
              "    }\n",
              "    60% {\n",
              "      border-color: transparent;\n",
              "      border-right-color: var(--fill-color);\n",
              "    }\n",
              "    80% {\n",
              "      border-color: transparent;\n",
              "      border-right-color: var(--fill-color);\n",
              "      border-bottom-color: var(--fill-color);\n",
              "    }\n",
              "    90% {\n",
              "      border-color: transparent;\n",
              "      border-bottom-color: var(--fill-color);\n",
              "    }\n",
              "  }\n",
              "</style>\n",
              "\n",
              "  <script>\n",
              "    async function quickchart(key) {\n",
              "      const quickchartButtonEl =\n",
              "        document.querySelector('#' + key + ' button');\n",
              "      quickchartButtonEl.disabled = true;  // To prevent multiple clicks.\n",
              "      quickchartButtonEl.classList.add('colab-df-spinner');\n",
              "      try {\n",
              "        const charts = await google.colab.kernel.invokeFunction(\n",
              "            'suggestCharts', [key], {});\n",
              "      } catch (error) {\n",
              "        console.error('Error during call to suggestCharts:', error);\n",
              "      }\n",
              "      quickchartButtonEl.classList.remove('colab-df-spinner');\n",
              "      quickchartButtonEl.classList.add('colab-df-quickchart-complete');\n",
              "    }\n",
              "    (() => {\n",
              "      let quickchartButtonEl =\n",
              "        document.querySelector('#df-c2cf7335-1e24-4104-a59e-cccacbdf8cd5 button');\n",
              "      quickchartButtonEl.style.display =\n",
              "        google.colab.kernel.accessAllowed ? 'block' : 'none';\n",
              "    })();\n",
              "  </script>\n",
              "</div>\n",
              "    </div>\n",
              "  </div>\n"
            ],
            "application/vnd.google.colaboratory.intrinsic+json": {
              "type": "dataframe",
              "variable_name": "df",
              "summary": "{\n  \"name\": \"df\",\n  \"rows\": 418,\n  \"fields\": [\n    {\n      \"column\": \"PassengerId\",\n      \"properties\": {\n        \"dtype\": \"number\",\n        \"std\": 120,\n        \"min\": 892,\n        \"max\": 1309,\n        \"num_unique_values\": 418,\n        \"samples\": [\n          1213,\n          1216,\n          1280\n        ],\n        \"semantic_type\": \"\",\n        \"description\": \"\"\n      }\n    },\n    {\n      \"column\": \"Survived\",\n      \"properties\": {\n        \"dtype\": \"number\",\n        \"std\": 0,\n        \"min\": 0,\n        \"max\": 1,\n        \"num_unique_values\": 2,\n        \"samples\": [\n          1,\n          0\n        ],\n        \"semantic_type\": \"\",\n        \"description\": \"\"\n      }\n    },\n    {\n      \"column\": \"Pclass\",\n      \"properties\": {\n        \"dtype\": \"number\",\n        \"std\": 0,\n        \"min\": 1,\n        \"max\": 3,\n        \"num_unique_values\": 3,\n        \"samples\": [\n          3,\n          2\n        ],\n        \"semantic_type\": \"\",\n        \"description\": \"\"\n      }\n    },\n    {\n      \"column\": \"Name\",\n      \"properties\": {\n        \"dtype\": \"string\",\n        \"num_unique_values\": 418,\n        \"samples\": [\n          \"Krekorian, Mr. Neshan\",\n          \"Kreuchen, Miss. Emilie\"\n        ],\n        \"semantic_type\": \"\",\n        \"description\": \"\"\n      }\n    },\n    {\n      \"column\": \"Sex\",\n      \"properties\": {\n        \"dtype\": \"category\",\n        \"num_unique_values\": 2,\n        \"samples\": [\n          \"female\",\n          \"male\"\n        ],\n        \"semantic_type\": \"\",\n        \"description\": \"\"\n      }\n    },\n    {\n      \"column\": \"Age\",\n      \"properties\": {\n        \"dtype\": \"number\",\n        \"std\": 14.181209235624422,\n        \"min\": 0.17,\n        \"max\": 76.0,\n        \"num_unique_values\": 79,\n        \"samples\": [\n          10.0,\n          34.5\n        ],\n        \"semantic_type\": \"\",\n        \"description\": \"\"\n      }\n    },\n    {\n      \"column\": \"SibSp\",\n      \"properties\": {\n        \"dtype\": \"number\",\n        \"std\": 0,\n        \"min\": 0,\n        \"max\": 8,\n        \"num_unique_values\": 7,\n        \"samples\": [\n          0,\n          1\n        ],\n        \"semantic_type\": \"\",\n        \"description\": \"\"\n      }\n    },\n    {\n      \"column\": \"Parch\",\n      \"properties\": {\n        \"dtype\": \"number\",\n        \"std\": 0,\n        \"min\": 0,\n        \"max\": 9,\n        \"num_unique_values\": 8,\n        \"samples\": [\n          1,\n          6\n        ],\n        \"semantic_type\": \"\",\n        \"description\": \"\"\n      }\n    },\n    {\n      \"column\": \"Ticket\",\n      \"properties\": {\n        \"dtype\": \"string\",\n        \"num_unique_values\": 363,\n        \"samples\": [\n          \"2673\",\n          \"W./C. 6607\"\n        ],\n        \"semantic_type\": \"\",\n        \"description\": \"\"\n      }\n    },\n    {\n      \"column\": \"Fare\",\n      \"properties\": {\n        \"dtype\": \"number\",\n        \"std\": 55.907576179973844,\n        \"min\": 0.0,\n        \"max\": 512.3292,\n        \"num_unique_values\": 169,\n        \"samples\": [\n          41.5792,\n          57.75\n        ],\n        \"semantic_type\": \"\",\n        \"description\": \"\"\n      }\n    },\n    {\n      \"column\": \"Embarked\",\n      \"properties\": {\n        \"dtype\": \"category\",\n        \"num_unique_values\": 3,\n        \"samples\": [\n          \"Q\",\n          \"S\"\n        ],\n        \"semantic_type\": \"\",\n        \"description\": \"\"\n      }\n    }\n  ]\n}"
            }
          },
          "metadata": {},
          "execution_count": 34
        }
      ]
    },
    {
      "cell_type": "markdown",
      "source": [
        "9. Сформувати датасет з обраними стовпцями:\n",
        "['Survived', 'Pclass', 'Sex', 'Age', 'Fare']]"
      ],
      "metadata": {
        "id": "N10SjvtwP-23"
      }
    },
    {
      "cell_type": "code",
      "source": [
        "selected_columns = df[['Survived', 'Pclass', 'Sex', 'Age', 'Fare']]\n",
        "selected_columns.head()"
      ],
      "metadata": {
        "colab": {
          "base_uri": "https://localhost:8080/",
          "height": 206
        },
        "id": "X5odBjviQAbN",
        "outputId": "478c6034-9dc6-486e-9885-e42c838c8b54"
      },
      "execution_count": 35,
      "outputs": [
        {
          "output_type": "execute_result",
          "data": {
            "text/plain": [
              "   Survived  Pclass     Sex   Age     Fare\n",
              "0         0       3    male  34.5   7.8292\n",
              "1         1       3  female  47.0   7.0000\n",
              "2         0       2    male  62.0   9.6875\n",
              "3         0       3    male  27.0   8.6625\n",
              "4         1       3  female  22.0  12.2875"
            ],
            "text/html": [
              "\n",
              "  <div id=\"df-8bc9b5ca-d9fd-4f15-b3ef-2a9e6847843c\" class=\"colab-df-container\">\n",
              "    <div>\n",
              "<style scoped>\n",
              "    .dataframe tbody tr th:only-of-type {\n",
              "        vertical-align: middle;\n",
              "    }\n",
              "\n",
              "    .dataframe tbody tr th {\n",
              "        vertical-align: top;\n",
              "    }\n",
              "\n",
              "    .dataframe thead th {\n",
              "        text-align: right;\n",
              "    }\n",
              "</style>\n",
              "<table border=\"1\" class=\"dataframe\">\n",
              "  <thead>\n",
              "    <tr style=\"text-align: right;\">\n",
              "      <th></th>\n",
              "      <th>Survived</th>\n",
              "      <th>Pclass</th>\n",
              "      <th>Sex</th>\n",
              "      <th>Age</th>\n",
              "      <th>Fare</th>\n",
              "    </tr>\n",
              "  </thead>\n",
              "  <tbody>\n",
              "    <tr>\n",
              "      <th>0</th>\n",
              "      <td>0</td>\n",
              "      <td>3</td>\n",
              "      <td>male</td>\n",
              "      <td>34.5</td>\n",
              "      <td>7.8292</td>\n",
              "    </tr>\n",
              "    <tr>\n",
              "      <th>1</th>\n",
              "      <td>1</td>\n",
              "      <td>3</td>\n",
              "      <td>female</td>\n",
              "      <td>47.0</td>\n",
              "      <td>7.0000</td>\n",
              "    </tr>\n",
              "    <tr>\n",
              "      <th>2</th>\n",
              "      <td>0</td>\n",
              "      <td>2</td>\n",
              "      <td>male</td>\n",
              "      <td>62.0</td>\n",
              "      <td>9.6875</td>\n",
              "    </tr>\n",
              "    <tr>\n",
              "      <th>3</th>\n",
              "      <td>0</td>\n",
              "      <td>3</td>\n",
              "      <td>male</td>\n",
              "      <td>27.0</td>\n",
              "      <td>8.6625</td>\n",
              "    </tr>\n",
              "    <tr>\n",
              "      <th>4</th>\n",
              "      <td>1</td>\n",
              "      <td>3</td>\n",
              "      <td>female</td>\n",
              "      <td>22.0</td>\n",
              "      <td>12.2875</td>\n",
              "    </tr>\n",
              "  </tbody>\n",
              "</table>\n",
              "</div>\n",
              "    <div class=\"colab-df-buttons\">\n",
              "\n",
              "  <div class=\"colab-df-container\">\n",
              "    <button class=\"colab-df-convert\" onclick=\"convertToInteractive('df-8bc9b5ca-d9fd-4f15-b3ef-2a9e6847843c')\"\n",
              "            title=\"Convert this dataframe to an interactive table.\"\n",
              "            style=\"display:none;\">\n",
              "\n",
              "  <svg xmlns=\"http://www.w3.org/2000/svg\" height=\"24px\" viewBox=\"0 -960 960 960\">\n",
              "    <path d=\"M120-120v-720h720v720H120Zm60-500h600v-160H180v160Zm220 220h160v-160H400v160Zm0 220h160v-160H400v160ZM180-400h160v-160H180v160Zm440 0h160v-160H620v160ZM180-180h160v-160H180v160Zm440 0h160v-160H620v160Z\"/>\n",
              "  </svg>\n",
              "    </button>\n",
              "\n",
              "  <style>\n",
              "    .colab-df-container {\n",
              "      display:flex;\n",
              "      gap: 12px;\n",
              "    }\n",
              "\n",
              "    .colab-df-convert {\n",
              "      background-color: #E8F0FE;\n",
              "      border: none;\n",
              "      border-radius: 50%;\n",
              "      cursor: pointer;\n",
              "      display: none;\n",
              "      fill: #1967D2;\n",
              "      height: 32px;\n",
              "      padding: 0 0 0 0;\n",
              "      width: 32px;\n",
              "    }\n",
              "\n",
              "    .colab-df-convert:hover {\n",
              "      background-color: #E2EBFA;\n",
              "      box-shadow: 0px 1px 2px rgba(60, 64, 67, 0.3), 0px 1px 3px 1px rgba(60, 64, 67, 0.15);\n",
              "      fill: #174EA6;\n",
              "    }\n",
              "\n",
              "    .colab-df-buttons div {\n",
              "      margin-bottom: 4px;\n",
              "    }\n",
              "\n",
              "    [theme=dark] .colab-df-convert {\n",
              "      background-color: #3B4455;\n",
              "      fill: #D2E3FC;\n",
              "    }\n",
              "\n",
              "    [theme=dark] .colab-df-convert:hover {\n",
              "      background-color: #434B5C;\n",
              "      box-shadow: 0px 1px 3px 1px rgba(0, 0, 0, 0.15);\n",
              "      filter: drop-shadow(0px 1px 2px rgba(0, 0, 0, 0.3));\n",
              "      fill: #FFFFFF;\n",
              "    }\n",
              "  </style>\n",
              "\n",
              "    <script>\n",
              "      const buttonEl =\n",
              "        document.querySelector('#df-8bc9b5ca-d9fd-4f15-b3ef-2a9e6847843c button.colab-df-convert');\n",
              "      buttonEl.style.display =\n",
              "        google.colab.kernel.accessAllowed ? 'block' : 'none';\n",
              "\n",
              "      async function convertToInteractive(key) {\n",
              "        const element = document.querySelector('#df-8bc9b5ca-d9fd-4f15-b3ef-2a9e6847843c');\n",
              "        const dataTable =\n",
              "          await google.colab.kernel.invokeFunction('convertToInteractive',\n",
              "                                                    [key], {});\n",
              "        if (!dataTable) return;\n",
              "\n",
              "        const docLinkHtml = 'Like what you see? Visit the ' +\n",
              "          '<a target=\"_blank\" href=https://colab.research.google.com/notebooks/data_table.ipynb>data table notebook</a>'\n",
              "          + ' to learn more about interactive tables.';\n",
              "        element.innerHTML = '';\n",
              "        dataTable['output_type'] = 'display_data';\n",
              "        await google.colab.output.renderOutput(dataTable, element);\n",
              "        const docLink = document.createElement('div');\n",
              "        docLink.innerHTML = docLinkHtml;\n",
              "        element.appendChild(docLink);\n",
              "      }\n",
              "    </script>\n",
              "  </div>\n",
              "\n",
              "\n",
              "<div id=\"df-41e78d1c-6c6e-409e-847a-59afbdf16670\">\n",
              "  <button class=\"colab-df-quickchart\" onclick=\"quickchart('df-41e78d1c-6c6e-409e-847a-59afbdf16670')\"\n",
              "            title=\"Suggest charts\"\n",
              "            style=\"display:none;\">\n",
              "\n",
              "<svg xmlns=\"http://www.w3.org/2000/svg\" height=\"24px\"viewBox=\"0 0 24 24\"\n",
              "     width=\"24px\">\n",
              "    <g>\n",
              "        <path d=\"M19 3H5c-1.1 0-2 .9-2 2v14c0 1.1.9 2 2 2h14c1.1 0 2-.9 2-2V5c0-1.1-.9-2-2-2zM9 17H7v-7h2v7zm4 0h-2V7h2v10zm4 0h-2v-4h2v4z\"/>\n",
              "    </g>\n",
              "</svg>\n",
              "  </button>\n",
              "\n",
              "<style>\n",
              "  .colab-df-quickchart {\n",
              "      --bg-color: #E8F0FE;\n",
              "      --fill-color: #1967D2;\n",
              "      --hover-bg-color: #E2EBFA;\n",
              "      --hover-fill-color: #174EA6;\n",
              "      --disabled-fill-color: #AAA;\n",
              "      --disabled-bg-color: #DDD;\n",
              "  }\n",
              "\n",
              "  [theme=dark] .colab-df-quickchart {\n",
              "      --bg-color: #3B4455;\n",
              "      --fill-color: #D2E3FC;\n",
              "      --hover-bg-color: #434B5C;\n",
              "      --hover-fill-color: #FFFFFF;\n",
              "      --disabled-bg-color: #3B4455;\n",
              "      --disabled-fill-color: #666;\n",
              "  }\n",
              "\n",
              "  .colab-df-quickchart {\n",
              "    background-color: var(--bg-color);\n",
              "    border: none;\n",
              "    border-radius: 50%;\n",
              "    cursor: pointer;\n",
              "    display: none;\n",
              "    fill: var(--fill-color);\n",
              "    height: 32px;\n",
              "    padding: 0;\n",
              "    width: 32px;\n",
              "  }\n",
              "\n",
              "  .colab-df-quickchart:hover {\n",
              "    background-color: var(--hover-bg-color);\n",
              "    box-shadow: 0 1px 2px rgba(60, 64, 67, 0.3), 0 1px 3px 1px rgba(60, 64, 67, 0.15);\n",
              "    fill: var(--button-hover-fill-color);\n",
              "  }\n",
              "\n",
              "  .colab-df-quickchart-complete:disabled,\n",
              "  .colab-df-quickchart-complete:disabled:hover {\n",
              "    background-color: var(--disabled-bg-color);\n",
              "    fill: var(--disabled-fill-color);\n",
              "    box-shadow: none;\n",
              "  }\n",
              "\n",
              "  .colab-df-spinner {\n",
              "    border: 2px solid var(--fill-color);\n",
              "    border-color: transparent;\n",
              "    border-bottom-color: var(--fill-color);\n",
              "    animation:\n",
              "      spin 1s steps(1) infinite;\n",
              "  }\n",
              "\n",
              "  @keyframes spin {\n",
              "    0% {\n",
              "      border-color: transparent;\n",
              "      border-bottom-color: var(--fill-color);\n",
              "      border-left-color: var(--fill-color);\n",
              "    }\n",
              "    20% {\n",
              "      border-color: transparent;\n",
              "      border-left-color: var(--fill-color);\n",
              "      border-top-color: var(--fill-color);\n",
              "    }\n",
              "    30% {\n",
              "      border-color: transparent;\n",
              "      border-left-color: var(--fill-color);\n",
              "      border-top-color: var(--fill-color);\n",
              "      border-right-color: var(--fill-color);\n",
              "    }\n",
              "    40% {\n",
              "      border-color: transparent;\n",
              "      border-right-color: var(--fill-color);\n",
              "      border-top-color: var(--fill-color);\n",
              "    }\n",
              "    60% {\n",
              "      border-color: transparent;\n",
              "      border-right-color: var(--fill-color);\n",
              "    }\n",
              "    80% {\n",
              "      border-color: transparent;\n",
              "      border-right-color: var(--fill-color);\n",
              "      border-bottom-color: var(--fill-color);\n",
              "    }\n",
              "    90% {\n",
              "      border-color: transparent;\n",
              "      border-bottom-color: var(--fill-color);\n",
              "    }\n",
              "  }\n",
              "</style>\n",
              "\n",
              "  <script>\n",
              "    async function quickchart(key) {\n",
              "      const quickchartButtonEl =\n",
              "        document.querySelector('#' + key + ' button');\n",
              "      quickchartButtonEl.disabled = true;  // To prevent multiple clicks.\n",
              "      quickchartButtonEl.classList.add('colab-df-spinner');\n",
              "      try {\n",
              "        const charts = await google.colab.kernel.invokeFunction(\n",
              "            'suggestCharts', [key], {});\n",
              "      } catch (error) {\n",
              "        console.error('Error during call to suggestCharts:', error);\n",
              "      }\n",
              "      quickchartButtonEl.classList.remove('colab-df-spinner');\n",
              "      quickchartButtonEl.classList.add('colab-df-quickchart-complete');\n",
              "    }\n",
              "    (() => {\n",
              "      let quickchartButtonEl =\n",
              "        document.querySelector('#df-41e78d1c-6c6e-409e-847a-59afbdf16670 button');\n",
              "      quickchartButtonEl.style.display =\n",
              "        google.colab.kernel.accessAllowed ? 'block' : 'none';\n",
              "    })();\n",
              "  </script>\n",
              "</div>\n",
              "    </div>\n",
              "  </div>\n"
            ],
            "application/vnd.google.colaboratory.intrinsic+json": {
              "type": "dataframe",
              "variable_name": "selected_columns",
              "summary": "{\n  \"name\": \"selected_columns\",\n  \"rows\": 418,\n  \"fields\": [\n    {\n      \"column\": \"Survived\",\n      \"properties\": {\n        \"dtype\": \"number\",\n        \"std\": 0,\n        \"min\": 0,\n        \"max\": 1,\n        \"num_unique_values\": 2,\n        \"samples\": [\n          1,\n          0\n        ],\n        \"semantic_type\": \"\",\n        \"description\": \"\"\n      }\n    },\n    {\n      \"column\": \"Pclass\",\n      \"properties\": {\n        \"dtype\": \"number\",\n        \"std\": 0,\n        \"min\": 1,\n        \"max\": 3,\n        \"num_unique_values\": 3,\n        \"samples\": [\n          3,\n          2\n        ],\n        \"semantic_type\": \"\",\n        \"description\": \"\"\n      }\n    },\n    {\n      \"column\": \"Sex\",\n      \"properties\": {\n        \"dtype\": \"category\",\n        \"num_unique_values\": 2,\n        \"samples\": [\n          \"female\",\n          \"male\"\n        ],\n        \"semantic_type\": \"\",\n        \"description\": \"\"\n      }\n    },\n    {\n      \"column\": \"Age\",\n      \"properties\": {\n        \"dtype\": \"number\",\n        \"std\": 14.181209235624422,\n        \"min\": 0.17,\n        \"max\": 76.0,\n        \"num_unique_values\": 79,\n        \"samples\": [\n          10.0,\n          34.5\n        ],\n        \"semantic_type\": \"\",\n        \"description\": \"\"\n      }\n    },\n    {\n      \"column\": \"Fare\",\n      \"properties\": {\n        \"dtype\": \"number\",\n        \"std\": 55.907576179973844,\n        \"min\": 0.0,\n        \"max\": 512.3292,\n        \"num_unique_values\": 169,\n        \"samples\": [\n          41.5792,\n          57.75\n        ],\n        \"semantic_type\": \"\",\n        \"description\": \"\"\n      }\n    }\n  ]\n}"
            }
          },
          "metadata": {},
          "execution_count": 35
        }
      ]
    },
    {
      "cell_type": "markdown",
      "source": [
        "10.Замінити бінарні ознаки (Стать) на 0 і 1 (але перевірте унікальні\n",
        "значення даного стовпчика)"
      ],
      "metadata": {
        "id": "Ln0MhH2BQIJm"
      }
    },
    {
      "cell_type": "code",
      "source": [
        "selected_columns = df[['Sex']].copy()\n",
        "print(\"Унікальні значення 'Sex':\")\n",
        "selected_columns['Sex'].unique()\n",
        "\n",
        "selected_columns.loc[:, 'Sex'] = selected_columns['Sex'].map({'male': 1, 'female': 0})\n",
        "selected_columns.head()"
      ],
      "metadata": {
        "colab": {
          "base_uri": "https://localhost:8080/",
          "height": 223
        },
        "id": "UFLGBvgBQLqG",
        "outputId": "ea64cca6-e54f-4ea5-979e-4bc9bd479b99"
      },
      "execution_count": 36,
      "outputs": [
        {
          "output_type": "stream",
          "name": "stdout",
          "text": [
            "Унікальні значення 'Sex':\n"
          ]
        },
        {
          "output_type": "execute_result",
          "data": {
            "text/plain": [
              "  Sex\n",
              "0   1\n",
              "1   0\n",
              "2   1\n",
              "3   1\n",
              "4   0"
            ],
            "text/html": [
              "\n",
              "  <div id=\"df-4f90e269-3be5-445e-a404-cb9080d9732b\" class=\"colab-df-container\">\n",
              "    <div>\n",
              "<style scoped>\n",
              "    .dataframe tbody tr th:only-of-type {\n",
              "        vertical-align: middle;\n",
              "    }\n",
              "\n",
              "    .dataframe tbody tr th {\n",
              "        vertical-align: top;\n",
              "    }\n",
              "\n",
              "    .dataframe thead th {\n",
              "        text-align: right;\n",
              "    }\n",
              "</style>\n",
              "<table border=\"1\" class=\"dataframe\">\n",
              "  <thead>\n",
              "    <tr style=\"text-align: right;\">\n",
              "      <th></th>\n",
              "      <th>Sex</th>\n",
              "    </tr>\n",
              "  </thead>\n",
              "  <tbody>\n",
              "    <tr>\n",
              "      <th>0</th>\n",
              "      <td>1</td>\n",
              "    </tr>\n",
              "    <tr>\n",
              "      <th>1</th>\n",
              "      <td>0</td>\n",
              "    </tr>\n",
              "    <tr>\n",
              "      <th>2</th>\n",
              "      <td>1</td>\n",
              "    </tr>\n",
              "    <tr>\n",
              "      <th>3</th>\n",
              "      <td>1</td>\n",
              "    </tr>\n",
              "    <tr>\n",
              "      <th>4</th>\n",
              "      <td>0</td>\n",
              "    </tr>\n",
              "  </tbody>\n",
              "</table>\n",
              "</div>\n",
              "    <div class=\"colab-df-buttons\">\n",
              "\n",
              "  <div class=\"colab-df-container\">\n",
              "    <button class=\"colab-df-convert\" onclick=\"convertToInteractive('df-4f90e269-3be5-445e-a404-cb9080d9732b')\"\n",
              "            title=\"Convert this dataframe to an interactive table.\"\n",
              "            style=\"display:none;\">\n",
              "\n",
              "  <svg xmlns=\"http://www.w3.org/2000/svg\" height=\"24px\" viewBox=\"0 -960 960 960\">\n",
              "    <path d=\"M120-120v-720h720v720H120Zm60-500h600v-160H180v160Zm220 220h160v-160H400v160Zm0 220h160v-160H400v160ZM180-400h160v-160H180v160Zm440 0h160v-160H620v160ZM180-180h160v-160H180v160Zm440 0h160v-160H620v160Z\"/>\n",
              "  </svg>\n",
              "    </button>\n",
              "\n",
              "  <style>\n",
              "    .colab-df-container {\n",
              "      display:flex;\n",
              "      gap: 12px;\n",
              "    }\n",
              "\n",
              "    .colab-df-convert {\n",
              "      background-color: #E8F0FE;\n",
              "      border: none;\n",
              "      border-radius: 50%;\n",
              "      cursor: pointer;\n",
              "      display: none;\n",
              "      fill: #1967D2;\n",
              "      height: 32px;\n",
              "      padding: 0 0 0 0;\n",
              "      width: 32px;\n",
              "    }\n",
              "\n",
              "    .colab-df-convert:hover {\n",
              "      background-color: #E2EBFA;\n",
              "      box-shadow: 0px 1px 2px rgba(60, 64, 67, 0.3), 0px 1px 3px 1px rgba(60, 64, 67, 0.15);\n",
              "      fill: #174EA6;\n",
              "    }\n",
              "\n",
              "    .colab-df-buttons div {\n",
              "      margin-bottom: 4px;\n",
              "    }\n",
              "\n",
              "    [theme=dark] .colab-df-convert {\n",
              "      background-color: #3B4455;\n",
              "      fill: #D2E3FC;\n",
              "    }\n",
              "\n",
              "    [theme=dark] .colab-df-convert:hover {\n",
              "      background-color: #434B5C;\n",
              "      box-shadow: 0px 1px 3px 1px rgba(0, 0, 0, 0.15);\n",
              "      filter: drop-shadow(0px 1px 2px rgba(0, 0, 0, 0.3));\n",
              "      fill: #FFFFFF;\n",
              "    }\n",
              "  </style>\n",
              "\n",
              "    <script>\n",
              "      const buttonEl =\n",
              "        document.querySelector('#df-4f90e269-3be5-445e-a404-cb9080d9732b button.colab-df-convert');\n",
              "      buttonEl.style.display =\n",
              "        google.colab.kernel.accessAllowed ? 'block' : 'none';\n",
              "\n",
              "      async function convertToInteractive(key) {\n",
              "        const element = document.querySelector('#df-4f90e269-3be5-445e-a404-cb9080d9732b');\n",
              "        const dataTable =\n",
              "          await google.colab.kernel.invokeFunction('convertToInteractive',\n",
              "                                                    [key], {});\n",
              "        if (!dataTable) return;\n",
              "\n",
              "        const docLinkHtml = 'Like what you see? Visit the ' +\n",
              "          '<a target=\"_blank\" href=https://colab.research.google.com/notebooks/data_table.ipynb>data table notebook</a>'\n",
              "          + ' to learn more about interactive tables.';\n",
              "        element.innerHTML = '';\n",
              "        dataTable['output_type'] = 'display_data';\n",
              "        await google.colab.output.renderOutput(dataTable, element);\n",
              "        const docLink = document.createElement('div');\n",
              "        docLink.innerHTML = docLinkHtml;\n",
              "        element.appendChild(docLink);\n",
              "      }\n",
              "    </script>\n",
              "  </div>\n",
              "\n",
              "\n",
              "<div id=\"df-88d1d440-ca7f-48aa-a06d-76207fd17211\">\n",
              "  <button class=\"colab-df-quickchart\" onclick=\"quickchart('df-88d1d440-ca7f-48aa-a06d-76207fd17211')\"\n",
              "            title=\"Suggest charts\"\n",
              "            style=\"display:none;\">\n",
              "\n",
              "<svg xmlns=\"http://www.w3.org/2000/svg\" height=\"24px\"viewBox=\"0 0 24 24\"\n",
              "     width=\"24px\">\n",
              "    <g>\n",
              "        <path d=\"M19 3H5c-1.1 0-2 .9-2 2v14c0 1.1.9 2 2 2h14c1.1 0 2-.9 2-2V5c0-1.1-.9-2-2-2zM9 17H7v-7h2v7zm4 0h-2V7h2v10zm4 0h-2v-4h2v4z\"/>\n",
              "    </g>\n",
              "</svg>\n",
              "  </button>\n",
              "\n",
              "<style>\n",
              "  .colab-df-quickchart {\n",
              "      --bg-color: #E8F0FE;\n",
              "      --fill-color: #1967D2;\n",
              "      --hover-bg-color: #E2EBFA;\n",
              "      --hover-fill-color: #174EA6;\n",
              "      --disabled-fill-color: #AAA;\n",
              "      --disabled-bg-color: #DDD;\n",
              "  }\n",
              "\n",
              "  [theme=dark] .colab-df-quickchart {\n",
              "      --bg-color: #3B4455;\n",
              "      --fill-color: #D2E3FC;\n",
              "      --hover-bg-color: #434B5C;\n",
              "      --hover-fill-color: #FFFFFF;\n",
              "      --disabled-bg-color: #3B4455;\n",
              "      --disabled-fill-color: #666;\n",
              "  }\n",
              "\n",
              "  .colab-df-quickchart {\n",
              "    background-color: var(--bg-color);\n",
              "    border: none;\n",
              "    border-radius: 50%;\n",
              "    cursor: pointer;\n",
              "    display: none;\n",
              "    fill: var(--fill-color);\n",
              "    height: 32px;\n",
              "    padding: 0;\n",
              "    width: 32px;\n",
              "  }\n",
              "\n",
              "  .colab-df-quickchart:hover {\n",
              "    background-color: var(--hover-bg-color);\n",
              "    box-shadow: 0 1px 2px rgba(60, 64, 67, 0.3), 0 1px 3px 1px rgba(60, 64, 67, 0.15);\n",
              "    fill: var(--button-hover-fill-color);\n",
              "  }\n",
              "\n",
              "  .colab-df-quickchart-complete:disabled,\n",
              "  .colab-df-quickchart-complete:disabled:hover {\n",
              "    background-color: var(--disabled-bg-color);\n",
              "    fill: var(--disabled-fill-color);\n",
              "    box-shadow: none;\n",
              "  }\n",
              "\n",
              "  .colab-df-spinner {\n",
              "    border: 2px solid var(--fill-color);\n",
              "    border-color: transparent;\n",
              "    border-bottom-color: var(--fill-color);\n",
              "    animation:\n",
              "      spin 1s steps(1) infinite;\n",
              "  }\n",
              "\n",
              "  @keyframes spin {\n",
              "    0% {\n",
              "      border-color: transparent;\n",
              "      border-bottom-color: var(--fill-color);\n",
              "      border-left-color: var(--fill-color);\n",
              "    }\n",
              "    20% {\n",
              "      border-color: transparent;\n",
              "      border-left-color: var(--fill-color);\n",
              "      border-top-color: var(--fill-color);\n",
              "    }\n",
              "    30% {\n",
              "      border-color: transparent;\n",
              "      border-left-color: var(--fill-color);\n",
              "      border-top-color: var(--fill-color);\n",
              "      border-right-color: var(--fill-color);\n",
              "    }\n",
              "    40% {\n",
              "      border-color: transparent;\n",
              "      border-right-color: var(--fill-color);\n",
              "      border-top-color: var(--fill-color);\n",
              "    }\n",
              "    60% {\n",
              "      border-color: transparent;\n",
              "      border-right-color: var(--fill-color);\n",
              "    }\n",
              "    80% {\n",
              "      border-color: transparent;\n",
              "      border-right-color: var(--fill-color);\n",
              "      border-bottom-color: var(--fill-color);\n",
              "    }\n",
              "    90% {\n",
              "      border-color: transparent;\n",
              "      border-bottom-color: var(--fill-color);\n",
              "    }\n",
              "  }\n",
              "</style>\n",
              "\n",
              "  <script>\n",
              "    async function quickchart(key) {\n",
              "      const quickchartButtonEl =\n",
              "        document.querySelector('#' + key + ' button');\n",
              "      quickchartButtonEl.disabled = true;  // To prevent multiple clicks.\n",
              "      quickchartButtonEl.classList.add('colab-df-spinner');\n",
              "      try {\n",
              "        const charts = await google.colab.kernel.invokeFunction(\n",
              "            'suggestCharts', [key], {});\n",
              "      } catch (error) {\n",
              "        console.error('Error during call to suggestCharts:', error);\n",
              "      }\n",
              "      quickchartButtonEl.classList.remove('colab-df-spinner');\n",
              "      quickchartButtonEl.classList.add('colab-df-quickchart-complete');\n",
              "    }\n",
              "    (() => {\n",
              "      let quickchartButtonEl =\n",
              "        document.querySelector('#df-88d1d440-ca7f-48aa-a06d-76207fd17211 button');\n",
              "      quickchartButtonEl.style.display =\n",
              "        google.colab.kernel.accessAllowed ? 'block' : 'none';\n",
              "    })();\n",
              "  </script>\n",
              "</div>\n",
              "    </div>\n",
              "  </div>\n"
            ],
            "application/vnd.google.colaboratory.intrinsic+json": {
              "type": "dataframe",
              "variable_name": "selected_columns",
              "summary": "{\n  \"name\": \"selected_columns\",\n  \"rows\": 418,\n  \"fields\": [\n    {\n      \"column\": \"Sex\",\n      \"properties\": {\n        \"dtype\": \"date\",\n        \"min\": 0,\n        \"max\": 1,\n        \"num_unique_values\": 2,\n        \"samples\": [\n          0,\n          1\n        ],\n        \"semantic_type\": \"\",\n        \"description\": \"\"\n      }\n    }\n  ]\n}"
            }
          },
          "metadata": {},
          "execution_count": 36
        }
      ]
    },
    {
      "cell_type": "markdown",
      "source": [
        "11.Ще раз перевірити кількість пропущених даних (впевнитись, що їх\n",
        "немає)"
      ],
      "metadata": {
        "id": "kJiMFoPpQPX0"
      }
    },
    {
      "cell_type": "code",
      "source": [
        "selected_columns = df[['Sex']].copy()\n",
        "selected_columns.loc[:, 'Sex'] = selected_columns['Sex'].map({'male': 1, 'female': 0})\n",
        "print(\"Кількість пропущених значень:\")\n",
        "selected_columns.isnull().sum()"
      ],
      "metadata": {
        "colab": {
          "base_uri": "https://localhost:8080/",
          "height": 133
        },
        "id": "za4Tf-8iQUt7",
        "outputId": "9cd8c011-69d4-4d8a-f2af-3d6e7d751788"
      },
      "execution_count": 37,
      "outputs": [
        {
          "output_type": "stream",
          "name": "stdout",
          "text": [
            "Кількість пропущених значень:\n"
          ]
        },
        {
          "output_type": "execute_result",
          "data": {
            "text/plain": [
              "Sex    0\n",
              "dtype: int64"
            ],
            "text/html": [
              "<div>\n",
              "<style scoped>\n",
              "    .dataframe tbody tr th:only-of-type {\n",
              "        vertical-align: middle;\n",
              "    }\n",
              "\n",
              "    .dataframe tbody tr th {\n",
              "        vertical-align: top;\n",
              "    }\n",
              "\n",
              "    .dataframe thead th {\n",
              "        text-align: right;\n",
              "    }\n",
              "</style>\n",
              "<table border=\"1\" class=\"dataframe\">\n",
              "  <thead>\n",
              "    <tr style=\"text-align: right;\">\n",
              "      <th></th>\n",
              "      <th>0</th>\n",
              "    </tr>\n",
              "  </thead>\n",
              "  <tbody>\n",
              "    <tr>\n",
              "      <th>Sex</th>\n",
              "      <td>0</td>\n",
              "    </tr>\n",
              "  </tbody>\n",
              "</table>\n",
              "</div><br><label><b>dtype:</b> int64</label>"
            ]
          },
          "metadata": {},
          "execution_count": 37
        }
      ]
    },
    {
      "cell_type": "markdown",
      "source": [
        "12.Вивести 5 перших рядків датасету."
      ],
      "metadata": {
        "id": "B5pdU4psQXW9"
      }
    },
    {
      "cell_type": "code",
      "source": [
        "cmap = sns.light_palette(\"skyblue\", as_cmap=True)\n",
        "styled_head_df = df.head().style.background_gradient(cmap=cmap, axis=1).set_caption(\"Перші 5 рядків датасету Titanic\")\n",
        "styled_head_df\n",
        "\n"
      ],
      "metadata": {
        "colab": {
          "base_uri": "https://localhost:8080/",
          "height": 223
        },
        "id": "kesSEwCfQojx",
        "outputId": "26254522-cb56-4c53-e411-de8fdf68c2f3"
      },
      "execution_count": 49,
      "outputs": [
        {
          "output_type": "execute_result",
          "data": {
            "text/plain": [
              "<pandas.io.formats.style.Styler at 0x7d729a717460>"
            ],
            "text/html": [
              "<style type=\"text/css\">\n",
              "#T_e2038_row0_col0, #T_e2038_row1_col0, #T_e2038_row2_col0, #T_e2038_row3_col0, #T_e2038_row4_col0 {\n",
              "  background-color: #87ceeb;\n",
              "  color: #000000;\n",
              "}\n",
              "#T_e2038_row0_col1, #T_e2038_row0_col2, #T_e2038_row0_col6, #T_e2038_row0_col7, #T_e2038_row1_col1, #T_e2038_row1_col2, #T_e2038_row1_col6, #T_e2038_row1_col7, #T_e2038_row2_col1, #T_e2038_row2_col2, #T_e2038_row2_col6, #T_e2038_row2_col7, #T_e2038_row3_col1, #T_e2038_row3_col2, #T_e2038_row3_col6, #T_e2038_row3_col7, #T_e2038_row4_col1, #T_e2038_row4_col2, #T_e2038_row4_col6, #T_e2038_row4_col7 {\n",
              "  background-color: #eff1f2;\n",
              "  color: #000000;\n",
              "}\n",
              "#T_e2038_row0_col5 {\n",
              "  background-color: #ebf0f2;\n",
              "  color: #000000;\n",
              "}\n",
              "#T_e2038_row0_col9, #T_e2038_row1_col9, #T_e2038_row2_col9, #T_e2038_row3_col9, #T_e2038_row4_col9 {\n",
              "  background-color: #eef1f2;\n",
              "  color: #000000;\n",
              "}\n",
              "#T_e2038_row1_col5 {\n",
              "  background-color: #eaeff2;\n",
              "  color: #000000;\n",
              "}\n",
              "#T_e2038_row2_col5 {\n",
              "  background-color: #e8eff2;\n",
              "  color: #000000;\n",
              "}\n",
              "#T_e2038_row3_col5 {\n",
              "  background-color: #ecf0f2;\n",
              "  color: #000000;\n",
              "}\n",
              "#T_e2038_row4_col5 {\n",
              "  background-color: #edf0f2;\n",
              "  color: #000000;\n",
              "}\n",
              "</style>\n",
              "<table id=\"T_e2038\" class=\"dataframe\">\n",
              "  <caption>Перші 5 рядків датасету Titanic</caption>\n",
              "  <thead>\n",
              "    <tr>\n",
              "      <th class=\"blank level0\" >&nbsp;</th>\n",
              "      <th id=\"T_e2038_level0_col0\" class=\"col_heading level0 col0\" >PassengerId</th>\n",
              "      <th id=\"T_e2038_level0_col1\" class=\"col_heading level0 col1\" >Survived</th>\n",
              "      <th id=\"T_e2038_level0_col2\" class=\"col_heading level0 col2\" >Pclass</th>\n",
              "      <th id=\"T_e2038_level0_col3\" class=\"col_heading level0 col3\" >Name</th>\n",
              "      <th id=\"T_e2038_level0_col4\" class=\"col_heading level0 col4\" >Sex</th>\n",
              "      <th id=\"T_e2038_level0_col5\" class=\"col_heading level0 col5\" >Age</th>\n",
              "      <th id=\"T_e2038_level0_col6\" class=\"col_heading level0 col6\" >SibSp</th>\n",
              "      <th id=\"T_e2038_level0_col7\" class=\"col_heading level0 col7\" >Parch</th>\n",
              "      <th id=\"T_e2038_level0_col8\" class=\"col_heading level0 col8\" >Ticket</th>\n",
              "      <th id=\"T_e2038_level0_col9\" class=\"col_heading level0 col9\" >Fare</th>\n",
              "      <th id=\"T_e2038_level0_col10\" class=\"col_heading level0 col10\" >Cabin</th>\n",
              "      <th id=\"T_e2038_level0_col11\" class=\"col_heading level0 col11\" >Embarked</th>\n",
              "    </tr>\n",
              "  </thead>\n",
              "  <tbody>\n",
              "    <tr>\n",
              "      <th id=\"T_e2038_level0_row0\" class=\"row_heading level0 row0\" >0</th>\n",
              "      <td id=\"T_e2038_row0_col0\" class=\"data row0 col0\" >892</td>\n",
              "      <td id=\"T_e2038_row0_col1\" class=\"data row0 col1\" >0</td>\n",
              "      <td id=\"T_e2038_row0_col2\" class=\"data row0 col2\" >3</td>\n",
              "      <td id=\"T_e2038_row0_col3\" class=\"data row0 col3\" >Kelly, Mr. James</td>\n",
              "      <td id=\"T_e2038_row0_col4\" class=\"data row0 col4\" >male</td>\n",
              "      <td id=\"T_e2038_row0_col5\" class=\"data row0 col5\" >34.500000</td>\n",
              "      <td id=\"T_e2038_row0_col6\" class=\"data row0 col6\" >0</td>\n",
              "      <td id=\"T_e2038_row0_col7\" class=\"data row0 col7\" >0</td>\n",
              "      <td id=\"T_e2038_row0_col8\" class=\"data row0 col8\" >330911</td>\n",
              "      <td id=\"T_e2038_row0_col9\" class=\"data row0 col9\" >7.829200</td>\n",
              "      <td id=\"T_e2038_row0_col10\" class=\"data row0 col10\" >nan</td>\n",
              "      <td id=\"T_e2038_row0_col11\" class=\"data row0 col11\" >Q</td>\n",
              "    </tr>\n",
              "    <tr>\n",
              "      <th id=\"T_e2038_level0_row1\" class=\"row_heading level0 row1\" >1</th>\n",
              "      <td id=\"T_e2038_row1_col0\" class=\"data row1 col0\" >893</td>\n",
              "      <td id=\"T_e2038_row1_col1\" class=\"data row1 col1\" >1</td>\n",
              "      <td id=\"T_e2038_row1_col2\" class=\"data row1 col2\" >3</td>\n",
              "      <td id=\"T_e2038_row1_col3\" class=\"data row1 col3\" >Wilkes, Mrs. James (Ellen Needs)</td>\n",
              "      <td id=\"T_e2038_row1_col4\" class=\"data row1 col4\" >female</td>\n",
              "      <td id=\"T_e2038_row1_col5\" class=\"data row1 col5\" >47.000000</td>\n",
              "      <td id=\"T_e2038_row1_col6\" class=\"data row1 col6\" >1</td>\n",
              "      <td id=\"T_e2038_row1_col7\" class=\"data row1 col7\" >0</td>\n",
              "      <td id=\"T_e2038_row1_col8\" class=\"data row1 col8\" >363272</td>\n",
              "      <td id=\"T_e2038_row1_col9\" class=\"data row1 col9\" >7.000000</td>\n",
              "      <td id=\"T_e2038_row1_col10\" class=\"data row1 col10\" >nan</td>\n",
              "      <td id=\"T_e2038_row1_col11\" class=\"data row1 col11\" >S</td>\n",
              "    </tr>\n",
              "    <tr>\n",
              "      <th id=\"T_e2038_level0_row2\" class=\"row_heading level0 row2\" >2</th>\n",
              "      <td id=\"T_e2038_row2_col0\" class=\"data row2 col0\" >894</td>\n",
              "      <td id=\"T_e2038_row2_col1\" class=\"data row2 col1\" >0</td>\n",
              "      <td id=\"T_e2038_row2_col2\" class=\"data row2 col2\" >2</td>\n",
              "      <td id=\"T_e2038_row2_col3\" class=\"data row2 col3\" >Myles, Mr. Thomas Francis</td>\n",
              "      <td id=\"T_e2038_row2_col4\" class=\"data row2 col4\" >male</td>\n",
              "      <td id=\"T_e2038_row2_col5\" class=\"data row2 col5\" >62.000000</td>\n",
              "      <td id=\"T_e2038_row2_col6\" class=\"data row2 col6\" >0</td>\n",
              "      <td id=\"T_e2038_row2_col7\" class=\"data row2 col7\" >0</td>\n",
              "      <td id=\"T_e2038_row2_col8\" class=\"data row2 col8\" >240276</td>\n",
              "      <td id=\"T_e2038_row2_col9\" class=\"data row2 col9\" >9.687500</td>\n",
              "      <td id=\"T_e2038_row2_col10\" class=\"data row2 col10\" >nan</td>\n",
              "      <td id=\"T_e2038_row2_col11\" class=\"data row2 col11\" >Q</td>\n",
              "    </tr>\n",
              "    <tr>\n",
              "      <th id=\"T_e2038_level0_row3\" class=\"row_heading level0 row3\" >3</th>\n",
              "      <td id=\"T_e2038_row3_col0\" class=\"data row3 col0\" >895</td>\n",
              "      <td id=\"T_e2038_row3_col1\" class=\"data row3 col1\" >0</td>\n",
              "      <td id=\"T_e2038_row3_col2\" class=\"data row3 col2\" >3</td>\n",
              "      <td id=\"T_e2038_row3_col3\" class=\"data row3 col3\" >Wirz, Mr. Albert</td>\n",
              "      <td id=\"T_e2038_row3_col4\" class=\"data row3 col4\" >male</td>\n",
              "      <td id=\"T_e2038_row3_col5\" class=\"data row3 col5\" >27.000000</td>\n",
              "      <td id=\"T_e2038_row3_col6\" class=\"data row3 col6\" >0</td>\n",
              "      <td id=\"T_e2038_row3_col7\" class=\"data row3 col7\" >0</td>\n",
              "      <td id=\"T_e2038_row3_col8\" class=\"data row3 col8\" >315154</td>\n",
              "      <td id=\"T_e2038_row3_col9\" class=\"data row3 col9\" >8.662500</td>\n",
              "      <td id=\"T_e2038_row3_col10\" class=\"data row3 col10\" >nan</td>\n",
              "      <td id=\"T_e2038_row3_col11\" class=\"data row3 col11\" >S</td>\n",
              "    </tr>\n",
              "    <tr>\n",
              "      <th id=\"T_e2038_level0_row4\" class=\"row_heading level0 row4\" >4</th>\n",
              "      <td id=\"T_e2038_row4_col0\" class=\"data row4 col0\" >896</td>\n",
              "      <td id=\"T_e2038_row4_col1\" class=\"data row4 col1\" >1</td>\n",
              "      <td id=\"T_e2038_row4_col2\" class=\"data row4 col2\" >3</td>\n",
              "      <td id=\"T_e2038_row4_col3\" class=\"data row4 col3\" >Hirvonen, Mrs. Alexander (Helga E Lindqvist)</td>\n",
              "      <td id=\"T_e2038_row4_col4\" class=\"data row4 col4\" >female</td>\n",
              "      <td id=\"T_e2038_row4_col5\" class=\"data row4 col5\" >22.000000</td>\n",
              "      <td id=\"T_e2038_row4_col6\" class=\"data row4 col6\" >1</td>\n",
              "      <td id=\"T_e2038_row4_col7\" class=\"data row4 col7\" >1</td>\n",
              "      <td id=\"T_e2038_row4_col8\" class=\"data row4 col8\" >3101298</td>\n",
              "      <td id=\"T_e2038_row4_col9\" class=\"data row4 col9\" >12.287500</td>\n",
              "      <td id=\"T_e2038_row4_col10\" class=\"data row4 col10\" >nan</td>\n",
              "      <td id=\"T_e2038_row4_col11\" class=\"data row4 col11\" >S</td>\n",
              "    </tr>\n",
              "  </tbody>\n",
              "</table>\n"
            ]
          },
          "metadata": {},
          "execution_count": 49
        }
      ]
    },
    {
      "cell_type": "markdown",
      "source": [
        "13.Вивести 5 останніх рядків датасету."
      ],
      "metadata": {
        "id": "glBLTv6XRsYb"
      }
    },
    {
      "cell_type": "code",
      "source": [
        "cmap = sns.light_palette(\"skyblue\", as_cmap=True)\n",
        "styled_head_df = df.tail().style.background_gradient(cmap=cmap, axis=1).set_caption(\"Останні 5 рядків датасету Titanic\")\n",
        "styled_head_df"
      ],
      "metadata": {
        "colab": {
          "base_uri": "https://localhost:8080/",
          "height": 241
        },
        "id": "GrbEmYWtRyz1",
        "outputId": "4fd9aea6-1f12-4218-85b7-aa66d02d45a0"
      },
      "execution_count": 57,
      "outputs": [
        {
          "output_type": "stream",
          "name": "stdout",
          "text": [
            "Кількість пропущених значень:\n"
          ]
        },
        {
          "output_type": "execute_result",
          "data": {
            "text/plain": [
              "<pandas.io.formats.style.Styler at 0x7d729a483520>"
            ],
            "text/html": [
              "<style type=\"text/css\">\n",
              "#T_3e0fa_row0_col0, #T_3e0fa_row1_col0, #T_3e0fa_row2_col0, #T_3e0fa_row3_col0, #T_3e0fa_row4_col0 {\n",
              "  background-color: #87ceeb;\n",
              "  color: #000000;\n",
              "}\n",
              "#T_3e0fa_row0_col1, #T_3e0fa_row0_col2, #T_3e0fa_row0_col6, #T_3e0fa_row0_col7, #T_3e0fa_row0_col9, #T_3e0fa_row1_col1, #T_3e0fa_row1_col2, #T_3e0fa_row1_col6, #T_3e0fa_row1_col7, #T_3e0fa_row2_col1, #T_3e0fa_row2_col2, #T_3e0fa_row2_col6, #T_3e0fa_row2_col7, #T_3e0fa_row2_col9, #T_3e0fa_row3_col1, #T_3e0fa_row3_col2, #T_3e0fa_row3_col6, #T_3e0fa_row3_col7, #T_3e0fa_row3_col9, #T_3e0fa_row4_col1, #T_3e0fa_row4_col2, #T_3e0fa_row4_col6, #T_3e0fa_row4_col7 {\n",
              "  background-color: #eff1f2;\n",
              "  color: #000000;\n",
              "}\n",
              "#T_3e0fa_row0_col4, #T_3e0fa_row1_col4, #T_3e0fa_row2_col4, #T_3e0fa_row3_col4, #T_3e0fa_row4_col4 {\n",
              "  background-color: #000000;\n",
              "  color: #f1f1f1;\n",
              "}\n",
              "#T_3e0fa_row0_col5, #T_3e0fa_row3_col5, #T_3e0fa_row4_col5, #T_3e0fa_row4_col9 {\n",
              "  background-color: #edf0f2;\n",
              "  color: #000000;\n",
              "}\n",
              "#T_3e0fa_row1_col5, #T_3e0fa_row2_col5 {\n",
              "  background-color: #ecf0f2;\n",
              "  color: #000000;\n",
              "}\n",
              "#T_3e0fa_row1_col9 {\n",
              "  background-color: #e6eef1;\n",
              "  color: #000000;\n",
              "}\n",
              "</style>\n",
              "<table id=\"T_3e0fa\" class=\"dataframe\">\n",
              "  <caption>Останні 5 рядків датасету Titanic</caption>\n",
              "  <thead>\n",
              "    <tr>\n",
              "      <th class=\"blank level0\" >&nbsp;</th>\n",
              "      <th id=\"T_3e0fa_level0_col0\" class=\"col_heading level0 col0\" >PassengerId</th>\n",
              "      <th id=\"T_3e0fa_level0_col1\" class=\"col_heading level0 col1\" >Survived</th>\n",
              "      <th id=\"T_3e0fa_level0_col2\" class=\"col_heading level0 col2\" >Pclass</th>\n",
              "      <th id=\"T_3e0fa_level0_col3\" class=\"col_heading level0 col3\" >Name</th>\n",
              "      <th id=\"T_3e0fa_level0_col4\" class=\"col_heading level0 col4\" >Sex</th>\n",
              "      <th id=\"T_3e0fa_level0_col5\" class=\"col_heading level0 col5\" >Age</th>\n",
              "      <th id=\"T_3e0fa_level0_col6\" class=\"col_heading level0 col6\" >SibSp</th>\n",
              "      <th id=\"T_3e0fa_level0_col7\" class=\"col_heading level0 col7\" >Parch</th>\n",
              "      <th id=\"T_3e0fa_level0_col8\" class=\"col_heading level0 col8\" >Ticket</th>\n",
              "      <th id=\"T_3e0fa_level0_col9\" class=\"col_heading level0 col9\" >Fare</th>\n",
              "      <th id=\"T_3e0fa_level0_col10\" class=\"col_heading level0 col10\" >Cabin</th>\n",
              "      <th id=\"T_3e0fa_level0_col11\" class=\"col_heading level0 col11\" >Embarked</th>\n",
              "    </tr>\n",
              "  </thead>\n",
              "  <tbody>\n",
              "    <tr>\n",
              "      <th id=\"T_3e0fa_level0_row0\" class=\"row_heading level0 row0\" >413</th>\n",
              "      <td id=\"T_3e0fa_row0_col0\" class=\"data row0 col0\" >1305</td>\n",
              "      <td id=\"T_3e0fa_row0_col1\" class=\"data row0 col1\" >0</td>\n",
              "      <td id=\"T_3e0fa_row0_col2\" class=\"data row0 col2\" >3</td>\n",
              "      <td id=\"T_3e0fa_row0_col3\" class=\"data row0 col3\" >Spector, Mr. Woolf</td>\n",
              "      <td id=\"T_3e0fa_row0_col4\" class=\"data row0 col4\" >nan</td>\n",
              "      <td id=\"T_3e0fa_row0_col5\" class=\"data row0 col5\" >30.272590</td>\n",
              "      <td id=\"T_3e0fa_row0_col6\" class=\"data row0 col6\" >0</td>\n",
              "      <td id=\"T_3e0fa_row0_col7\" class=\"data row0 col7\" >0</td>\n",
              "      <td id=\"T_3e0fa_row0_col8\" class=\"data row0 col8\" >A.5. 3236</td>\n",
              "      <td id=\"T_3e0fa_row0_col9\" class=\"data row0 col9\" >8.050000</td>\n",
              "      <td id=\"T_3e0fa_row0_col10\" class=\"data row0 col10\" >nan</td>\n",
              "      <td id=\"T_3e0fa_row0_col11\" class=\"data row0 col11\" >S</td>\n",
              "    </tr>\n",
              "    <tr>\n",
              "      <th id=\"T_3e0fa_level0_row1\" class=\"row_heading level0 row1\" >414</th>\n",
              "      <td id=\"T_3e0fa_row1_col0\" class=\"data row1 col0\" >1306</td>\n",
              "      <td id=\"T_3e0fa_row1_col1\" class=\"data row1 col1\" >1</td>\n",
              "      <td id=\"T_3e0fa_row1_col2\" class=\"data row1 col2\" >1</td>\n",
              "      <td id=\"T_3e0fa_row1_col3\" class=\"data row1 col3\" >Oliva y Ocana, Dona. Fermina</td>\n",
              "      <td id=\"T_3e0fa_row1_col4\" class=\"data row1 col4\" >nan</td>\n",
              "      <td id=\"T_3e0fa_row1_col5\" class=\"data row1 col5\" >39.000000</td>\n",
              "      <td id=\"T_3e0fa_row1_col6\" class=\"data row1 col6\" >0</td>\n",
              "      <td id=\"T_3e0fa_row1_col7\" class=\"data row1 col7\" >0</td>\n",
              "      <td id=\"T_3e0fa_row1_col8\" class=\"data row1 col8\" >PC 17758</td>\n",
              "      <td id=\"T_3e0fa_row1_col9\" class=\"data row1 col9\" >108.900000</td>\n",
              "      <td id=\"T_3e0fa_row1_col10\" class=\"data row1 col10\" >C105</td>\n",
              "      <td id=\"T_3e0fa_row1_col11\" class=\"data row1 col11\" >C</td>\n",
              "    </tr>\n",
              "    <tr>\n",
              "      <th id=\"T_3e0fa_level0_row2\" class=\"row_heading level0 row2\" >415</th>\n",
              "      <td id=\"T_3e0fa_row2_col0\" class=\"data row2 col0\" >1307</td>\n",
              "      <td id=\"T_3e0fa_row2_col1\" class=\"data row2 col1\" >0</td>\n",
              "      <td id=\"T_3e0fa_row2_col2\" class=\"data row2 col2\" >3</td>\n",
              "      <td id=\"T_3e0fa_row2_col3\" class=\"data row2 col3\" >Saether, Mr. Simon Sivertsen</td>\n",
              "      <td id=\"T_3e0fa_row2_col4\" class=\"data row2 col4\" >nan</td>\n",
              "      <td id=\"T_3e0fa_row2_col5\" class=\"data row2 col5\" >38.500000</td>\n",
              "      <td id=\"T_3e0fa_row2_col6\" class=\"data row2 col6\" >0</td>\n",
              "      <td id=\"T_3e0fa_row2_col7\" class=\"data row2 col7\" >0</td>\n",
              "      <td id=\"T_3e0fa_row2_col8\" class=\"data row2 col8\" >SOTON/O.Q. 3101262</td>\n",
              "      <td id=\"T_3e0fa_row2_col9\" class=\"data row2 col9\" >7.250000</td>\n",
              "      <td id=\"T_3e0fa_row2_col10\" class=\"data row2 col10\" >nan</td>\n",
              "      <td id=\"T_3e0fa_row2_col11\" class=\"data row2 col11\" >S</td>\n",
              "    </tr>\n",
              "    <tr>\n",
              "      <th id=\"T_3e0fa_level0_row3\" class=\"row_heading level0 row3\" >416</th>\n",
              "      <td id=\"T_3e0fa_row3_col0\" class=\"data row3 col0\" >1308</td>\n",
              "      <td id=\"T_3e0fa_row3_col1\" class=\"data row3 col1\" >0</td>\n",
              "      <td id=\"T_3e0fa_row3_col2\" class=\"data row3 col2\" >3</td>\n",
              "      <td id=\"T_3e0fa_row3_col3\" class=\"data row3 col3\" >Ware, Mr. Frederick</td>\n",
              "      <td id=\"T_3e0fa_row3_col4\" class=\"data row3 col4\" >nan</td>\n",
              "      <td id=\"T_3e0fa_row3_col5\" class=\"data row3 col5\" >30.272590</td>\n",
              "      <td id=\"T_3e0fa_row3_col6\" class=\"data row3 col6\" >0</td>\n",
              "      <td id=\"T_3e0fa_row3_col7\" class=\"data row3 col7\" >0</td>\n",
              "      <td id=\"T_3e0fa_row3_col8\" class=\"data row3 col8\" >359309</td>\n",
              "      <td id=\"T_3e0fa_row3_col9\" class=\"data row3 col9\" >8.050000</td>\n",
              "      <td id=\"T_3e0fa_row3_col10\" class=\"data row3 col10\" >nan</td>\n",
              "      <td id=\"T_3e0fa_row3_col11\" class=\"data row3 col11\" >S</td>\n",
              "    </tr>\n",
              "    <tr>\n",
              "      <th id=\"T_3e0fa_level0_row4\" class=\"row_heading level0 row4\" >417</th>\n",
              "      <td id=\"T_3e0fa_row4_col0\" class=\"data row4 col0\" >1309</td>\n",
              "      <td id=\"T_3e0fa_row4_col1\" class=\"data row4 col1\" >0</td>\n",
              "      <td id=\"T_3e0fa_row4_col2\" class=\"data row4 col2\" >3</td>\n",
              "      <td id=\"T_3e0fa_row4_col3\" class=\"data row4 col3\" >Peter, Master. Michael J</td>\n",
              "      <td id=\"T_3e0fa_row4_col4\" class=\"data row4 col4\" >nan</td>\n",
              "      <td id=\"T_3e0fa_row4_col5\" class=\"data row4 col5\" >30.272590</td>\n",
              "      <td id=\"T_3e0fa_row4_col6\" class=\"data row4 col6\" >1</td>\n",
              "      <td id=\"T_3e0fa_row4_col7\" class=\"data row4 col7\" >1</td>\n",
              "      <td id=\"T_3e0fa_row4_col8\" class=\"data row4 col8\" >2668</td>\n",
              "      <td id=\"T_3e0fa_row4_col9\" class=\"data row4 col9\" >22.358300</td>\n",
              "      <td id=\"T_3e0fa_row4_col10\" class=\"data row4 col10\" >nan</td>\n",
              "      <td id=\"T_3e0fa_row4_col11\" class=\"data row4 col11\" >C</td>\n",
              "    </tr>\n",
              "  </tbody>\n",
              "</table>\n"
            ]
          },
          "metadata": {},
          "execution_count": 57
        }
      ]
    },
    {
      "cell_type": "markdown",
      "source": [
        "14.Аналіз виживання залежно від статі: Обчисліть відсоток виживання\n",
        "для кожної статі. Чи була різниця у виживанні між чоловіками та\n",
        "жінками?"
      ],
      "metadata": {
        "id": "G-apjvq3SDBf"
      }
    },
    {
      "cell_type": "code",
      "source": [
        "df = pd.read_csv('titanic.csv')\n",
        "print(\"Sex:\")\n",
        "print(df['Sex'].unique())\n",
        "\n",
        "if 'Sex' in df.columns and 'Survived' in df.columns:\n",
        "    df['Sex'] = df['Sex'].map({'male': 1, 'female': 0})\n",
        "    survival_rate = df.groupby('Sex')['Survived'].mean() * 100\n",
        "    print(\"Відсоток виживання:\")\n",
        "    print(survival_rate)\n"
      ],
      "metadata": {
        "colab": {
          "base_uri": "https://localhost:8080/"
        },
        "id": "RCmt0rbOSFl-",
        "outputId": "8af803c1-3142-4330-e690-92b070d9c738"
      },
      "execution_count": 58,
      "outputs": [
        {
          "output_type": "stream",
          "name": "stdout",
          "text": [
            "Sex:\n",
            "['male' 'female']\n",
            "Відсоток виживання:\n",
            "Sex\n",
            "0    100.0\n",
            "1      0.0\n",
            "Name: Survived, dtype: float64\n"
          ]
        }
      ]
    },
    {
      "cell_type": "markdown",
      "source": [
        "15.Обчисліть відсоток виживання для кожного класу (Pclass). Який\n",
        "клас мав найвищий рівень виживання (дати відповідь)?\n"
      ],
      "metadata": {
        "id": "gihwEiDrTs7a"
      }
    },
    {
      "cell_type": "code",
      "source": [
        "\n",
        "if 'Pclass' in df.columns and 'Survived' in df.columns:\n",
        "    survival_rate_per_class = df.groupby('Pclass')['Survived'].mean() * 100\n",
        "\n",
        "    # Виведення результатів\n",
        "    print(\"Відсоток виживання для кожного класу:\")\n",
        "    for pclass, rate in survival_rate_per_class.items():\n",
        "        print(f\"Клас {pclass}: {rate:.2f}%\")\n",
        "\n",
        "    # Визначення класу з найвищим рівнем виживання\n",
        "    highest_survival_class = survival_rate_per_class.idxmax()\n",
        "    print(f\"\\nКлас з найвищим рівнем виживання: {highest_survival_class}\")\n",
        "else:\n",
        "    print(\"Необхідні стовпці 'Pclass' і 'Survived' відсутні в даних.\")\n"
      ],
      "metadata": {
        "colab": {
          "base_uri": "https://localhost:8080/"
        },
        "id": "aeltvO3ZUER3",
        "outputId": "061f6f43-3541-4368-b825-ebea4cecd1ed"
      },
      "execution_count": 60,
      "outputs": [
        {
          "output_type": "stream",
          "name": "stdout",
          "text": [
            "Відсоток виживання для кожного класу:\n",
            "Клас 1: 46.73%\n",
            "Клас 2: 32.26%\n",
            "Клас 3: 33.03%\n",
            "\n",
            "Клас з найвищим рівнем виживання: 1\n"
          ]
        }
      ]
    },
    {
      "cell_type": "markdown",
      "source": [
        "16. Визначте середній вік тих, хто вижив, і тих, хто не вижив. Чи\n",
        "впливає вік на виживання (дати відповідь)?"
      ],
      "metadata": {
        "id": "jwfyQPOCUdNC"
      }
    },
    {
      "cell_type": "code",
      "source": [
        "if 'Survived' in df.columns and 'Age' in df.columns:\n",
        "\n",
        "    df_filtered = df.dropna(subset=['Age'])\n",
        "\n",
        "    average_age = df_filtered.groupby('Survived')['Age'].mean()\n",
        "\n",
        "    print(\"Середній вік:\")\n",
        "    print(f\"Ті, хто вижив: {average_age[1]:.2f} років\")\n",
        "    print(f\"Ті, хто не вижив: {average_age[0]:.2f} років\")\n",
        "\n",
        "    if average_age[1] < average_age[0]:\n",
        "        print(\"\\nМолодші мали вищий рівень виживання.\")\n",
        "    else:\n",
        "        print(\"\\nВік не мав значного впливу на виживання.\")\n",
        "else:\n",
        "    print(\"Необхідні стовпці 'Survived' і 'Age' відсутні в даних.\")"
      ],
      "metadata": {
        "colab": {
          "base_uri": "https://localhost:8080/"
        },
        "id": "qzrnWRKjUdan",
        "outputId": "38a036a6-0860-4589-a42d-6eb87a0a961e"
      },
      "execution_count": 63,
      "outputs": [
        {
          "output_type": "stream",
          "name": "stdout",
          "text": [
            "Середній вік:\n",
            "Ті, хто вижив: 30.27 років\n",
            "Ті, хто не вижив: 30.27 років\n",
            "\n",
            "Молодші мали вищий рівень виживання.\n"
          ]
        }
      ]
    },
    {
      "cell_type": "markdown",
      "source": [
        "17. Розподіліть пасажирів на групи за рівнями тарифів (Fare) і\n",
        "обчисліть рівень виживання для кожної групи. Як тариф впливав на\n",
        "шанси виживання (дати відповідь)?\n"
      ],
      "metadata": {
        "id": "RvAqc5l9Uowi"
      }
    },
    {
      "cell_type": "code",
      "source": [
        "if 'Fare' in df.columns and 'Survived' in df.columns:\n",
        "\n",
        "    fare_bins = [0, 7.91, 14.45, 31.0, df['Fare'].max()]\n",
        "    fare_labels = ['Low', 'Medium', 'High', 'Very High']\n",
        "    df['FareGroup'] = pd.cut(df['Fare'], bins=fare_bins, labels=fare_labels)\n",
        "\n",
        "\n",
        "    survival_rate_per_fare_group = df.groupby('FareGroup')['Survived'].mean() * 100\n",
        "\n",
        "\n",
        "    print(\"Рівень виживання для кожної групи за тарифами:\")\n",
        "    for group, rate in survival_rate_per_fare_group.items():\n",
        "        print(f\"{group}: {rate:.2f}%\")\n",
        "\n",
        "\n",
        "    print(\"\\nВисновок:\")\n",
        "    if survival_rate_per_fare_group['Very High'] > survival_rate_per_fare_group['Low']:\n",
        "        print(\"Пасажири з вищими тарифами мали більші шанси на виживання.\")\n",
        "    else:\n",
        "        print(\"Тариф не мав значного впливу на шанси виживання.\")\n",
        "else:\n",
        "    print(\"Необхідні стовпці 'Fare' і 'Survived' відсутні в даних.\")"
      ],
      "metadata": {
        "colab": {
          "base_uri": "https://localhost:8080/"
        },
        "id": "r1nC4Yb-VIrE",
        "outputId": "507483bd-6eed-4aca-98c1-bb53bc31d058"
      },
      "execution_count": 64,
      "outputs": [
        {
          "output_type": "stream",
          "name": "stdout",
          "text": [
            "Рівень виживання для кожної групи за тарифами:\n",
            "Low: 26.79%\n",
            "Medium: 26.88%\n",
            "High: 41.18%\n",
            "Very High: 50.93%\n",
            "\n",
            "Висновок:\n",
            "Пасажири з вищими тарифами мали більші шанси на виживання.\n"
          ]
        },
        {
          "output_type": "stream",
          "name": "stderr",
          "text": [
            "<ipython-input-64-58254423a3a6>:8: FutureWarning: The default of observed=False is deprecated and will be changed to True in a future version of pandas. Pass observed=False to retain current behavior or observed=True to adopt the future default and silence this warning.\n",
            "  survival_rate_per_fare_group = df.groupby('FareGroup')['Survived'].mean() * 100\n"
          ]
        }
      ]
    },
    {
      "cell_type": "markdown",
      "source": [
        "18.Аналіз класу та тарифу: Визначте середній тариф (Fare) для кожного\n",
        "класу (Pclass). Чи існує значна різниця у тарифах між класами (дати\n",
        "відповідь)?"
      ],
      "metadata": {
        "id": "J9OHUMlMVQKP"
      }
    },
    {
      "cell_type": "code",
      "source": [
        "if 'Pclass' in df.columns and 'Fare' in df.columns:\n",
        "\n",
        "    average_fare_per_class = df.groupby('Pclass')['Fare'].mean()\n",
        "\n",
        "    print(\"Середній тариф для кожного класу:\")\n",
        "    for pclass, fare in average_fare_per_class.items():\n",
        "        print(f\"Клас {pclass}: {fare:.2f} одиниць валюти\")\n",
        "\n",
        "    # Аналіз різниці у тарифах між класами\n",
        "    print(\"\\nВисновок:\")\n",
        "    if average_fare_per_class[1] > average_fare_per_class[2] > average_fare_per_class[3]:\n",
        "        print(\"Існує значна різниця у тарифах між класами: тарифи значно вищі у вищих класах.\")\n",
        "    else:\n",
        "        print(\"Різниця у тарифах між класами не є суттєвою.\")\n",
        "else:\n",
        "    print(\"Необхідні стовпці 'Pclass' і 'Fare' відсутні в даних.\")"
      ],
      "metadata": {
        "colab": {
          "base_uri": "https://localhost:8080/"
        },
        "id": "7i0Jk6EfVRgD",
        "outputId": "7c4020d1-e322-4f2f-ba9a-3fc263376563"
      },
      "execution_count": 66,
      "outputs": [
        {
          "output_type": "stream",
          "name": "stdout",
          "text": [
            "Середній тариф для кожного класу:\n",
            "Клас 1: 94.28 одиниць валюти\n",
            "Клас 2: 22.20 одиниць валюти\n",
            "Клас 3: 12.46 одиниць валюти\n",
            "\n",
            "Висновок:\n",
            "Існує значна різниця у тарифах між класами: тарифи значно вищі у вищих класах.\n"
          ]
        }
      ]
    },
    {
      "cell_type": "markdown",
      "source": [
        "19. Обчисліть середній вік пасажирів для кожного класу (Pclass). Як вік\n",
        "пасажирів розподіляється за класами (дати відповідь)?"
      ],
      "metadata": {
        "id": "5MD67j_DWDDR"
      }
    },
    {
      "cell_type": "code",
      "source": [
        "if 'Pclass' in df.columns and 'Age' in df.columns:\n",
        "    # Виключення рядків з відсутніми значеннями у стовпці 'Age'\n",
        "    df_filtered = df.dropna(subset=['Age'])\n",
        "\n",
        "    # Обчислення середнього віку для кожного класу\n",
        "    average_age_per_class = df_filtered.groupby('Pclass')['Age'].mean()\n",
        "\n",
        "    # Виведення результатів\n",
        "    print(\"Середній вік пасажирів для кожного класу:\")\n",
        "    for pclass, age in average_age_per_class.items():\n",
        "        print(f\"Клас {pclass}: {age:.2f} років\")\n",
        "\n",
        "    # Аналіз розподілу віку за класами\n",
        "    print(\"\\nВисновок:\")\n",
        "    if average_age_per_class[1] > average_age_per_class[2] > average_age_per_class[3]:\n",
        "        print(\"Пасажири першого класу в середньому були старшими, а пасажири третього класу молодшими.\")\n",
        "    else:\n",
        "        print(\"Середній вік пасажирів незначно відрізняється між класами.\")\n",
        "else:\n",
        "    print(\"Необхідні стовпці 'Pclass' і 'Age' відсутні в даних.\")"
      ],
      "metadata": {
        "colab": {
          "base_uri": "https://localhost:8080/"
        },
        "id": "g0EiSxmEWFFW",
        "outputId": "494c8676-30bb-4086-e40c-9a7448406841"
      },
      "execution_count": 68,
      "outputs": [
        {
          "output_type": "stream",
          "name": "stdout",
          "text": [
            "Середній вік пасажирів для кожного класу:\n",
            "Клас 1: 40.92 років\n",
            "Клас 2: 28.78 років\n",
            "Клас 3: 24.03 років\n",
            "\n",
            "Висновок:\n",
            "Пасажири першого класу в середньому були старшими, а пасажири третього класу молодшими.\n"
          ]
        }
      ]
    },
    {
      "cell_type": "markdown",
      "source": [
        "20.Побудуйте гістограму розподілу віку для тих, хто вижив, і тих, хто\n",
        "не вижив. Чи є видимі відмінності у вікових групах (дати\n",
        "відповідь)?"
      ],
      "metadata": {
        "id": "LiflHRwVWc7L"
      }
    },
    {
      "cell_type": "code",
      "source": [
        "import pandas as pd\n",
        "import matplotlib.pyplot as plt\n",
        "\n",
        "\n",
        "if 'Survived' in df.columns and 'Age' in df.columns:\n",
        "    df_filtered = df.dropna(subset=['Age'])\n",
        "\n",
        "    plt.figure(figsize=(12, 6))\n",
        "\n",
        "    plt.hist(df_filtered[df_filtered['Survived'] == 1]['Age'], bins=20, alpha=0.5, label='Вижили', color='green')\n",
        "    plt.hist(df_filtered[df_filtered['Survived'] == 0]['Age'], bins=20, alpha=0.5, label='Не вижили', color='red')\n",
        "\n",
        "    plt.title('Гістограма розподілу віку для тих, хто вижив, і тих, хто не вижив')\n",
        "    plt.xlabel('Вік')\n",
        "    plt.ylabel('Кількість пасажирів')\n",
        "    plt.legend()\n",
        "\n",
        "    plt.show()\n",
        "\n",
        "    print(\"\\nВисновок:\")\n",
        "    print(\"На гістограмі видно, що молодші пасажири мали трохи кращі шанси на виживання, особливо діти.\")\n",
        "    print(\"Також видно, що пасажири середнього віку, які не вижили, були представлені в більшій кількості, ніж ті, що вижили.\")\n",
        "else:\n",
        "    print(\"Необхідні стовпці 'Survived' і 'Age' відсутні в даних.\")\n"
      ],
      "metadata": {
        "colab": {
          "base_uri": "https://localhost:8080/",
          "height": 633
        },
        "id": "msElJ0QgWm0n",
        "outputId": "ffcaadd4-24c0-449e-8a08-6d26d1a6c347"
      },
      "execution_count": 69,
      "outputs": [
        {
          "output_type": "display_data",
          "data": {
            "text/plain": [
              "<Figure size 1200x600 with 1 Axes>"
            ],
            "image/png": "[encoded data removed]"
          },
          "metadata": {}
        },
        {
          "output_type": "stream",
          "name": "stdout",
          "text": [
            "\n",
            "Висновок:\n",
            "На гістограмі видно, що молодші пасажири мали трохи кращі шанси на виживання, особливо діти.\n",
            "Також видно, що пасажири середнього віку, які не вижили, були представлені в більшій кількості, ніж ті, що вижили.\n"
          ]
        }
      ]
    },
    {
      "cell_type": "markdown",
      "source": [
        "21. Обчисліть відсоток виживання для кожної комбінації статі та класу\n",
        "(наприклад, жінки в 1-му класі, чоловіки в 3-му класі). Яка група\n",
        "мала найвищий рівень виживання (дати відповідь)?"
      ],
      "metadata": {
        "id": "1-QTsfexWwcr"
      }
    },
    {
      "cell_type": "code",
      "source": [
        "if 'Pclass' in df.columns and 'Sex' in df.columns and 'Survived' in df.columns:\n",
        "    survival_rate_by_sex_class = df.groupby(['Sex', 'Pclass'])['Survived'].mean() * 100\n",
        "\n",
        "    print(\"Відсоток виживання для кожної комбінації статі та класу:\")\n",
        "    for (sex, pclass), rate in survival_rate_by_sex_class.items():\n",
        "        print(f\"{sex.capitalize()} у класі {pclass}: {rate:.2f}%\")\n",
        "\n",
        "    highest_survival_group = survival_rate_by_sex_class.idxmax()\n",
        "    highest_survival_rate = survival_rate_by_sex_class.max()\n",
        "    print(f\"\\nГрупа з найвищим рівнем виживання: {highest_survival_group[0].capitalize()} у класі {highest_survival_group[1]} з рівнем виживання {highest_survival_rate:.2f}%\")\n",
        "else:\n",
        "    print(\"Необхідні стовпці 'Pclass', 'Sex', і 'Survived' відсутні в даних.\")\n"
      ],
      "metadata": {
        "colab": {
          "base_uri": "https://localhost:8080/"
        },
        "id": "X606wMh3W-AE",
        "outputId": "38a82ec3-240d-46c3-fd86-e519c7045b6c"
      },
      "execution_count": 70,
      "outputs": [
        {
          "output_type": "stream",
          "name": "stdout",
          "text": [
            "Відсоток виживання для кожної комбінації статі та класу:\n",
            "Female у класі 1: 100.00%\n",
            "Female у класі 2: 100.00%\n",
            "Female у класі 3: 100.00%\n",
            "Male у класі 1: 0.00%\n",
            "Male у класі 2: 0.00%\n",
            "Male у класі 3: 0.00%\n",
            "\n",
            "Група з найвищим рівнем виживання: Female у класі 1 з рівнем виживання 100.00%\n"
          ]
        }
      ]
    },
    {
      "cell_type": "markdown",
      "source": [
        "22.Обчисліть кореляцію між усіма числовими змінними (Survived,\n",
        "Pclass, Age, Fare). Які змінні найбільш сильно корелюють з\n",
        "виживанням (дати відповідь)?"
      ],
      "metadata": {
        "id": "0uJfxBr7XKPI"
      }
    },
    {
      "cell_type": "code",
      "source": [
        "# Обчислення кореляції між числовими змінними\n",
        "correlation = df[['Survived', 'Pclass', 'Age', 'Fare']].corr()\n",
        "\n",
        "# Виведення кореляційної матриці\n",
        "print(\"Кореляція між змінними:\")\n",
        "print(correlation)\n",
        "\n",
        "# Виведення кореляції з виживанням\n",
        "print(\"\\nКореляція з виживанням:\")\n",
        "print(correlation['Survived'])\n"
      ],
      "metadata": {
        "colab": {
          "base_uri": "https://localhost:8080/"
        },
        "id": "-Bf5x0rtY25B",
        "outputId": "d702c8a5-933f-42e1-b568-a56a98f0f706"
      },
      "execution_count": 71,
      "outputs": [
        {
          "output_type": "stream",
          "name": "stdout",
          "text": [
            "Кореляція між змінними:\n",
            "          Survived    Pclass       Age      Fare\n",
            "Survived  1.000000 -0.108615 -0.000011  0.191382\n",
            "Pclass   -0.108615  1.000000 -0.440782 -0.576619\n",
            "Age      -0.000011 -0.440782  1.000000  0.326800\n",
            "Fare      0.191382 -0.576619  0.326800  1.000000\n",
            "\n",
            "Кореляція з виживанням:\n",
            "Survived    1.000000\n",
            "Pclass     -0.108615\n",
            "Age        -0.000011\n",
            "Fare        0.191382\n",
            "Name: Survived, dtype: float64\n"
          ]
        }
      ]
    },
    {
      "cell_type": "markdown",
      "source": [
        "**Висновок:** навчилася працювати із датасетами, також було визначено, що аналіз кореляцій показує, що клас подорожі (Pclass) і вартість квитка (Fare) мають більш суттєвий вплив на виживання пасажирів, ніж вік (Age). Виживання більше залежить від соціально-економічного статусу пасажира, ніж від його віку."
      ],
      "metadata": {
        "id": "gxkCI8CHY_Ng"
      }
    }
  ]
}