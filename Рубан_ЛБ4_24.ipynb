{
  "nbformat": 4,
  "nbformat_minor": 0,
  "metadata": {
    "colab": {
      "provenance": [],
      "include_colab_link": true
    },
    "kernelspec": {
      "name": "python3",
      "display_name": "Python 3"
    },
    "language_info": {
      "name": "python"
    }
  },
  "cells": [
    {
      "cell_type": "markdown",
      "metadata": {
        "id": "view-in-github",
        "colab_type": "text"
      },
      "source": [
        "<a href=\"https://colab.research.google.com/github/Daryna-Ruban/Machine-learning/blob/main/%D0%A0%D1%83%D0%B1%D0%B0%D0%BD_%D0%9B%D0%914_24.ipynb\" target=\"_parent\"><img src=\"https://colab.research.google.com/assets/colab-badge.svg\" alt=\"Open In Colab\"/></a>"
      ]
    },
    {
      "cell_type": "markdown",
      "source": [
        "# **ЛАБОРАТОРНА РОБОТА 4**\n",
        "\n",
        "Задача класифікації.\n"
      ],
      "metadata": {
        "id": "zZgTWMJI_Q3p"
      }
    },
    {
      "cell_type": "markdown",
      "source": [
        "# 1.Проведіть попередній аналіз даних:"
      ],
      "metadata": {
        "id": "6AKr58Qw_USK"
      }
    },
    {
      "cell_type": "code",
      "source": [
        "from sklearn.datasets import load_breast_cancer\n",
        "from sklearn.model_selection import train_test_split, GridSearchCV\n",
        "from sklearn.preprocessing import StandardScaler\n",
        "from sklearn.ensemble import RandomForestClassifier\n",
        "from sklearn.linear_model import LogisticRegression\n",
        "from sklearn.tree import DecisionTreeClassifier\n",
        "from sklearn.metrics import classification_report, accuracy_score\n",
        "from sklearn.svm import SVC\n",
        "import matplotlib.pyplot as plt\n",
        "from sklearn.datasets import load_diabetes"
      ],
      "metadata": {
        "id": "DVXGZ2z0NHl4"
      },
      "execution_count": null,
      "outputs": []
    },
    {
      "cell_type": "markdown",
      "source": [
        "1. Перегляньте перші кілька рядків."
      ],
      "metadata": {
        "id": "-6YG6whEN3Hp"
      }
    },
    {
      "cell_type": "code",
      "source": [
        "from tabulate import tabulate\n",
        "\n",
        "# Завантаження датасету\n",
        "data = load_breast_cancer()\n",
        "\n",
        "# Створення DataFrame для зручності перегляду\n",
        "df = pd.DataFrame(data.data, columns=data.feature_names)\n",
        "\n",
        "# Додавання стовпця з мітками класів\n",
        "df['target'] = data.target\n",
        "\n",
        "# Перегляд перших кількох рядків у вигляді таблички\n",
        "print(\"Перші кілька рядків датасету:\")\n",
        "print(tabulate(df.head(), headers='keys', tablefmt='pretty'))"
      ],
      "metadata": {
        "colab": {
          "base_uri": "https://localhost:8080/"
        },
        "id": "AN-cAV_A_sdo",
        "outputId": "79bc8799-c762-4213-886e-5b3b931d6797"
      },
      "execution_count": null,
      "outputs": [
        {
          "output_type": "stream",
          "name": "stdout",
          "text": [
            "Перші кілька рядків датасету:\n",
            "+---+-------------+--------------+----------------+-----------+-----------------+------------------+----------------+---------------------+---------------+------------------------+--------------+---------------+-----------------+------------+------------------+-------------------+-----------------+----------------------+----------------+-------------------------+--------------+---------------+-----------------+------------+------------------+-------------------+-----------------+----------------------+----------------+-------------------------+--------+\n",
            "|   | mean radius | mean texture | mean perimeter | mean area | mean smoothness | mean compactness | mean concavity | mean concave points | mean symmetry | mean fractal dimension | radius error | texture error | perimeter error | area error | smoothness error | compactness error | concavity error | concave points error | symmetry error | fractal dimension error | worst radius | worst texture | worst perimeter | worst area | worst smoothness | worst compactness | worst concavity | worst concave points | worst symmetry | worst fractal dimension | target |\n",
            "+---+-------------+--------------+----------------+-----------+-----------------+------------------+----------------+---------------------+---------------+------------------------+--------------+---------------+-----------------+------------+------------------+-------------------+-----------------+----------------------+----------------+-------------------------+--------------+---------------+-----------------+------------+------------------+-------------------+-----------------+----------------------+----------------+-------------------------+--------+\n",
            "| 0 |    17.99    |    10.38     |     122.8      |  1001.0   |     0.1184      |      0.2776      |     0.3001     |       0.1471        |    0.2419     |        0.07871         |    1.095     |    0.9053     |      8.589      |   153.4    |     0.006399     |      0.04904      |     0.05373     |       0.01587        |    0.03003     |        0.006193         |    25.38     |     17.33     |      184.6      |   2019.0   |      0.1622      |      0.6656       |     0.7119      |        0.2654        |     0.4601     |         0.1189          |  0.0   |\n",
            "| 1 |    20.57    |    17.77     |     132.9      |  1326.0   |     0.08474     |     0.07864      |     0.0869     |       0.07017       |    0.1812     |        0.05667         |    0.5435    |    0.7339     |      3.398      |   74.08    |     0.005225     |      0.01308      |     0.0186      |        0.0134        |    0.01389     |        0.003532         |    24.99     |     23.41     |      158.8      |   1956.0   |      0.1238      |      0.1866       |     0.2416      |        0.186         |     0.275      |         0.08902         |  0.0   |\n",
            "| 2 |    19.69    |    21.25     |     130.0      |  1203.0   |     0.1096      |      0.1599      |     0.1974     |       0.1279        |    0.2069     |        0.05999         |    0.7456    |    0.7869     |      4.585      |   94.03    |     0.00615      |      0.04006      |     0.03832     |       0.02058        |     0.0225     |        0.004571         |    23.57     |     25.53     |      152.5      |   1709.0   |      0.1444      |      0.4245       |     0.4504      |        0.243         |     0.3613     |         0.08758         |  0.0   |\n",
            "| 3 |    11.42    |    20.38     |     77.58      |   386.1   |     0.1425      |      0.2839      |     0.2414     |       0.1052        |    0.2597     |        0.09744         |    0.4956    |     1.156     |      3.445      |   27.23    |     0.00911      |      0.07458      |     0.05661     |       0.01867        |    0.05963     |        0.009208         |    14.91     |     26.5      |      98.87      |   567.7    |      0.2098      |      0.8663       |     0.6869      |        0.2575        |     0.6638     |          0.173          |  0.0   |\n",
            "| 4 |    20.29    |    14.34     |     135.1      |  1297.0   |     0.1003      |      0.1328      |     0.198      |       0.1043        |    0.1809     |        0.05883         |    0.7572    |    0.7813     |      5.438      |   94.44    |     0.01149      |      0.02461      |     0.05688     |       0.01885        |    0.01756     |        0.005115         |    22.54     |     16.67     |      152.2      |   1575.0   |      0.1374      |       0.205       |       0.4       |        0.1625        |     0.2364     |         0.07678         |  0.0   |\n",
            "+---+-------------+--------------+----------------+-----------+-----------------+------------------+----------------+---------------------+---------------+------------------------+--------------+---------------+-----------------+------------+------------------+-------------------+-----------------+----------------------+----------------+-------------------------+--------------+---------------+-----------------+------------+------------------+-------------------+-----------------+----------------------+----------------+-------------------------+--------+\n"
          ]
        }
      ]
    },
    {
      "cell_type": "markdown",
      "source": [
        "2. Перевірте назви стовпців та типи даних"
      ],
      "metadata": {
        "id": "K5i9Ps2oN2OB"
      }
    },
    {
      "cell_type": "code",
      "source": [
        "# Імпортування необхідних бібліотек\n",
        "import pandas as pd\n",
        "from sklearn.datasets import load_diabetes  # Імпортуємо load_diabetes\n",
        "from tabulate import tabulate\n",
        "\n",
        "# Завантаження датасету\n",
        "diabetes_data = load_diabetes()\n",
        "diabetes_df = pd.DataFrame(diabetes_data.data, columns=diabetes_data.feature_names)\n",
        "\n",
        "# Перевіримо наявність пропусків у даних\n",
        "print(\"Кількість пропусків у кожній колонці:\")\n",
        "print(tabulate(diabetes_df.isnull().sum().reset_index(), headers=['Column', 'Missing Values'], tablefmt='pretty'))\n",
        "\n",
        "# Якщо є пропуски, замінюємо їх на середнє значення по колонці\n",
        "diabetes_df.fillna(diabetes_df.mean(), inplace=True)\n",
        "\n",
        "# Повторно перевіримо наявність пропусків після заміни\n",
        "print(\"\\nПісля заміни пропусків:\")\n",
        "print(tabulate(diabetes_df.isnull().sum().reset_index(), headers=['Column', 'Missing Values'], tablefmt='pretty'))\n",
        "\n",
        "# Перевірка назв стовпців та типів даних\n",
        "print(\"\\nНазви стовпців та типи даних:\")\n",
        "print(tabulate(diabetes_df.dtypes.reset_index(), headers=['Column', 'Data Type'], tablefmt='pretty'))\n",
        "\n",
        "# Виведемо перші 5 рядків після обробки\n",
        "print(\"\\nПерші 5 рядків даних після перевірки та обробки пропусків:\")\n",
        "print(tabulate(diabetes_df.head(), headers='keys', tablefmt='pretty'))"
      ],
      "metadata": {
        "colab": {
          "base_uri": "https://localhost:8080/"
        },
        "id": "wfKWk6uIOSAx",
        "outputId": "f82d0809-4bf2-4f43-9076-203386cffb6d"
      },
      "execution_count": null,
      "outputs": [
        {
          "output_type": "stream",
          "name": "stdout",
          "text": [
            "Кількість пропусків у кожній колонці:\n",
            "+---+--------+----------------+\n",
            "|   | Column | Missing Values |\n",
            "+---+--------+----------------+\n",
            "| 0 |  age   |       0        |\n",
            "| 1 |  sex   |       0        |\n",
            "| 2 |  bmi   |       0        |\n",
            "| 3 |   bp   |       0        |\n",
            "| 4 |   s1   |       0        |\n",
            "| 5 |   s2   |       0        |\n",
            "| 6 |   s3   |       0        |\n",
            "| 7 |   s4   |       0        |\n",
            "| 8 |   s5   |       0        |\n",
            "| 9 |   s6   |       0        |\n",
            "+---+--------+----------------+\n",
            "\n",
            "Після заміни пропусків:\n",
            "+---+--------+----------------+\n",
            "|   | Column | Missing Values |\n",
            "+---+--------+----------------+\n",
            "| 0 |  age   |       0        |\n",
            "| 1 |  sex   |       0        |\n",
            "| 2 |  bmi   |       0        |\n",
            "| 3 |   bp   |       0        |\n",
            "| 4 |   s1   |       0        |\n",
            "| 5 |   s2   |       0        |\n",
            "| 6 |   s3   |       0        |\n",
            "| 7 |   s4   |       0        |\n",
            "| 8 |   s5   |       0        |\n",
            "| 9 |   s6   |       0        |\n",
            "+---+--------+----------------+\n",
            "\n",
            "Назви стовпців та типи даних:\n",
            "+---+--------+-----------+\n",
            "|   | Column | Data Type |\n",
            "+---+--------+-----------+\n",
            "| 0 |  age   |  float64  |\n",
            "| 1 |  sex   |  float64  |\n",
            "| 2 |  bmi   |  float64  |\n",
            "| 3 |   bp   |  float64  |\n",
            "| 4 |   s1   |  float64  |\n",
            "| 5 |   s2   |  float64  |\n",
            "| 6 |   s3   |  float64  |\n",
            "| 7 |   s4   |  float64  |\n",
            "| 8 |   s5   |  float64  |\n",
            "| 9 |   s6   |  float64  |\n",
            "+---+--------+-----------+\n",
            "\n",
            "Перші 5 рядків даних після перевірки та обробки пропусків:\n",
            "+---+------------------------+-----------------------+-----------------------+----------------------+-----------------------+-----------------------+-----------------------+-----------------------+----------------------+-----------------------+\n",
            "|   |          age           |          sex          |          bmi          |          bp          |          s1           |          s2           |          s3           |          s4           |          s5          |          s6           |\n",
            "+---+------------------------+-----------------------+-----------------------+----------------------+-----------------------+-----------------------+-----------------------+-----------------------+----------------------+-----------------------+\n",
            "| 0 |  0.038075906433423026  |  0.05068011873981862  | 0.061696206518683294  |  0.0218723855140367  | -0.04422349842444599  | -0.03482076283769895  | -0.04340084565202491  | -0.002592261998183278 | 0.019907486170462722 | -0.01764612515980379  |\n",
            "| 1 | -0.0018820165277906047 | -0.044641636506989144 | -0.051474061238800654 | -0.02632752814785296 | -0.008448724111216851 | -0.019163339748222204 |  0.07441156407875721  | -0.03949338287409329  | -0.0683315470939731  |  -0.092204049626824   |\n",
            "| 2 |  0.08529890629667548   |  0.05068011873981862  |  0.04445121333659049  | -0.00567042229275739 | -0.04559945128264711  | -0.03419446591411989  | -0.03235593223976409  | -0.002592261998183278 | 0.002861309289833047 | -0.025930338989472702 |\n",
            "| 3 |  -0.0890629393522567   | -0.044641636506989144 | -0.011595014505211082 | -0.03665608107540074 |  0.01219056876179996  |  0.02499059336410222  | -0.036037570043851025 |  0.03430885887772673  | 0.022687744966501246 | -0.009361911330134878 |\n",
            "| 4 |  0.005383060374248237  | -0.044641636506989144 | -0.03638469220446948  |  0.0218723855140367  | 0.003934851612593237  | 0.015596139510416171  | 0.008142083605192267  | -0.002592261998183278 | -0.03198763948805312 | -0.04664087356364498  |\n",
            "+---+------------------------+-----------------------+-----------------------+----------------------+-----------------------+-----------------------+-----------------------+-----------------------+----------------------+-----------------------+\n"
          ]
        }
      ]
    },
    {
      "cell_type": "markdown",
      "source": [
        "3. Перевірте наявність пропущених значень."
      ],
      "metadata": {
        "id": "lRnW1KLbPdb4"
      }
    },
    {
      "cell_type": "code",
      "source": [
        "# Перевіряємо наявність дублікатів\n",
        "duplicates = diabetes_df.duplicated()\n",
        "print(f\"Кількість дублікатів: {duplicates.sum()}\")\n",
        "\n",
        "# Видаляємо дублікати, якщо вони є\n",
        "diabetes_df_cleaned = diabetes_df.drop_duplicates()\n",
        "\n",
        "# Виводимо результати після видалення дублікатів\n",
        "print(f\"Кількість рядків після видалення дублікатів: {diabetes_df_cleaned.shape[0]}\")"
      ],
      "metadata": {
        "colab": {
          "base_uri": "https://localhost:8080/"
        },
        "id": "siO-k5NdPgUX",
        "outputId": "85247bab-f9c0-4cb4-ef0b-ffe7ab24974d"
      },
      "execution_count": null,
      "outputs": [
        {
          "output_type": "stream",
          "name": "stdout",
          "text": [
            "Кількість дублікатів: 0\n",
            "Кількість рядків після видалення дублікатів: 442\n"
          ]
        }
      ]
    },
    {
      "cell_type": "markdown",
      "source": [
        "4. Досліджуйте розмір даних."
      ],
      "metadata": {
        "id": "JJnDEQ7cPllY"
      }
    },
    {
      "cell_type": "code",
      "source": [
        "print(\"\\nРозмір даних:\")\n",
        "df.shape"
      ],
      "metadata": {
        "colab": {
          "base_uri": "https://localhost:8080/"
        },
        "id": "01YMHmaWPn-V",
        "outputId": "071f2924-958c-4707-ded6-0849b7a5f48a"
      },
      "execution_count": null,
      "outputs": [
        {
          "output_type": "stream",
          "name": "stdout",
          "text": [
            "\n",
            "Розмір даних:\n"
          ]
        },
        {
          "output_type": "execute_result",
          "data": {
            "text/plain": [
              "(569, 31)"
            ]
          },
          "metadata": {},
          "execution_count": 24
        }
      ]
    },
    {
      "cell_type": "markdown",
      "source": [
        "# 2. Побудова і налаштування моделей:\n",
        "1. Розділіть дані на навчальний і тестовий набори."
      ],
      "metadata": {
        "id": "vKKUoMdHP7X9"
      }
    },
    {
      "cell_type": "code",
      "source": [
        "from sklearn.model_selection import train_test_split\n",
        "\n",
        "X, y = data.data, data.target\n",
        "X_train, X_test, y_train, y_test = train_test_split(X, y, test_size=0.3, random_state=42)\n",
        "\n",
        "print(\"Розмір навчального набору (X_train):\", X_train.shape)\n",
        "print(\"Розмір тестового набору (X_test):\", X_test.shape)\n",
        "print(\"Розмір навчальних міток (y_train):\", y_train.shape)\n",
        "print(\"Розмір тестових міток (y_test):\", y_test.shape)\n",
        "\n",
        "scaler = StandardScaler()\n",
        "X_train = scaler.fit_transform(X_train)\n",
        "X_test = scaler.transform(X_test)"
      ],
      "metadata": {
        "colab": {
          "base_uri": "https://localhost:8080/"
        },
        "id": "boIKgbsxQKhX",
        "outputId": "6e62f3d4-7f06-45c6-abfc-f3b48ee5355c"
      },
      "execution_count": null,
      "outputs": [
        {
          "output_type": "stream",
          "name": "stdout",
          "text": [
            "Розмір навчального набору (X_train): (398, 30)\n",
            "Розмір тестового набору (X_test): (171, 30)\n",
            "Розмір навчальних міток (y_train): (398,)\n",
            "Розмір тестових міток (y_test): (171,)\n"
          ]
        }
      ]
    },
    {
      "cell_type": "markdown",
      "source": [
        "2. Побудуйте три моделі класифікації (на власний вибір),\n",
        "наприклад:\n",
        "    1. Логістична регресія.\n",
        "    2. Дерево рішень.\n",
        "    3. Випадковий ліс (Random Forest)."
      ],
      "metadata": {
        "id": "HJjEesoxQ7qX"
      }
    },
    {
      "cell_type": "code",
      "source": [
        "# Модель 1: Логістична регресія\n",
        "logistic_model = LogisticRegression(max_iter=10000)  # Збільшуємо max_iter, щоб уникнути попередження\n",
        "logistic_model.fit(X_train, y_train)\n",
        "y_pred_logistic = logistic_model.predict(X_test)\n",
        "\n",
        "# Модель 2: Дерево рішень\n",
        "decision_tree_model = DecisionTreeClassifier()\n",
        "decision_tree_model.fit(X_train, y_train)\n",
        "y_pred_tree = decision_tree_model.predict(X_test)\n",
        "\n",
        "# Модель 3: Випадковий ліс\n",
        "random_forest_model = RandomForestClassifier()\n",
        "random_forest_model.fit(X_train, y_train)\n",
        "y_pred_forest = random_forest_model.predict(X_test)\n",
        "\n",
        "# Оцінка моделей\n",
        "results = []\n",
        "\n",
        "# Логістична регресія\n",
        "logistic_accuracy = accuracy_score(y_test, y_pred_logistic)\n",
        "logistic_report = classification_report(y_test, y_pred_logistic, output_dict=True)\n",
        "results.append([\"Логістична регресія\", logistic_accuracy, logistic_report[\"0\"][\"f1-score\"], logistic_report[\"1\"][\"f1-score\"]])\n",
        "\n",
        "# Дерево рішень\n",
        "tree_accuracy = accuracy_score(y_test, y_pred_tree)\n",
        "tree_report = classification_report(y_test, y_pred_tree, output_dict=True)\n",
        "results.append([\"Дерево рішень\", tree_accuracy, tree_report[\"0\"][\"f1-score\"], tree_report[\"1\"][\"f1-score\"]])\n",
        "\n",
        "# Випадковий ліс\n",
        "forest_accuracy = accuracy_score(y_test, y_pred_forest)\n",
        "forest_report = classification_report(y_test, y_pred_forest, output_dict=True)\n",
        "results.append([\"Випадковий ліс\", forest_accuracy, forest_report[\"0\"][\"f1-score\"], forest_report[\"1\"][\"f1-score\"]])\n",
        "\n",
        "# Вивід результатів у вигляді таблички\n",
        "print(\"\\nОцінка моделей класифікації:\\n\")\n",
        "print(tabulate(results, headers=[\"Модель\", \"Точність\", \"F1-score (Клас 0)\", \"F1-score (Клас 1)\"], tablefmt=\"pretty\"))"
      ],
      "metadata": {
        "colab": {
          "base_uri": "https://localhost:8080/"
        },
        "id": "JldegJLjQ_RU",
        "outputId": "0c99005e-65e2-4f07-e80f-2cd10d4d03b6"
      },
      "execution_count": null,
      "outputs": [
        {
          "output_type": "stream",
          "name": "stdout",
          "text": [
            "\n",
            "Оцінка моделей класифікації:\n",
            "\n",
            "+---------------------+--------------------+--------------------+--------------------+\n",
            "|       Модель        |      Точність      | F1-score (Клас 0)  | F1-score (Клас 1)  |\n",
            "+---------------------+--------------------+--------------------+--------------------+\n",
            "| Логістична регресія | 0.9824561403508771 | 0.9763779527559056 | 0.986046511627907  |\n",
            "|    Дерево рішень    | 0.935672514619883  | 0.916030534351145  | 0.9478672985781991 |\n",
            "|   Випадковий ліс    | 0.9649122807017544 | 0.9516129032258065 | 0.9724770642201835 |\n",
            "+---------------------+--------------------+--------------------+--------------------+\n"
          ]
        }
      ]
    },
    {
      "cell_type": "markdown",
      "source": [
        "3. Підберіть оптимальні параметри для кожної моделі за допомогою\n",
        "GridSearchCV (можна вибрати інший оптимізатор)."
      ],
      "metadata": {
        "id": "C8pwJWpSRWqF"
      }
    },
    {
      "cell_type": "code",
      "source": [
        "# Логістична Регресія\n",
        "logreg_param_grid = {\n",
        "    'C': [0.001, 0.01, 0.1, 1, 10, 100],\n",
        "    'penalty': ['l2'],\n",
        "    'solver': ['newton-cg', 'lbfgs', 'saga']\n",
        "}\n",
        "logreg_grid = GridSearchCV(LogisticRegression(max_iter=10000), logreg_param_grid, cv=5)\n",
        "logreg_grid.fit(X_train, y_train)\n",
        "logreg_best = logreg_grid.best_estimator_\n",
        "\n",
        "# Дерево Рішень\n",
        "tree_param_grid = {\n",
        "    'criterion': ['gini', 'entropy'],\n",
        "    'max_depth': [None, 5, 10, 15, 20],\n",
        "    'min_samples_split': [2, 5, 10]\n",
        "}\n",
        "tree_grid = GridSearchCV(DecisionTreeClassifier(), tree_param_grid, cv=5)\n",
        "tree_grid.fit(X_train, y_train)\n",
        "tree_best = tree_grid.best_estimator_\n",
        "\n",
        "# SVM\n",
        "svm = SVC()\n",
        "svm_params = {\n",
        "    'C': [0.1, 1, 10],\n",
        "    'kernel': ['linear', 'rbf'],\n",
        "    'gamma': ['scale', 'auto']\n",
        "}\n",
        "svm_grid = GridSearchCV(svm, svm_params, cv=5)\n",
        "svm_grid.fit(X_train, y_train)\n",
        "svm_best = svm_grid.best_estimator_\n",
        "\n",
        "# Оцінка точності моделей\n",
        "models = {'Logistic Regression': logreg_best, 'Decision Tree': tree_best, 'SVM': svm_best}\n",
        "for model_name, model in models.items():\n",
        "    y_pred = model.predict(X_test)\n",
        "    accuracy = accuracy_score(y_test, y_pred)\n",
        "    print(f\"{model_name} Accuracy: {accuracy}\")\n",
        "\n",
        "# Створення таблиці з найкращими параметрами\n",
        "best_params = {\n",
        "    'Model': ['Logistic Regression', 'Decision Tree', 'SVM'],\n",
        "    'Best Parameters': [\n",
        "        logreg_grid.best_params_,\n",
        "        tree_grid.best_params_,\n",
        "        svm_grid.best_params_\n",
        "    ]\n",
        "}\n",
        "best_params_df = pd.DataFrame(best_params)\n",
        "\n",
        "# Виведення таблиці\n",
        "print(\"\\nНайкращі параметри для моделей:\")\n",
        "print(tabulate(best_params_df, headers='keys', tablefmt='pretty'))"
      ],
      "metadata": {
        "colab": {
          "base_uri": "https://localhost:8080/"
        },
        "id": "bmtBlauFRZot",
        "outputId": "c1a96a6b-3707-4208-8e94-d9cc2de64f40"
      },
      "execution_count": null,
      "outputs": [
        {
          "output_type": "stream",
          "name": "stdout",
          "text": [
            "Logistic Regression Accuracy: 0.9824561403508771\n",
            "Decision Tree Accuracy: 0.9473684210526315\n",
            "SVM Accuracy: 0.9824561403508771\n",
            "\n",
            "Найкращі параметри для моделей:\n",
            "+---+---------------------+--------------------------------------------------------------------+\n",
            "|   |        Model        |                          Best Parameters                           |\n",
            "+---+---------------------+--------------------------------------------------------------------+\n",
            "| 0 | Logistic Regression |          {'C': 1, 'penalty': 'l2', 'solver': 'newton-cg'}          |\n",
            "| 1 |    Decision Tree    | {'criterion': 'entropy', 'max_depth': 15, 'min_samples_split': 10} |\n",
            "| 2 |         SVM         |          {'C': 0.1, 'gamma': 'scale', 'kernel': 'linear'}          |\n",
            "+---+---------------------+--------------------------------------------------------------------+\n"
          ]
        }
      ]
    },
    {
      "cell_type": "markdown",
      "source": [
        "# 3.Оцініть моделі.\n",
        "Виведіть точність (accuracy) – обов’язково, матрицю\n",
        "помилок (confusion matrix) – за вибором та звіт про класифікацію\n",
        "(classification report) для кожної моделі."
      ],
      "metadata": {
        "id": "Pp3ef5R-SHHd"
      }
    },
    {
      "cell_type": "code",
      "source": [
        "models = {'Logistic Regression': logreg_best, 'Decision Tree': tree_best, 'SVM': svm_best}\n",
        "\n",
        "for model_name, model in models.items():\n",
        "    y_pred = model.predict(X_test)\n",
        "    accuracy = accuracy_score(y_test, y_pred)\n",
        "    conf_matrix = confusion_matrix(y_test, y_pred)\n",
        "    class_report = classification_report(y_test, y_pred)\n",
        "\n",
        "    # Виведення результатів\n",
        "    print(f\"\\n{model_name} Accuracy: {accuracy:.4f}\")\n",
        "    print(\"Confusion Matrix:\")\n",
        "    print(tabulate(conf_matrix, headers=[\"Predicted Negative\", \"Predicted Positive\"], tablefmt=\"pretty\"))\n",
        "    print(\"\\nClassification Report:\")\n",
        "    print(class_report)"
      ],
      "metadata": {
        "colab": {
          "base_uri": "https://localhost:8080/"
        },
        "id": "jpC46uEVSO_E",
        "outputId": "7a55f013-aec1-42af-9bdd-b322e8528e73"
      },
      "execution_count": null,
      "outputs": [
        {
          "output_type": "stream",
          "name": "stdout",
          "text": [
            "\n",
            "Logistic Regression Accuracy: 0.9825\n",
            "Confusion Matrix:\n",
            "+--------------------+--------------------+\n",
            "| Predicted Negative | Predicted Positive |\n",
            "+--------------------+--------------------+\n",
            "|         62         |         1          |\n",
            "|         2          |        106         |\n",
            "+--------------------+--------------------+\n",
            "\n",
            "Classification Report:\n",
            "              precision    recall  f1-score   support\n",
            "\n",
            "           0       0.97      0.98      0.98        63\n",
            "           1       0.99      0.98      0.99       108\n",
            "\n",
            "    accuracy                           0.98       171\n",
            "   macro avg       0.98      0.98      0.98       171\n",
            "weighted avg       0.98      0.98      0.98       171\n",
            "\n",
            "\n",
            "Decision Tree Accuracy: 0.9474\n",
            "Confusion Matrix:\n",
            "+--------------------+--------------------+\n",
            "| Predicted Negative | Predicted Positive |\n",
            "+--------------------+--------------------+\n",
            "|         57         |         6          |\n",
            "|         3          |        105         |\n",
            "+--------------------+--------------------+\n",
            "\n",
            "Classification Report:\n",
            "              precision    recall  f1-score   support\n",
            "\n",
            "           0       0.95      0.90      0.93        63\n",
            "           1       0.95      0.97      0.96       108\n",
            "\n",
            "    accuracy                           0.95       171\n",
            "   macro avg       0.95      0.94      0.94       171\n",
            "weighted avg       0.95      0.95      0.95       171\n",
            "\n",
            "\n",
            "SVM Accuracy: 0.9825\n",
            "Confusion Matrix:\n",
            "+--------------------+--------------------+\n",
            "| Predicted Negative | Predicted Positive |\n",
            "+--------------------+--------------------+\n",
            "|         61         |         2          |\n",
            "|         1          |        107         |\n",
            "+--------------------+--------------------+\n",
            "\n",
            "Classification Report:\n",
            "              precision    recall  f1-score   support\n",
            "\n",
            "           0       0.98      0.97      0.98        63\n",
            "           1       0.98      0.99      0.99       108\n",
            "\n",
            "    accuracy                           0.98       171\n",
            "   macro avg       0.98      0.98      0.98       171\n",
            "weighted avg       0.98      0.98      0.98       171\n",
            "\n"
          ]
        }
      ]
    },
    {
      "cell_type": "markdown",
      "source": [
        "# 4. Прогнозування і висновки\n",
        "1. Оберіть найкращу модель на основі метрик продуктивності."
      ],
      "metadata": {
        "id": "Zu2YBkvrSYpM"
      }
    },
    {
      "cell_type": "code",
      "source": [
        " # Вибір моделі з найвищою точністю\n",
        "    if accuracy > best_accuracy:\n",
        "        best_accuracy = accuracy\n",
        "        best_model = model_name\n",
        "\n",
        "print(f\"\\nНайкраща модель: {best_model} з точністю {best_accuracy:.4f}\")"
      ],
      "metadata": {
        "colab": {
          "base_uri": "https://localhost:8080/"
        },
        "id": "5FeYTC7DSulF",
        "outputId": "18c3d3b5-d484-4483-c321-0a0e8d009f5f"
      },
      "execution_count": null,
      "outputs": [
        {
          "output_type": "stream",
          "name": "stdout",
          "text": [
            "\n",
            "Найкраща модель: Logistic Regression з точністю 0.9825\n"
          ]
        }
      ]
    },
    {
      "cell_type": "markdown",
      "source": [
        "2. Зробіть прогноз на тестовій вибірці."
      ],
      "metadata": {
        "id": "IZ4X6oP_S0e0"
      }
    },
    {
      "cell_type": "code",
      "source": [
        "import pandas as pd\n",
        "from sklearn.metrics import classification_report, accuracy_score\n",
        "\n",
        "# Зробимо прогноз на тестовій вибірці за допомогою найкращої моделі\n",
        "best_model_instance = models[best_model]  # Отримуємо найкращу модель\n",
        "\n",
        "# Прогноз на тестовій вибірці\n",
        "y_pred_best = best_model_instance.predict(X_test)\n",
        "\n",
        "# Виведемо точність прогноза\n",
        "accuracy_best_model = accuracy_score(y_test, y_pred_best)\n",
        "print(f\"\\nТочність найкращої моделі на тестовій вибірці: {accuracy_best_model:.4f}\")\n",
        "\n",
        "# Звіт про класифікацію\n",
        "classification_report_dict = classification_report(y_test, y_pred_best, output_dict=True)\n",
        "\n",
        "# Конвертуємо звіт про класифікацію у DataFrame для кращого формату\n",
        "classification_report_df = pd.DataFrame(classification_report_dict).transpose()\n",
        "\n",
        "# Виводимо звіт про класифікацію у вигляді гарної таблиці\n",
        "print(\"\\nClassification Report:\")\n",
        "print(tabulate(classification_report_df, headers='keys', tablefmt='pretty'))\n",
        "\n",
        "# Зберігаємо прогнози у DataFrame для зручного відображення\n",
        "predictions_df = pd.DataFrame({'Actual': y_test, 'Predicted': y_pred_best})\n",
        "\n",
        "# Виводимо таблицю прогнозів\n",
        "print(\"\\nПрогнози на тестовій вибірці:\")\n",
        "print(tabulate(predictions_df.head(), headers='keys', tablefmt='pretty'))"
      ],
      "metadata": {
        "colab": {
          "base_uri": "https://localhost:8080/"
        },
        "id": "uYlM5knqS54t",
        "outputId": "e90697fb-af09-43ea-ee39-b979aae5624b"
      },
      "execution_count": null,
      "outputs": [
        {
          "output_type": "stream",
          "name": "stdout",
          "text": [
            "\n",
            "Точність найкращої моделі на тестовій вибірці: 0.9825\n",
            "\n",
            "Classification Report:\n",
            "+--------------+--------------------+--------------------+--------------------+--------------------+\n",
            "|              |     precision      |       recall       |      f1-score      |      support       |\n",
            "+--------------+--------------------+--------------------+--------------------+--------------------+\n",
            "|      0       |      0.96875       | 0.9841269841269841 | 0.9763779527559056 |        63.0        |\n",
            "|      1       | 0.9906542056074766 | 0.9814814814814815 | 0.986046511627907  |       108.0        |\n",
            "|   accuracy   | 0.9824561403508771 | 0.9824561403508771 | 0.9824561403508771 | 0.9824561403508771 |\n",
            "|  macro avg   | 0.9797021028037383 | 0.9828042328042328 | 0.9812122321919063 |       171.0        |\n",
            "| weighted avg | 0.9825842351205116 | 0.9824561403508771 | 0.9824844109908538 |       171.0        |\n",
            "+--------------+--------------------+--------------------+--------------------+--------------------+\n",
            "\n",
            "Прогнози на тестовій вибірці:\n",
            "+---+--------+-----------+\n",
            "|   | Actual | Predicted |\n",
            "+---+--------+-----------+\n",
            "| 0 |   1    |     1     |\n",
            "| 1 |   0    |     0     |\n",
            "| 2 |   0    |     0     |\n",
            "| 3 |   1    |     1     |\n",
            "| 4 |   1    |     1     |\n",
            "+---+--------+-----------+\n"
          ]
        }
      ]
    },
    {
      "cell_type": "markdown",
      "source": [
        "3. Виведіть результати прогнозування."
      ],
      "metadata": {
        "id": "2ONKXb1ETDAj"
      }
    },
    {
      "cell_type": "code",
      "source": [
        "print(\"\\nРезультати прогнозування:\")\n",
        "print(tabulate(predictions_df.head(10), headers='keys', tablefmt='pretty'))  # Виводимо перші 10 рядків"
      ],
      "metadata": {
        "colab": {
          "base_uri": "https://localhost:8080/"
        },
        "id": "q6O6xnUqTLnT",
        "outputId": "23eb4433-b8f3-4973-c59f-00ac65e8479b"
      },
      "execution_count": null,
      "outputs": [
        {
          "output_type": "stream",
          "name": "stdout",
          "text": [
            "\n",
            "Результати прогнозування:\n",
            "+---+--------+-----------+\n",
            "|   | Actual | Predicted |\n",
            "+---+--------+-----------+\n",
            "| 0 |   1    |     1     |\n",
            "| 1 |   0    |     0     |\n",
            "| 2 |   0    |     0     |\n",
            "| 3 |   1    |     1     |\n",
            "| 4 |   1    |     1     |\n",
            "| 5 |   0    |     0     |\n",
            "| 6 |   0    |     0     |\n",
            "| 7 |   0    |     0     |\n",
            "| 8 |   1    |     1     |\n",
            "| 9 |   1    |     1     |\n",
            "+---+--------+-----------+\n"
          ]
        }
      ]
    },
    {
      "cell_type": "markdown",
      "source": [
        "Аналіз моделей класифікації показує, що логістична регресія та SVM є найкращими у цьому дослідженні, оскільки обидві моделі досягли найвищої точності – 0.9825. Це свідчить про їхню здатність ефективно розрізняти класи в тестових даних, що підтверджується успішним прогнозуванням на всіх 10 випадкових зразках, протестованих за допомогою логістичної регресії"
      ],
      "metadata": {
        "id": "r1rPdlHZTSgC"
      }
    },
    {
      "cell_type": "markdown",
      "source": [
        "# **Завдання 2**\n"
      ],
      "metadata": {
        "id": "gRjiJ5lGgoYN"
      }
    },
    {
      "cell_type": "code",
      "source": [
        "from sklearn.model_selection import train_test_split, GridSearchCV\n",
        "from sklearn.preprocessing import StandardScaler\n",
        "from sklearn.ensemble import RandomForestClassifier\n",
        "from sklearn.linear_model import LogisticRegression\n",
        "from sklearn.tree import DecisionTreeClassifier\n",
        "from sklearn.metrics import classification_report, accuracy_score\n",
        "from sklearn.svm import SVC\n",
        "from tabulate import tabulate  # Імпорт tabulate для красивого виводу"
      ],
      "metadata": {
        "id": "mUfKIKjSiMIM"
      },
      "execution_count": null,
      "outputs": []
    },
    {
      "cell_type": "code",
      "source": [
        "import pandas as pd\n",
        "\n",
        "from google.colab import files\n",
        "uploaded = files.upload()"
      ],
      "metadata": {
        "colab": {
          "base_uri": "https://localhost:8080/",
          "height": 73
        },
        "id": "5-NZAsAShdxA",
        "outputId": "f4c5ba63-677c-4f42-86ca-8eb8aa179184"
      },
      "execution_count": 51,
      "outputs": [
        {
          "output_type": "display_data",
          "data": {
            "text/plain": [
              "<IPython.core.display.HTML object>"
            ],
            "text/html": [
              "\n",
              "     <input type=\"file\" id=\"files-95cc6981-0872-4de1-a38f-0852a3d0bf5d\" name=\"files[]\" multiple disabled\n",
              "        style=\"border:none\" />\n",
              "     <output id=\"result-95cc6981-0872-4de1-a38f-0852a3d0bf5d\">\n",
              "      Upload widget is only available when the cell has been executed in the\n",
              "      current browser session. Please rerun this cell to enable.\n",
              "      </output>\n",
              "      <script>// Copyright 2017 Google LLC\n",
              "//\n",
              "// Licensed under the Apache License, Version 2.0 (the \"License\");\n",
              "// you may not use this file except in compliance with the License.\n",
              "// You may obtain a copy of the License at\n",
              "//\n",
              "//      http://www.apache.org/licenses/LICENSE-2.0\n",
              "//\n",
              "// Unless required by applicable law or agreed to in writing, software\n",
              "// distributed under the License is distributed on an \"AS IS\" BASIS,\n",
              "// WITHOUT WARRANTIES OR CONDITIONS OF ANY KIND, either express or implied.\n",
              "// See the License for the specific language governing permissions and\n",
              "// limitations under the License.\n",
              "\n",
              "/**\n",
              " * @fileoverview Helpers for google.colab Python module.\n",
              " */\n",
              "(function(scope) {\n",
              "function span(text, styleAttributes = {}) {\n",
              "  const element = document.createElement('span');\n",
              "  element.textContent = text;\n",
              "  for (const key of Object.keys(styleAttributes)) {\n",
              "    element.style[key] = styleAttributes[key];\n",
              "  }\n",
              "  return element;\n",
              "}\n",
              "\n",
              "// Max number of bytes which will be uploaded at a time.\n",
              "const MAX_PAYLOAD_SIZE = 100 * 1024;\n",
              "\n",
              "function _uploadFiles(inputId, outputId) {\n",
              "  const steps = uploadFilesStep(inputId, outputId);\n",
              "  const outputElement = document.getElementById(outputId);\n",
              "  // Cache steps on the outputElement to make it available for the next call\n",
              "  // to uploadFilesContinue from Python.\n",
              "  outputElement.steps = steps;\n",
              "\n",
              "  return _uploadFilesContinue(outputId);\n",
              "}\n",
              "\n",
              "// This is roughly an async generator (not supported in the browser yet),\n",
              "// where there are multiple asynchronous steps and the Python side is going\n",
              "// to poll for completion of each step.\n",
              "// This uses a Promise to block the python side on completion of each step,\n",
              "// then passes the result of the previous step as the input to the next step.\n",
              "function _uploadFilesContinue(outputId) {\n",
              "  const outputElement = document.getElementById(outputId);\n",
              "  const steps = outputElement.steps;\n",
              "\n",
              "  const next = steps.next(outputElement.lastPromiseValue);\n",
              "  return Promise.resolve(next.value.promise).then((value) => {\n",
              "    // Cache the last promise value to make it available to the next\n",
              "    // step of the generator.\n",
              "    outputElement.lastPromiseValue = value;\n",
              "    return next.value.response;\n",
              "  });\n",
              "}\n",
              "\n",
              "/**\n",
              " * Generator function which is called between each async step of the upload\n",
              " * process.\n",
              " * @param {string} inputId Element ID of the input file picker element.\n",
              " * @param {string} outputId Element ID of the output display.\n",
              " * @return {!Iterable<!Object>} Iterable of next steps.\n",
              " */\n",
              "function* uploadFilesStep(inputId, outputId) {\n",
              "  const inputElement = document.getElementById(inputId);\n",
              "  inputElement.disabled = false;\n",
              "\n",
              "  const outputElement = document.getElementById(outputId);\n",
              "  outputElement.innerHTML = '';\n",
              "\n",
              "  const pickedPromise = new Promise((resolve) => {\n",
              "    inputElement.addEventListener('change', (e) => {\n",
              "      resolve(e.target.files);\n",
              "    });\n",
              "  });\n",
              "\n",
              "  const cancel = document.createElement('button');\n",
              "  inputElement.parentElement.appendChild(cancel);\n",
              "  cancel.textContent = 'Cancel upload';\n",
              "  const cancelPromise = new Promise((resolve) => {\n",
              "    cancel.onclick = () => {\n",
              "      resolve(null);\n",
              "    };\n",
              "  });\n",
              "\n",
              "  // Wait for the user to pick the files.\n",
              "  const files = yield {\n",
              "    promise: Promise.race([pickedPromise, cancelPromise]),\n",
              "    response: {\n",
              "      action: 'starting',\n",
              "    }\n",
              "  };\n",
              "\n",
              "  cancel.remove();\n",
              "\n",
              "  // Disable the input element since further picks are not allowed.\n",
              "  inputElement.disabled = true;\n",
              "\n",
              "  if (!files) {\n",
              "    return {\n",
              "      response: {\n",
              "        action: 'complete',\n",
              "      }\n",
              "    };\n",
              "  }\n",
              "\n",
              "  for (const file of files) {\n",
              "    const li = document.createElement('li');\n",
              "    li.append(span(file.name, {fontWeight: 'bold'}));\n",
              "    li.append(span(\n",
              "        `(${file.type || 'n/a'}) - ${file.size} bytes, ` +\n",
              "        `last modified: ${\n",
              "            file.lastModifiedDate ? file.lastModifiedDate.toLocaleDateString() :\n",
              "                                    'n/a'} - `));\n",
              "    const percent = span('0% done');\n",
              "    li.appendChild(percent);\n",
              "\n",
              "    outputElement.appendChild(li);\n",
              "\n",
              "    const fileDataPromise = new Promise((resolve) => {\n",
              "      const reader = new FileReader();\n",
              "      reader.onload = (e) => {\n",
              "        resolve(e.target.result);\n",
              "      };\n",
              "      reader.readAsArrayBuffer(file);\n",
              "    });\n",
              "    // Wait for the data to be ready.\n",
              "    let fileData = yield {\n",
              "      promise: fileDataPromise,\n",
              "      response: {\n",
              "        action: 'continue',\n",
              "      }\n",
              "    };\n",
              "\n",
              "    // Use a chunked sending to avoid message size limits. See b/62115660.\n",
              "    let position = 0;\n",
              "    do {\n",
              "      const length = Math.min(fileData.byteLength - position, MAX_PAYLOAD_SIZE);\n",
              "      const chunk = new Uint8Array(fileData, position, length);\n",
              "      position += length;\n",
              "\n",
              "      const base64 = btoa(String.fromCharCode.apply(null, chunk));\n",
              "      yield {\n",
              "        response: {\n",
              "          action: 'append',\n",
              "          file: file.name,\n",
              "          data: base64,\n",
              "        },\n",
              "      };\n",
              "\n",
              "      let percentDone = fileData.byteLength === 0 ?\n",
              "          100 :\n",
              "          Math.round((position / fileData.byteLength) * 100);\n",
              "      percent.textContent = `${percentDone}% done`;\n",
              "\n",
              "    } while (position < fileData.byteLength);\n",
              "  }\n",
              "\n",
              "  // All done.\n",
              "  yield {\n",
              "    response: {\n",
              "      action: 'complete',\n",
              "    }\n",
              "  };\n",
              "}\n",
              "\n",
              "scope.google = scope.google || {};\n",
              "scope.google.colab = scope.google.colab || {};\n",
              "scope.google.colab._files = {\n",
              "  _uploadFiles,\n",
              "  _uploadFilesContinue,\n",
              "};\n",
              "})(self);\n",
              "</script> "
            ]
          },
          "metadata": {}
        },
        {
          "output_type": "stream",
          "name": "stdout",
          "text": [
            "Saving titanic.csv to titanic (2).csv\n"
          ]
        }
      ]
    },
    {
      "cell_type": "markdown",
      "source": [
        "1. Перегляньте перші кілька рядків"
      ],
      "metadata": {
        "id": "ghhociWvhqLV"
      }
    },
    {
      "cell_type": "code",
      "source": [
        "df = pd.read_csv('titanic (2).csv')\n",
        "\n",
        "print(\"Перші 5 рядків датасету:\")\n",
        "df.head()"
      ],
      "metadata": {
        "id": "l5blNj4NiE7F",
        "colab": {
          "base_uri": "https://localhost:8080/",
          "height": 223
        },
        "outputId": "48b5e287-2478-44c0-ae15-9bd6df442fd2"
      },
      "execution_count": 52,
      "outputs": [
        {
          "output_type": "stream",
          "name": "stdout",
          "text": [
            "Перші 5 рядків датасету:\n"
          ]
        },
        {
          "output_type": "execute_result",
          "data": {
            "text/plain": [
              "   PassengerId  Survived  Pclass  \\\n",
              "0          892         0       3   \n",
              "1          893         1       3   \n",
              "2          894         0       2   \n",
              "3          895         0       3   \n",
              "4          896         1       3   \n",
              "\n",
              "                                           Name     Sex   Age  SibSp  Parch  \\\n",
              "0                              Kelly, Mr. James    male  34.5      0      0   \n",
              "1              Wilkes, Mrs. James (Ellen Needs)  female  47.0      1      0   \n",
              "2                     Myles, Mr. Thomas Francis    male  62.0      0      0   \n",
              "3                              Wirz, Mr. Albert    male  27.0      0      0   \n",
              "4  Hirvonen, Mrs. Alexander (Helga E Lindqvist)  female  22.0      1      1   \n",
              "\n",
              "    Ticket     Fare Cabin Embarked  \n",
              "0   330911   7.8292   NaN        Q  \n",
              "1   363272   7.0000   NaN        S  \n",
              "2   240276   9.6875   NaN        Q  \n",
              "3   315154   8.6625   NaN        S  \n",
              "4  3101298  12.2875   NaN        S  "
            ],
            "text/html": [
              "\n",
              "  <div id=\"df-865590a5-5dd8-4f37-a7ae-a1ef488ef924\" class=\"colab-df-container\">\n",
              "    <div>\n",
              "<style scoped>\n",
              "    .dataframe tbody tr th:only-of-type {\n",
              "        vertical-align: middle;\n",
              "    }\n",
              "\n",
              "    .dataframe tbody tr th {\n",
              "        vertical-align: top;\n",
              "    }\n",
              "\n",
              "    .dataframe thead th {\n",
              "        text-align: right;\n",
              "    }\n",
              "</style>\n",
              "<table border=\"1\" class=\"dataframe\">\n",
              "  <thead>\n",
              "    <tr style=\"text-align: right;\">\n",
              "      <th></th>\n",
              "      <th>PassengerId</th>\n",
              "      <th>Survived</th>\n",
              "      <th>Pclass</th>\n",
              "      <th>Name</th>\n",
              "      <th>Sex</th>\n",
              "      <th>Age</th>\n",
              "      <th>SibSp</th>\n",
              "      <th>Parch</th>\n",
              "      <th>Ticket</th>\n",
              "      <th>Fare</th>\n",
              "      <th>Cabin</th>\n",
              "      <th>Embarked</th>\n",
              "    </tr>\n",
              "  </thead>\n",
              "  <tbody>\n",
              "    <tr>\n",
              "      <th>0</th>\n",
              "      <td>892</td>\n",
              "      <td>0</td>\n",
              "      <td>3</td>\n",
              "      <td>Kelly, Mr. James</td>\n",
              "      <td>male</td>\n",
              "      <td>34.5</td>\n",
              "      <td>0</td>\n",
              "      <td>0</td>\n",
              "      <td>330911</td>\n",
              "      <td>7.8292</td>\n",
              "      <td>NaN</td>\n",
              "      <td>Q</td>\n",
              "    </tr>\n",
              "    <tr>\n",
              "      <th>1</th>\n",
              "      <td>893</td>\n",
              "      <td>1</td>\n",
              "      <td>3</td>\n",
              "      <td>Wilkes, Mrs. James (Ellen Needs)</td>\n",
              "      <td>female</td>\n",
              "      <td>47.0</td>\n",
              "      <td>1</td>\n",
              "      <td>0</td>\n",
              "      <td>363272</td>\n",
              "      <td>7.0000</td>\n",
              "      <td>NaN</td>\n",
              "      <td>S</td>\n",
              "    </tr>\n",
              "    <tr>\n",
              "      <th>2</th>\n",
              "      <td>894</td>\n",
              "      <td>0</td>\n",
              "      <td>2</td>\n",
              "      <td>Myles, Mr. Thomas Francis</td>\n",
              "      <td>male</td>\n",
              "      <td>62.0</td>\n",
              "      <td>0</td>\n",
              "      <td>0</td>\n",
              "      <td>240276</td>\n",
              "      <td>9.6875</td>\n",
              "      <td>NaN</td>\n",
              "      <td>Q</td>\n",
              "    </tr>\n",
              "    <tr>\n",
              "      <th>3</th>\n",
              "      <td>895</td>\n",
              "      <td>0</td>\n",
              "      <td>3</td>\n",
              "      <td>Wirz, Mr. Albert</td>\n",
              "      <td>male</td>\n",
              "      <td>27.0</td>\n",
              "      <td>0</td>\n",
              "      <td>0</td>\n",
              "      <td>315154</td>\n",
              "      <td>8.6625</td>\n",
              "      <td>NaN</td>\n",
              "      <td>S</td>\n",
              "    </tr>\n",
              "    <tr>\n",
              "      <th>4</th>\n",
              "      <td>896</td>\n",
              "      <td>1</td>\n",
              "      <td>3</td>\n",
              "      <td>Hirvonen, Mrs. Alexander (Helga E Lindqvist)</td>\n",
              "      <td>female</td>\n",
              "      <td>22.0</td>\n",
              "      <td>1</td>\n",
              "      <td>1</td>\n",
              "      <td>3101298</td>\n",
              "      <td>12.2875</td>\n",
              "      <td>NaN</td>\n",
              "      <td>S</td>\n",
              "    </tr>\n",
              "  </tbody>\n",
              "</table>\n",
              "</div>\n",
              "    <div class=\"colab-df-buttons\">\n",
              "\n",
              "  <div class=\"colab-df-container\">\n",
              "    <button class=\"colab-df-convert\" onclick=\"convertToInteractive('df-865590a5-5dd8-4f37-a7ae-a1ef488ef924')\"\n",
              "            title=\"Convert this dataframe to an interactive table.\"\n",
              "            style=\"display:none;\">\n",
              "\n",
              "  <svg xmlns=\"http://www.w3.org/2000/svg\" height=\"24px\" viewBox=\"0 -960 960 960\">\n",
              "    <path d=\"M120-120v-720h720v720H120Zm60-500h600v-160H180v160Zm220 220h160v-160H400v160Zm0 220h160v-160H400v160ZM180-400h160v-160H180v160Zm440 0h160v-160H620v160ZM180-180h160v-160H180v160Zm440 0h160v-160H620v160Z\"/>\n",
              "  </svg>\n",
              "    </button>\n",
              "\n",
              "  <style>\n",
              "    .colab-df-container {\n",
              "      display:flex;\n",
              "      gap: 12px;\n",
              "    }\n",
              "\n",
              "    .colab-df-convert {\n",
              "      background-color: #E8F0FE;\n",
              "      border: none;\n",
              "      border-radius: 50%;\n",
              "      cursor: pointer;\n",
              "      display: none;\n",
              "      fill: #1967D2;\n",
              "      height: 32px;\n",
              "      padding: 0 0 0 0;\n",
              "      width: 32px;\n",
              "    }\n",
              "\n",
              "    .colab-df-convert:hover {\n",
              "      background-color: #E2EBFA;\n",
              "      box-shadow: 0px 1px 2px rgba(60, 64, 67, 0.3), 0px 1px 3px 1px rgba(60, 64, 67, 0.15);\n",
              "      fill: #174EA6;\n",
              "    }\n",
              "\n",
              "    .colab-df-buttons div {\n",
              "      margin-bottom: 4px;\n",
              "    }\n",
              "\n",
              "    [theme=dark] .colab-df-convert {\n",
              "      background-color: #3B4455;\n",
              "      fill: #D2E3FC;\n",
              "    }\n",
              "\n",
              "    [theme=dark] .colab-df-convert:hover {\n",
              "      background-color: #434B5C;\n",
              "      box-shadow: 0px 1px 3px 1px rgba(0, 0, 0, 0.15);\n",
              "      filter: drop-shadow(0px 1px 2px rgba(0, 0, 0, 0.3));\n",
              "      fill: #FFFFFF;\n",
              "    }\n",
              "  </style>\n",
              "\n",
              "    <script>\n",
              "      const buttonEl =\n",
              "        document.querySelector('#df-865590a5-5dd8-4f37-a7ae-a1ef488ef924 button.colab-df-convert');\n",
              "      buttonEl.style.display =\n",
              "        google.colab.kernel.accessAllowed ? 'block' : 'none';\n",
              "\n",
              "      async function convertToInteractive(key) {\n",
              "        const element = document.querySelector('#df-865590a5-5dd8-4f37-a7ae-a1ef488ef924');\n",
              "        const dataTable =\n",
              "          await google.colab.kernel.invokeFunction('convertToInteractive',\n",
              "                                                    [key], {});\n",
              "        if (!dataTable) return;\n",
              "\n",
              "        const docLinkHtml = 'Like what you see? Visit the ' +\n",
              "          '<a target=\"_blank\" href=https://colab.research.google.com/notebooks/data_table.ipynb>data table notebook</a>'\n",
              "          + ' to learn more about interactive tables.';\n",
              "        element.innerHTML = '';\n",
              "        dataTable['output_type'] = 'display_data';\n",
              "        await google.colab.output.renderOutput(dataTable, element);\n",
              "        const docLink = document.createElement('div');\n",
              "        docLink.innerHTML = docLinkHtml;\n",
              "        element.appendChild(docLink);\n",
              "      }\n",
              "    </script>\n",
              "  </div>\n",
              "\n",
              "\n",
              "<div id=\"df-26a9a449-d67d-4b7f-8839-50c9c4f81c5f\">\n",
              "  <button class=\"colab-df-quickchart\" onclick=\"quickchart('df-26a9a449-d67d-4b7f-8839-50c9c4f81c5f')\"\n",
              "            title=\"Suggest charts\"\n",
              "            style=\"display:none;\">\n",
              "\n",
              "<svg xmlns=\"http://www.w3.org/2000/svg\" height=\"24px\"viewBox=\"0 0 24 24\"\n",
              "     width=\"24px\">\n",
              "    <g>\n",
              "        <path d=\"M19 3H5c-1.1 0-2 .9-2 2v14c0 1.1.9 2 2 2h14c1.1 0 2-.9 2-2V5c0-1.1-.9-2-2-2zM9 17H7v-7h2v7zm4 0h-2V7h2v10zm4 0h-2v-4h2v4z\"/>\n",
              "    </g>\n",
              "</svg>\n",
              "  </button>\n",
              "\n",
              "<style>\n",
              "  .colab-df-quickchart {\n",
              "      --bg-color: #E8F0FE;\n",
              "      --fill-color: #1967D2;\n",
              "      --hover-bg-color: #E2EBFA;\n",
              "      --hover-fill-color: #174EA6;\n",
              "      --disabled-fill-color: #AAA;\n",
              "      --disabled-bg-color: #DDD;\n",
              "  }\n",
              "\n",
              "  [theme=dark] .colab-df-quickchart {\n",
              "      --bg-color: #3B4455;\n",
              "      --fill-color: #D2E3FC;\n",
              "      --hover-bg-color: #434B5C;\n",
              "      --hover-fill-color: #FFFFFF;\n",
              "      --disabled-bg-color: #3B4455;\n",
              "      --disabled-fill-color: #666;\n",
              "  }\n",
              "\n",
              "  .colab-df-quickchart {\n",
              "    background-color: var(--bg-color);\n",
              "    border: none;\n",
              "    border-radius: 50%;\n",
              "    cursor: pointer;\n",
              "    display: none;\n",
              "    fill: var(--fill-color);\n",
              "    height: 32px;\n",
              "    padding: 0;\n",
              "    width: 32px;\n",
              "  }\n",
              "\n",
              "  .colab-df-quickchart:hover {\n",
              "    background-color: var(--hover-bg-color);\n",
              "    box-shadow: 0 1px 2px rgba(60, 64, 67, 0.3), 0 1px 3px 1px rgba(60, 64, 67, 0.15);\n",
              "    fill: var(--button-hover-fill-color);\n",
              "  }\n",
              "\n",
              "  .colab-df-quickchart-complete:disabled,\n",
              "  .colab-df-quickchart-complete:disabled:hover {\n",
              "    background-color: var(--disabled-bg-color);\n",
              "    fill: var(--disabled-fill-color);\n",
              "    box-shadow: none;\n",
              "  }\n",
              "\n",
              "  .colab-df-spinner {\n",
              "    border: 2px solid var(--fill-color);\n",
              "    border-color: transparent;\n",
              "    border-bottom-color: var(--fill-color);\n",
              "    animation:\n",
              "      spin 1s steps(1) infinite;\n",
              "  }\n",
              "\n",
              "  @keyframes spin {\n",
              "    0% {\n",
              "      border-color: transparent;\n",
              "      border-bottom-color: var(--fill-color);\n",
              "      border-left-color: var(--fill-color);\n",
              "    }\n",
              "    20% {\n",
              "      border-color: transparent;\n",
              "      border-left-color: var(--fill-color);\n",
              "      border-top-color: var(--fill-color);\n",
              "    }\n",
              "    30% {\n",
              "      border-color: transparent;\n",
              "      border-left-color: var(--fill-color);\n",
              "      border-top-color: var(--fill-color);\n",
              "      border-right-color: var(--fill-color);\n",
              "    }\n",
              "    40% {\n",
              "      border-color: transparent;\n",
              "      border-right-color: var(--fill-color);\n",
              "      border-top-color: var(--fill-color);\n",
              "    }\n",
              "    60% {\n",
              "      border-color: transparent;\n",
              "      border-right-color: var(--fill-color);\n",
              "    }\n",
              "    80% {\n",
              "      border-color: transparent;\n",
              "      border-right-color: var(--fill-color);\n",
              "      border-bottom-color: var(--fill-color);\n",
              "    }\n",
              "    90% {\n",
              "      border-color: transparent;\n",
              "      border-bottom-color: var(--fill-color);\n",
              "    }\n",
              "  }\n",
              "</style>\n",
              "\n",
              "  <script>\n",
              "    async function quickchart(key) {\n",
              "      const quickchartButtonEl =\n",
              "        document.querySelector('#' + key + ' button');\n",
              "      quickchartButtonEl.disabled = true;  // To prevent multiple clicks.\n",
              "      quickchartButtonEl.classList.add('colab-df-spinner');\n",
              "      try {\n",
              "        const charts = await google.colab.kernel.invokeFunction(\n",
              "            'suggestCharts', [key], {});\n",
              "      } catch (error) {\n",
              "        console.error('Error during call to suggestCharts:', error);\n",
              "      }\n",
              "      quickchartButtonEl.classList.remove('colab-df-spinner');\n",
              "      quickchartButtonEl.classList.add('colab-df-quickchart-complete');\n",
              "    }\n",
              "    (() => {\n",
              "      let quickchartButtonEl =\n",
              "        document.querySelector('#df-26a9a449-d67d-4b7f-8839-50c9c4f81c5f button');\n",
              "      quickchartButtonEl.style.display =\n",
              "        google.colab.kernel.accessAllowed ? 'block' : 'none';\n",
              "    })();\n",
              "  </script>\n",
              "</div>\n",
              "    </div>\n",
              "  </div>\n"
            ],
            "application/vnd.google.colaboratory.intrinsic+json": {
              "type": "dataframe",
              "variable_name": "df",
              "summary": "{\n  \"name\": \"df\",\n  \"rows\": 418,\n  \"fields\": [\n    {\n      \"column\": \"PassengerId\",\n      \"properties\": {\n        \"dtype\": \"number\",\n        \"std\": 120,\n        \"min\": 892,\n        \"max\": 1309,\n        \"num_unique_values\": 418,\n        \"samples\": [\n          1213,\n          1216,\n          1280\n        ],\n        \"semantic_type\": \"\",\n        \"description\": \"\"\n      }\n    },\n    {\n      \"column\": \"Survived\",\n      \"properties\": {\n        \"dtype\": \"number\",\n        \"std\": 0,\n        \"min\": 0,\n        \"max\": 1,\n        \"num_unique_values\": 2,\n        \"samples\": [\n          1,\n          0\n        ],\n        \"semantic_type\": \"\",\n        \"description\": \"\"\n      }\n    },\n    {\n      \"column\": \"Pclass\",\n      \"properties\": {\n        \"dtype\": \"number\",\n        \"std\": 0,\n        \"min\": 1,\n        \"max\": 3,\n        \"num_unique_values\": 3,\n        \"samples\": [\n          3,\n          2\n        ],\n        \"semantic_type\": \"\",\n        \"description\": \"\"\n      }\n    },\n    {\n      \"column\": \"Name\",\n      \"properties\": {\n        \"dtype\": \"string\",\n        \"num_unique_values\": 418,\n        \"samples\": [\n          \"Krekorian, Mr. Neshan\",\n          \"Kreuchen, Miss. Emilie\"\n        ],\n        \"semantic_type\": \"\",\n        \"description\": \"\"\n      }\n    },\n    {\n      \"column\": \"Sex\",\n      \"properties\": {\n        \"dtype\": \"category\",\n        \"num_unique_values\": 2,\n        \"samples\": [\n          \"female\",\n          \"male\"\n        ],\n        \"semantic_type\": \"\",\n        \"description\": \"\"\n      }\n    },\n    {\n      \"column\": \"Age\",\n      \"properties\": {\n        \"dtype\": \"number\",\n        \"std\": 14.181209235624422,\n        \"min\": 0.17,\n        \"max\": 76.0,\n        \"num_unique_values\": 79,\n        \"samples\": [\n          10.0,\n          34.5\n        ],\n        \"semantic_type\": \"\",\n        \"description\": \"\"\n      }\n    },\n    {\n      \"column\": \"SibSp\",\n      \"properties\": {\n        \"dtype\": \"number\",\n        \"std\": 0,\n        \"min\": 0,\n        \"max\": 8,\n        \"num_unique_values\": 7,\n        \"samples\": [\n          0,\n          1\n        ],\n        \"semantic_type\": \"\",\n        \"description\": \"\"\n      }\n    },\n    {\n      \"column\": \"Parch\",\n      \"properties\": {\n        \"dtype\": \"number\",\n        \"std\": 0,\n        \"min\": 0,\n        \"max\": 9,\n        \"num_unique_values\": 8,\n        \"samples\": [\n          1,\n          6\n        ],\n        \"semantic_type\": \"\",\n        \"description\": \"\"\n      }\n    },\n    {\n      \"column\": \"Ticket\",\n      \"properties\": {\n        \"dtype\": \"string\",\n        \"num_unique_values\": 363,\n        \"samples\": [\n          \"2673\",\n          \"W./C. 6607\"\n        ],\n        \"semantic_type\": \"\",\n        \"description\": \"\"\n      }\n    },\n    {\n      \"column\": \"Fare\",\n      \"properties\": {\n        \"dtype\": \"number\",\n        \"std\": 55.907576179973844,\n        \"min\": 0.0,\n        \"max\": 512.3292,\n        \"num_unique_values\": 169,\n        \"samples\": [\n          41.5792,\n          57.75\n        ],\n        \"semantic_type\": \"\",\n        \"description\": \"\"\n      }\n    },\n    {\n      \"column\": \"Cabin\",\n      \"properties\": {\n        \"dtype\": \"category\",\n        \"num_unique_values\": 76,\n        \"samples\": [\n          \"A21\",\n          \"E45\"\n        ],\n        \"semantic_type\": \"\",\n        \"description\": \"\"\n      }\n    },\n    {\n      \"column\": \"Embarked\",\n      \"properties\": {\n        \"dtype\": \"category\",\n        \"num_unique_values\": 3,\n        \"samples\": [\n          \"Q\",\n          \"S\"\n        ],\n        \"semantic_type\": \"\",\n        \"description\": \"\"\n      }\n    }\n  ]\n}"
            }
          },
          "metadata": {},
          "execution_count": 52
        }
      ]
    },
    {
      "cell_type": "code",
      "source": [
        "# Визначення розміру датасету\n",
        "dataset_size = df.shape\n",
        "\n",
        "print(f\"Розмір датасету: {dataset_size[0]} рядків і {dataset_size[1]} стовпців\")"
      ],
      "metadata": {
        "colab": {
          "base_uri": "https://localhost:8080/"
        },
        "id": "xLIzbHVvizVz",
        "outputId": "ec6ca417-9c3e-45c7-947e-c1a2d6c1e6fd"
      },
      "execution_count": 53,
      "outputs": [
        {
          "output_type": "stream",
          "name": "stdout",
          "text": [
            "Розмір датасету: 418 рядків і 12 стовпців\n"
          ]
        }
      ]
    },
    {
      "cell_type": "code",
      "source": [
        "df.dtypes"
      ],
      "metadata": {
        "colab": {
          "base_uri": "https://localhost:8080/",
          "height": 460
        },
        "id": "3TCtYFNUjJ-S",
        "outputId": "875e0cf4-65ef-4370-e038-f244c2cf2ed2"
      },
      "execution_count": 57,
      "outputs": [
        {
          "output_type": "execute_result",
          "data": {
            "text/plain": [
              "PassengerId      int64\n",
              "Survived         int64\n",
              "Pclass           int64\n",
              "Name            object\n",
              "Sex             object\n",
              "Age            float64\n",
              "SibSp            int64\n",
              "Parch            int64\n",
              "Ticket          object\n",
              "Fare           float64\n",
              "Cabin           object\n",
              "Embarked        object\n",
              "dtype: object"
            ],
            "text/html": [
              "<div>\n",
              "<style scoped>\n",
              "    .dataframe tbody tr th:only-of-type {\n",
              "        vertical-align: middle;\n",
              "    }\n",
              "\n",
              "    .dataframe tbody tr th {\n",
              "        vertical-align: top;\n",
              "    }\n",
              "\n",
              "    .dataframe thead th {\n",
              "        text-align: right;\n",
              "    }\n",
              "</style>\n",
              "<table border=\"1\" class=\"dataframe\">\n",
              "  <thead>\n",
              "    <tr style=\"text-align: right;\">\n",
              "      <th></th>\n",
              "      <th>0</th>\n",
              "    </tr>\n",
              "  </thead>\n",
              "  <tbody>\n",
              "    <tr>\n",
              "      <th>PassengerId</th>\n",
              "      <td>int64</td>\n",
              "    </tr>\n",
              "    <tr>\n",
              "      <th>Survived</th>\n",
              "      <td>int64</td>\n",
              "    </tr>\n",
              "    <tr>\n",
              "      <th>Pclass</th>\n",
              "      <td>int64</td>\n",
              "    </tr>\n",
              "    <tr>\n",
              "      <th>Name</th>\n",
              "      <td>object</td>\n",
              "    </tr>\n",
              "    <tr>\n",
              "      <th>Sex</th>\n",
              "      <td>object</td>\n",
              "    </tr>\n",
              "    <tr>\n",
              "      <th>Age</th>\n",
              "      <td>float64</td>\n",
              "    </tr>\n",
              "    <tr>\n",
              "      <th>SibSp</th>\n",
              "      <td>int64</td>\n",
              "    </tr>\n",
              "    <tr>\n",
              "      <th>Parch</th>\n",
              "      <td>int64</td>\n",
              "    </tr>\n",
              "    <tr>\n",
              "      <th>Ticket</th>\n",
              "      <td>object</td>\n",
              "    </tr>\n",
              "    <tr>\n",
              "      <th>Fare</th>\n",
              "      <td>float64</td>\n",
              "    </tr>\n",
              "    <tr>\n",
              "      <th>Cabin</th>\n",
              "      <td>object</td>\n",
              "    </tr>\n",
              "    <tr>\n",
              "      <th>Embarked</th>\n",
              "      <td>object</td>\n",
              "    </tr>\n",
              "  </tbody>\n",
              "</table>\n",
              "</div><br><label><b>dtype:</b> object</label>"
            ]
          },
          "metadata": {},
          "execution_count": 57
        }
      ]
    },
    {
      "cell_type": "code",
      "source": [
        "df.isnull().sum()"
      ],
      "metadata": {
        "colab": {
          "base_uri": "https://localhost:8080/",
          "height": 460
        },
        "id": "J3Ava2MwjVth",
        "outputId": "f8dc82b1-ca7b-4c7a-8b98-3f618bd94589"
      },
      "execution_count": 58,
      "outputs": [
        {
          "output_type": "execute_result",
          "data": {
            "text/plain": [
              "PassengerId      0\n",
              "Survived         0\n",
              "Pclass           0\n",
              "Name             0\n",
              "Sex              0\n",
              "Age             86\n",
              "SibSp            0\n",
              "Parch            0\n",
              "Ticket           0\n",
              "Fare             1\n",
              "Cabin          327\n",
              "Embarked         0\n",
              "dtype: int64"
            ],
            "text/html": [
              "<div>\n",
              "<style scoped>\n",
              "    .dataframe tbody tr th:only-of-type {\n",
              "        vertical-align: middle;\n",
              "    }\n",
              "\n",
              "    .dataframe tbody tr th {\n",
              "        vertical-align: top;\n",
              "    }\n",
              "\n",
              "    .dataframe thead th {\n",
              "        text-align: right;\n",
              "    }\n",
              "</style>\n",
              "<table border=\"1\" class=\"dataframe\">\n",
              "  <thead>\n",
              "    <tr style=\"text-align: right;\">\n",
              "      <th></th>\n",
              "      <th>0</th>\n",
              "    </tr>\n",
              "  </thead>\n",
              "  <tbody>\n",
              "    <tr>\n",
              "      <th>PassengerId</th>\n",
              "      <td>0</td>\n",
              "    </tr>\n",
              "    <tr>\n",
              "      <th>Survived</th>\n",
              "      <td>0</td>\n",
              "    </tr>\n",
              "    <tr>\n",
              "      <th>Pclass</th>\n",
              "      <td>0</td>\n",
              "    </tr>\n",
              "    <tr>\n",
              "      <th>Name</th>\n",
              "      <td>0</td>\n",
              "    </tr>\n",
              "    <tr>\n",
              "      <th>Sex</th>\n",
              "      <td>0</td>\n",
              "    </tr>\n",
              "    <tr>\n",
              "      <th>Age</th>\n",
              "      <td>86</td>\n",
              "    </tr>\n",
              "    <tr>\n",
              "      <th>SibSp</th>\n",
              "      <td>0</td>\n",
              "    </tr>\n",
              "    <tr>\n",
              "      <th>Parch</th>\n",
              "      <td>0</td>\n",
              "    </tr>\n",
              "    <tr>\n",
              "      <th>Ticket</th>\n",
              "      <td>0</td>\n",
              "    </tr>\n",
              "    <tr>\n",
              "      <th>Fare</th>\n",
              "      <td>1</td>\n",
              "    </tr>\n",
              "    <tr>\n",
              "      <th>Cabin</th>\n",
              "      <td>327</td>\n",
              "    </tr>\n",
              "    <tr>\n",
              "      <th>Embarked</th>\n",
              "      <td>0</td>\n",
              "    </tr>\n",
              "  </tbody>\n",
              "</table>\n",
              "</div><br><label><b>dtype:</b> int64</label>"
            ]
          },
          "metadata": {},
          "execution_count": 58
        }
      ]
    },
    {
      "cell_type": "code",
      "source": [
        "df.shape"
      ],
      "metadata": {
        "colab": {
          "base_uri": "https://localhost:8080/"
        },
        "id": "bRYS_UmEjYcJ",
        "outputId": "9cdb5919-734c-4ccf-d6d5-12f666fb1b49"
      },
      "execution_count": 59,
      "outputs": [
        {
          "output_type": "execute_result",
          "data": {
            "text/plain": [
              "(418, 12)"
            ]
          },
          "metadata": {},
          "execution_count": 59
        }
      ]
    },
    {
      "cell_type": "code",
      "source": [
        "# Імпорт необхідних бібліотек\n",
        "import pandas as pd\n",
        "from sklearn.model_selection import train_test_split\n",
        "from sklearn.preprocessing import StandardScaler\n",
        "from sklearn.impute import SimpleImputer\n",
        "\n",
        "# Завантаження датасету з файлу\n",
        "df = pd.read_csv('titanic.csv')\n",
        "\n",
        "# Визначення ознак (X) та міток (y)\n",
        "X = df[['Pclass', 'Sex', 'Age', 'SibSp', 'Parch', 'Fare', 'Embarked']]\n",
        "y = df['Survived']\n",
        "\n",
        "# Перетворення категоріальних змінних на числові\n",
        "X = pd.get_dummies(X, columns=['Sex', 'Embarked'], drop_first=True)\n",
        "\n",
        "# Обробка відсутніх значень за допомогою середнього\n",
        "imputer = SimpleImputer(strategy='mean')\n",
        "X[['Age', 'Fare']] = imputer.fit_transform(X[['Age', 'Fare']])\n",
        "\n",
        "# Розділення даних на навчальний та тестовий набори\n",
        "X_train, X_test, y_train, y_test = train_test_split(X, y, test_size=0.3, random_state=42)\n",
        "\n",
        "# Виведення розмірів наборів даних\n",
        "print(\"Розмір навчального набору (X_train):\", X_train.shape)\n",
        "print(\"Розмір тестового набору (X_test):\", X_test.shape)\n",
        "print(\"Розмір навчальних міток (y_train):\", y_train.shape)\n",
        "print(\"Розмір тестових міток (y_test):\", y_test.shape)\n",
        "\n",
        "# Стандартизація даних\n",
        "scaler = StandardScaler()\n",
        "X_train = scaler.fit_transform(X_train)\n",
        "X_test = scaler.transform(X_test)"
      ],
      "metadata": {
        "colab": {
          "base_uri": "https://localhost:8080/"
        },
        "id": "N3L31skzja5B",
        "outputId": "d4c4afa3-e2ec-4716-b7ac-7f29650f14fd"
      },
      "execution_count": 60,
      "outputs": [
        {
          "output_type": "stream",
          "name": "stdout",
          "text": [
            "Розмір навчального набору (X_train): (292, 8)\n",
            "Розмір тестового набору (X_test): (126, 8)\n",
            "Розмір навчальних міток (y_train): (292,)\n",
            "Розмір тестових міток (y_test): (126,)\n"
          ]
        }
      ]
    },
    {
      "cell_type": "code",
      "source": [
        "# 1. Логістична регресія\n",
        "log_reg_model = LogisticRegression()\n",
        "log_reg_model.fit(X_train, y_train)  # Навчання моделі\n",
        "y_pred_log_reg = log_reg_model.predict(X_test)  # Прогнозування на тестових даних\n",
        "\n",
        "# Оцінка логістичної регресії\n",
        "print(\"Логістична регресія:\")\n",
        "print(\"Точність:\", accuracy_score(y_test, y_pred_log_reg))\n",
        "print(classification_report(y_test, y_pred_log_reg))\n",
        "print(confusion_matrix(y_test, y_pred_log_reg))\n",
        "\n",
        "# 2. Дерево рішень\n",
        "decision_tree_model = DecisionTreeClassifier(random_state=42)\n",
        "decision_tree_model.fit(X_train, y_train)  # Навчання моделі\n",
        "y_pred_decision_tree = decision_tree_model.predict(X_test)  # Прогнозування на тестових даних\n",
        "\n",
        "# Оцінка дерева рішень\n",
        "print(\"\\nДерево рішень:\")\n",
        "print(\"Точність:\", accuracy_score(y_test, y_pred_decision_tree))\n",
        "print(classification_report(y_test, y_pred_decision_tree))\n",
        "print(confusion_matrix(y_test, y_pred_decision_tree))\n",
        "\n",
        "# 3. Випадковий ліс\n",
        "random_forest_model = RandomForestClassifier(random_state=42)\n",
        "random_forest_model.fit(X_train, y_train)  # Навчання моделі\n",
        "y_pred_random_forest = random_forest_model.predict(X_test)  # Прогнозування на тестових даних\n",
        "\n",
        "# Оцінка випадкового лісу\n",
        "print(\"\\nВипадковий ліс:\")\n",
        "print(\"Точність:\", accuracy_score(y_test, y_pred_random_forest))\n",
        "print(classification_report(y_test, y_pred_random_forest))\n",
        "print(confusion_matrix(y_test, y_pred_random_forest))"
      ],
      "metadata": {
        "colab": {
          "base_uri": "https://localhost:8080/"
        },
        "id": "8Wx-fkP6jztB",
        "outputId": "1d846190-22b4-488c-ee6d-020106e0876e"
      },
      "execution_count": 68,
      "outputs": [
        {
          "output_type": "stream",
          "name": "stdout",
          "text": [
            "Логістична регресія:\n",
            "Точність: 1.0\n",
            "              precision    recall  f1-score   support\n",
            "\n",
            "           0       1.00      1.00      1.00        85\n",
            "           1       1.00      1.00      1.00        41\n",
            "\n",
            "    accuracy                           1.00       126\n",
            "   macro avg       1.00      1.00      1.00       126\n",
            "weighted avg       1.00      1.00      1.00       126\n",
            "\n",
            "[[85  0]\n",
            " [ 0 41]]\n",
            "\n",
            "Дерево рішень:\n",
            "Точність: 1.0\n",
            "              precision    recall  f1-score   support\n",
            "\n",
            "           0       1.00      1.00      1.00        85\n",
            "           1       1.00      1.00      1.00        41\n",
            "\n",
            "    accuracy                           1.00       126\n",
            "   macro avg       1.00      1.00      1.00       126\n",
            "weighted avg       1.00      1.00      1.00       126\n",
            "\n",
            "[[85  0]\n",
            " [ 0 41]]\n",
            "\n",
            "Випадковий ліс:\n",
            "Точність: 1.0\n",
            "              precision    recall  f1-score   support\n",
            "\n",
            "           0       1.00      1.00      1.00        85\n",
            "           1       1.00      1.00      1.00        41\n",
            "\n",
            "    accuracy                           1.00       126\n",
            "   macro avg       1.00      1.00      1.00       126\n",
            "weighted avg       1.00      1.00      1.00       126\n",
            "\n",
            "[[85  0]\n",
            " [ 0 41]]\n"
          ]
        }
      ]
    },
    {
      "cell_type": "code",
      "source": [
        "# Параметри для логістичної регресії\n",
        "log_reg_param_grid = {\n",
        "    'C': [0.01, 0.1, 1, 10, 100],  # Регуляризація\n",
        "    'solver': ['lbfgs', 'liblinear']  # Розв'язувачі\n",
        "}\n",
        "\n",
        "# Логістична регресія з GridSearchCV\n",
        "log_reg_model = LogisticRegression(max_iter=200)  # Збільшення max_iter для збільшення ймовірності конвергенції\n",
        "log_reg_grid_search = GridSearchCV(log_reg_model, log_reg_param_grid, cv=5)\n",
        "log_reg_grid_search.fit(X_train, y_train)\n",
        "y_pred_log_reg = log_reg_grid_search.predict(X_test)\n",
        "\n",
        "# Оцінка логістичної регресії\n",
        "log_reg_accuracy = accuracy_score(y_test, y_pred_log_reg)\n",
        "log_reg_report = classification_report(y_test, y_pred_log_reg, output_dict=True)\n",
        "log_reg_cm = confusion_matrix(y_test, y_pred_log_reg)\n",
        "\n",
        "# Параметри для дерева рішень\n",
        "decision_tree_param_grid = {\n",
        "    'criterion': ['gini', 'entropy'],  # Критерії розподілу\n",
        "    'max_depth': [None, 5, 10, 20],  # Максимальна глибина дерева\n",
        "    'min_samples_split': [2, 5, 10]  # Мінімальна кількість зразків для розподілу\n",
        "}\n",
        "\n",
        "# Дерево рішень з GridSearchCV\n",
        "decision_tree_model = DecisionTreeClassifier(random_state=42)\n",
        "decision_tree_grid_search = GridSearchCV(decision_tree_model, decision_tree_param_grid, cv=5)\n",
        "decision_tree_grid_search.fit(X_train, y_train)\n",
        "y_pred_decision_tree = decision_tree_grid_search.predict(X_test)\n",
        "\n",
        "# Оцінка дерева рішень\n",
        "decision_tree_accuracy = accuracy_score(y_test, y_pred_decision_tree)\n",
        "decision_tree_report = classification_report(y_test, y_pred_decision_tree, output_dict=True)\n",
        "decision_tree_cm = confusion_matrix(y_test, y_pred_decision_tree)\n",
        "\n",
        "# Параметри для випадкового лісу\n",
        "random_forest_param_grid = {\n",
        "    'n_estimators': [10, 50, 100, 200],  # Кількість дерев\n",
        "    'max_features': ['sqrt', 'log2'],  # Кількість ознак для вибору\n",
        "    'min_samples_split': [2, 5, 10]  # Мінімальна кількість зразків для розподілу\n",
        "}\n",
        "\n",
        "# Випадковий ліс з GridSearchCV\n",
        "random_forest_model = RandomForestClassifier(random_state=42)\n",
        "random_forest_grid_search = GridSearchCV(random_forest_model, random_forest_param_grid, cv=5)\n",
        "random_forest_grid_search.fit(X_train, y_train)\n",
        "y_pred_random_forest = random_forest_grid_search.predict(X_test)\n",
        "\n",
        "# Оцінка випадкового лісу\n",
        "random_forest_accuracy = accuracy_score(y_test, y_pred_random_forest)\n",
        "random_forest_report = classification_report(y_test, y_pred_random_forest, output_dict=True)\n",
        "random_forest_cm = confusion_matrix(y_test, y_pred_random_forest)\n",
        "\n",
        "# Формування результатів для виводу\n",
        "results = [\n",
        "    {\n",
        "        \"Модель\": \"Логістична регресія\",\n",
        "        \"Точність\": log_reg_accuracy,\n",
        "        \"TP\": log_reg_cm[1, 1],\n",
        "        \"FP\": log_reg_cm[0, 1],\n",
        "        \"TN\": log_reg_cm[0, 0],\n",
        "        \"FN\": log_reg_cm[1, 0],\n",
        "        \"Найкращі параметри\": log_reg_grid_search.best_params_\n",
        "    },\n",
        "    {\n",
        "        \"Модель\": \"Дерево рішень\",\n",
        "        \"Точність\": decision_tree_accuracy,\n",
        "        \"TP\": decision_tree_cm[1, 1],\n",
        "        \"FP\": decision_tree_cm[0, 1],\n",
        "        \"TN\": decision_tree_cm[0, 0],\n",
        "        \"FN\": decision_tree_cm[1, 0],\n",
        "        \"Найкращі параметри\": decision_tree_grid_search.best_params_\n",
        "    },\n",
        "    {\n",
        "        \"Модель\": \"Випадковий ліс\",\n",
        "        \"Точність\": random_forest_accuracy,\n",
        "        \"TP\": random_forest_cm[1, 1],\n",
        "        \"FP\": random_forest_cm[0, 1],\n",
        "        \"TN\": random_forest_cm[0, 0],\n",
        "        \"FN\": random_forest_cm[1, 0],\n",
        "        \"Найкращі параметри\": random_forest_grid_search.best_params_\n",
        "    },\n",
        "]\n",
        "\n",
        "# Виведення результатів у форматі таблиці\n",
        "print(\"\\nРезультати моделей класифікації:\")\n",
        "print(tabulate(results, headers=\"keys\", tablefmt=\"pretty\", floatfmt=\".2f\"))"
      ],
      "metadata": {
        "colab": {
          "base_uri": "https://localhost:8080/"
        },
        "id": "eVNdCpmtlTKw",
        "outputId": "e8f9f744-73ba-416c-bcb5-55bcdb0135eb"
      },
      "execution_count": 70,
      "outputs": [
        {
          "output_type": "stream",
          "name": "stdout",
          "text": [
            "\n",
            "Результати моделей класифікації:\n",
            "+---------------------+----------+----+----+----+----+----------------------------------------------------------------------+\n",
            "|       Модель        | Точність | TP | FP | TN | FN |                          Найкращі параметри                          |\n",
            "+---------------------+----------+----+----+----+----+----------------------------------------------------------------------+\n",
            "| Логістична регресія |   1.0    | 41 | 0  | 85 | 0  |                    {'C': 0.01, 'solver': 'lbfgs'}                    |\n",
            "|    Дерево рішень    |   1.0    | 41 | 0  | 85 | 0  |   {'criterion': 'gini', 'max_depth': None, 'min_samples_split': 2}   |\n",
            "|   Випадковий ліс    |   1.0    | 41 | 0  | 85 | 0  | {'max_features': 'sqrt', 'min_samples_split': 2, 'n_estimators': 50} |\n",
            "+---------------------+----------+----+----+----+----+----------------------------------------------------------------------+\n"
          ]
        }
      ]
    },
    {
      "cell_type": "code",
      "source": [
        "# Виведення матриць помилок та звітів про класифікацію для кожної моделі\n",
        "print(\"\\nМатриці помилок та звіти про класифікацію:\")\n",
        "\n",
        "for model_name, y_pred, cm in [\n",
        "    (\"Логістична регресія\", y_pred_log_reg, log_reg_cm),\n",
        "    (\"Дерево рішень\", y_pred_decision_tree, decision_tree_cm),\n",
        "    (\"Випадковий ліс\", y_pred_random_forest, random_forest_cm)\n",
        "]:\n",
        "    print(f\"\\n{model_name}:\")\n",
        "    print(\"Матриця помилок:\")\n",
        "    print(tabulate(cm, tablefmt=\"pretty\", showindex=True, headers=[\"Передбачено: 0\", \"Передбачено: 1\"]))\n",
        "\n",
        "    # Генерація звіту про класифікацію у вигляді таблиці\n",
        "    report_dict = classification_report(y_test, y_pred, output_dict=True)\n",
        "    report_data = []\n",
        "\n",
        "    for label, metrics in report_dict.items():\n",
        "        if isinstance(metrics, dict):  # Додаємо лише метрики для класів\n",
        "            report_data.append({\n",
        "                'Клас': label,\n",
        "                'Precision': metrics['precision'],\n",
        "                'Recall': metrics['recall'],\n",
        "                'F1-score': metrics['f1-score'],\n",
        "                'Support': metrics['support']\n",
        "            })\n",
        "\n",
        "    print(\"\\nЗвіт про класифікацію:\")\n",
        "    print(tabulate(report_data, headers=\"keys\", tablefmt=\"pretty\", floatfmt=\".2f\", numalign=\"center\"))"
      ],
      "metadata": {
        "colab": {
          "base_uri": "https://localhost:8080/"
        },
        "id": "nOMWdStko7Ed",
        "outputId": "d88dec33-2050-48e3-f22c-f8da7232adc0"
      },
      "execution_count": 72,
      "outputs": [
        {
          "output_type": "stream",
          "name": "stdout",
          "text": [
            "\n",
            "Матриці помилок та звіти про класифікацію:\n",
            "\n",
            "Логістична регресія:\n",
            "Матриця помилок:\n",
            "+---+----------------+----------------+\n",
            "|   | Передбачено: 0 | Передбачено: 1 |\n",
            "+---+----------------+----------------+\n",
            "| 0 |       85       |       0        |\n",
            "| 1 |       0        |       41       |\n",
            "+---+----------------+----------------+\n",
            "\n",
            "Звіт про класифікацію:\n",
            "+--------------+-----------+--------+----------+---------+\n",
            "|     Клас     | Precision | Recall | F1-score | Support |\n",
            "+--------------+-----------+--------+----------+---------+\n",
            "|      0       |    1.0    |  1.0   |   1.0    |  85.0   |\n",
            "|      1       |    1.0    |  1.0   |   1.0    |  41.0   |\n",
            "|  macro avg   |    1.0    |  1.0   |   1.0    |  126.0  |\n",
            "| weighted avg |    1.0    |  1.0   |   1.0    |  126.0  |\n",
            "+--------------+-----------+--------+----------+---------+\n",
            "\n",
            "Дерево рішень:\n",
            "Матриця помилок:\n",
            "+---+----------------+----------------+\n",
            "|   | Передбачено: 0 | Передбачено: 1 |\n",
            "+---+----------------+----------------+\n",
            "| 0 |       85       |       0        |\n",
            "| 1 |       0        |       41       |\n",
            "+---+----------------+----------------+\n",
            "\n",
            "Звіт про класифікацію:\n",
            "+--------------+-----------+--------+----------+---------+\n",
            "|     Клас     | Precision | Recall | F1-score | Support |\n",
            "+--------------+-----------+--------+----------+---------+\n",
            "|      0       |    1.0    |  1.0   |   1.0    |  85.0   |\n",
            "|      1       |    1.0    |  1.0   |   1.0    |  41.0   |\n",
            "|  macro avg   |    1.0    |  1.0   |   1.0    |  126.0  |\n",
            "| weighted avg |    1.0    |  1.0   |   1.0    |  126.0  |\n",
            "+--------------+-----------+--------+----------+---------+\n",
            "\n",
            "Випадковий ліс:\n",
            "Матриця помилок:\n",
            "+---+----------------+----------------+\n",
            "|   | Передбачено: 0 | Передбачено: 1 |\n",
            "+---+----------------+----------------+\n",
            "| 0 |       85       |       0        |\n",
            "| 1 |       0        |       41       |\n",
            "+---+----------------+----------------+\n",
            "\n",
            "Звіт про класифікацію:\n",
            "+--------------+-----------+--------+----------+---------+\n",
            "|     Клас     | Precision | Recall | F1-score | Support |\n",
            "+--------------+-----------+--------+----------+---------+\n",
            "|      0       |    1.0    |  1.0   |   1.0    |  85.0   |\n",
            "|      1       |    1.0    |  1.0   |   1.0    |  41.0   |\n",
            "|  macro avg   |    1.0    |  1.0   |   1.0    |  126.0  |\n",
            "| weighted avg |    1.0    |  1.0   |   1.0    |  126.0  |\n",
            "+--------------+-----------+--------+----------+---------+\n"
          ]
        }
      ]
    },
    {
      "cell_type": "code",
      "source": [
        "from sklearn.metrics import classification_report, accuracy_score, confusion_matrix\n",
        "import matplotlib.pyplot as plt\n",
        "import seaborn as sns\n",
        "\n",
        "# Визначення найкращих моделей (з отриманих раніше)\n",
        "models = {\n",
        "    'Логістична регресія': log_reg_grid_search,\n",
        "    'Дерево рішень': decision_tree_grid_search,\n",
        "    'Випадковий ліс': random_forest_grid_search\n",
        "}\n",
        "\n",
        "# Виведення результатів для кожної моделі\n",
        "for model_name, model in models.items():\n",
        "    print(f\"Модель: {model_name}\")\n",
        "\n",
        "    # Прогнозування на тестовій вибірці\n",
        "    y_pred = model.predict(X_test)\n",
        "\n",
        "    # Обчислення точності\n",
        "    accuracy = accuracy_score(y_test, y_pred)\n",
        "    print(f\"Точність: {accuracy:.4f}\")\n",
        "\n",
        "    # Вивід звіту про класифікацію\n",
        "    print(\"Звіт про класифікацію:\")\n",
        "    print(classification_report(y_test, y_pred))\n",
        "\n",
        "    # Матриця помилок\n",
        "    cm = confusion_matrix(y_test, y_pred)\n",
        "\n",
        "    # Візуалізація матриці помилок\n",
        "    plt.figure(figsize=(5, 4))\n",
        "    sns.heatmap(cm, annot=True, fmt='d', cmap='Blues',\n",
        "                xticklabels=['Не вижив', 'Вижив'],\n",
        "                yticklabels=['Не вижив', 'Вижив'])\n",
        "    plt.title(f\"Матриця помилок для {model_name}\")\n",
        "    plt.xlabel('Передбачений клас')\n",
        "    plt.ylabel('Дійсний клас')\n",
        "    plt.show()\n",
        "\n",
        "    print('-' * 60)"
      ],
      "metadata": {
        "colab": {
          "base_uri": "https://localhost:8080/",
          "height": 1000
        },
        "id": "mU3bbELcpvmN",
        "outputId": "d0d4097f-ebd7-4ad6-c147-3403d6981652"
      },
      "execution_count": 74,
      "outputs": [
        {
          "output_type": "stream",
          "name": "stdout",
          "text": [
            "Модель: Логістична регресія\n",
            "Точність: 1.0000\n",
            "Звіт про класифікацію:\n",
            "              precision    recall  f1-score   support\n",
            "\n",
            "           0       1.00      1.00      1.00        85\n",
            "           1       1.00      1.00      1.00        41\n",
            "\n",
            "    accuracy                           1.00       126\n",
            "   macro avg       1.00      1.00      1.00       126\n",
            "weighted avg       1.00      1.00      1.00       126\n",
            "\n"
          ]
        },
        {
          "output_type": "display_data",
          "data": {
            "text/plain": [
              "<Figure size 500x400 with 2 Axes>"
            ],
            "image/png": "[encoded data removed]"
          },
          "metadata": {}
        },
        {
          "output_type": "stream",
          "name": "stdout",
          "text": [
            "------------------------------------------------------------\n",
            "Модель: Дерево рішень\n",
            "Точність: 1.0000\n",
            "Звіт про класифікацію:\n",
            "              precision    recall  f1-score   support\n",
            "\n",
            "           0       1.00      1.00      1.00        85\n",
            "           1       1.00      1.00      1.00        41\n",
            "\n",
            "    accuracy                           1.00       126\n",
            "   macro avg       1.00      1.00      1.00       126\n",
            "weighted avg       1.00      1.00      1.00       126\n",
            "\n"
          ]
        },
        {
          "output_type": "display_data",
          "data": {
            "text/plain": [
              "<Figure size 500x400 with 2 Axes>"
            ],
            "image/png": "[encoded data removed]"
          },
          "metadata": {}
        },
        {
          "output_type": "stream",
          "name": "stdout",
          "text": [
            "------------------------------------------------------------\n",
            "Модель: Випадковий ліс\n",
            "Точність: 1.0000\n",
            "Звіт про класифікацію:\n",
            "              precision    recall  f1-score   support\n",
            "\n",
            "           0       1.00      1.00      1.00        85\n",
            "           1       1.00      1.00      1.00        41\n",
            "\n",
            "    accuracy                           1.00       126\n",
            "   macro avg       1.00      1.00      1.00       126\n",
            "weighted avg       1.00      1.00      1.00       126\n",
            "\n"
          ]
        },
        {
          "output_type": "display_data",
          "data": {
            "text/plain": [
              "<Figure size 500x400 with 2 Axes>"
            ],
            "image/png": "[encoded data removed]"
          },
          "metadata": {}
        },
        {
          "output_type": "stream",
          "name": "stdout",
          "text": [
            "------------------------------------------------------------\n"
          ]
        }
      ]
    },
    {
      "cell_type": "code",
      "source": [
        "import numpy as np\n",
        "import pandas as pd\n",
        "from sklearn.preprocessing import StandardScaler\n",
        "from sklearn.linear_model import LogisticRegression\n",
        "from tabulate import tabulate\n",
        "\n",
        "# Стандартизація даних\n",
        "scaler = StandardScaler()\n",
        "X_train = scaler.fit_transform(X_train)\n",
        "X_test = scaler.transform(X_test)\n",
        "\n",
        "# Визначення кращих параметрів та навчання моделі логістичної регресії\n",
        "best_params = {'C': 0.1, 'penalty': 'l2'}\n",
        "logreg = LogisticRegression(**best_params, max_iter=1000)\n",
        "logreg.fit(X_train, y_train)\n",
        "\n",
        "# Встановлення випадкового насіння для повторюваності\n",
        "np.random.seed(42)\n",
        "\n",
        "# Вибір 10 випадкових зразків з тестового набору\n",
        "random_indices = np.random.choice(X_test.shape[0], 10, replace=False)\n",
        "X_random = X_test[random_indices]\n",
        "y_random_actual = y_test.iloc[random_indices].values  # Отримуємо реальні значення\n",
        "\n",
        "# Прогнозування для вибраних зразків\n",
        "y_random_pred = logreg.predict(X_random)\n",
        "\n",
        "# Створення DataFrame для порівняння\n",
        "comparison_df = pd.DataFrame({\n",
        "    'Sample Index': random_indices,\n",
        "    'Real Class': y_random_actual,\n",
        "    'Predicted Class': y_random_pred\n",
        "})\n",
        "\n",
        "# Виведення DataFrame у форматі таблиці\n",
        "print(\"Порівняння реальних та передбачених класів:\")\n",
        "print(tabulate(comparison_df, headers='keys', tablefmt='pretty', showindex=False))"
      ],
      "metadata": {
        "colab": {
          "base_uri": "https://localhost:8080/"
        },
        "id": "ZWPA6VUAqV1U",
        "outputId": "7b106136-1481-4d45-b0fd-f4008342dd07"
      },
      "execution_count": 75,
      "outputs": [
        {
          "output_type": "stream",
          "name": "stdout",
          "text": [
            "Порівняння реальних та передбачених класів:\n",
            "+--------------+------------+-----------------+\n",
            "| Sample Index | Real Class | Predicted Class |\n",
            "+--------------+------------+-----------------+\n",
            "|      73      |     1      |        1        |\n",
            "|      19      |     0      |        0        |\n",
            "|     116      |     1      |        1        |\n",
            "|      67      |     0      |        0        |\n",
            "|      94      |     0      |        0        |\n",
            "|      77      |     1      |        1        |\n",
            "|      31      |     1      |        1        |\n",
            "|      53      |     0      |        0        |\n",
            "|     117      |     0      |        0        |\n",
            "|      44      |     0      |        0        |\n",
            "+--------------+------------+-----------------+\n"
          ]
        }
      ]
    },
    {
      "cell_type": "markdown",
      "source": [
        "**Висновок:** В аналізі датасету Titanic було досягнуто 100% точності при використанні логістичної регресії, дерева рішень та методу опорних векторів (SVM) на тестовій вибірці з 10 випадків. Це свідчить про те, що моделі ефективно справилися із завданням класифікації. Однак доцільно пам’ятати, що такі результати можуть бути обумовлені незначним обсягом вибірки."
      ],
      "metadata": {
        "id": "tkDOpY_1qXaW"
      }
    }
  ]
}