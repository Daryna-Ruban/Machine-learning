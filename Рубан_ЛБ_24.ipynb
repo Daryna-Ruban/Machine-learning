{
  "nbformat": 4,
  "nbformat_minor": 0,
  "metadata": {
    "colab": {
      "provenance": [],
      "authorship_tag": "ABX9TyMSyGLjwsH5e7o1NqYegD8F",
      "include_colab_link": true
    },
    "kernelspec": {
      "name": "python3",
      "display_name": "Python 3"
    },
    "language_info": {
      "name": "python"
    }
  },
  "cells": [
    {
      "cell_type": "markdown",
      "metadata": {
        "id": "view-in-github",
        "colab_type": "text"
      },
      "source": [
        "<a href=\"https://colab.research.google.com/github/Daryna-Ruban/Machine-learning/blob/main/%D0%A0%D1%83%D0%B1%D0%B0%D0%BD_%D0%9B%D0%91_24.ipynb\" target=\"_parent\"><img src=\"https://colab.research.google.com/assets/colab-badge.svg\" alt=\"Open In Colab\"/></a>"
      ]
    },
    {
      "cell_type": "markdown",
      "source": [
        "#Лабораторна робота 1\n",
        "**Завдання 1**\n",
        "Створіть одновимірний масив (вектор) з числами, які є оберненими значеннями\n",
        "простих чисел, починаючи з 2, та виведіть його значення"
      ],
      "metadata": {
        "id": "na2DSiS-xR2P"
      }
    },
    {
      "cell_type": "code",
      "source": [
        "import sympy as sp\n",
        "\n",
        "# Задаємо кількість простих чисел, які хочемо отримати\n",
        "num_primes = 10\n",
        "\n",
        "# Отримуємо перші num_primes простих чисел, починаючи з 2\n",
        "primes = list(sp.primerange(2, sp.prime(num_primes + 1)))\n",
        "\n",
        "# Створюємо вектор з обернених значень цих простих чисел\n",
        "inverse_primes = [1/p for p in primes]\n",
        "\n",
        "# Виводимо значення вектора\n",
        "print(\"Прості числа:\", primes)\n",
        "print(\"Обернені значення простих чисел:\", inverse_primes)"
      ],
      "metadata": {
        "colab": {
          "base_uri": "https://localhost:8080/"
        },
        "id": "g34Ig5qgxlU5",
        "outputId": "9c9a2e80-e360-4795-a62e-55da4a4efdab"
      },
      "execution_count": 1,
      "outputs": [
        {
          "output_type": "stream",
          "name": "stdout",
          "text": [
            "Прості числа: [2, 3, 5, 7, 11, 13, 17, 19, 23, 29]\n",
            "Обернені значення простих чисел: [0.5, 0.3333333333333333, 0.2, 0.14285714285714285, 0.09090909090909091, 0.07692307692307693, 0.058823529411764705, 0.05263157894736842, 0.043478260869565216, 0.034482758620689655]\n"
          ]
        }
      ]
    },
    {
      "cell_type": "markdown",
      "source": [
        "**Завдання 2**\n",
        "Створіть двовимірний масив (матрицю) розміром 3x3, заповніть його значеннями\n",
        "квадратних коренів перших натуральних чисел"
      ],
      "metadata": {
        "id": "9NtWmxNCyIte"
      }
    },
    {
      "cell_type": "code",
      "source": [
        "import numpy as np\n",
        "\n",
        "# Створюємо масив з перших 9 натуральних чисел\n",
        "natural_numbers = np.arange(1, 10)\n",
        "\n",
        "# Обчислюємо квадратні корені цих чисел\n",
        "square_roots = np.sqrt(natural_numbers)\n",
        "\n",
        "# Перетворюємо одновимірний масив у двовимірний масив (матрицю) 3x3\n",
        "matrix = square_roots.reshape((3, 3))\n",
        "\n",
        "# Виводимо значення матриці\n",
        "print(\"Матриця 3x3 з квадратних коренів перших натуральних чисел:\")\n",
        "print(matrix)"
      ],
      "metadata": {
        "colab": {
          "base_uri": "https://localhost:8080/"
        },
        "id": "7cRnUiF5ySYG",
        "outputId": "d78bd21f-a64b-4b49-ca84-9de941411f4a"
      },
      "execution_count": 2,
      "outputs": [
        {
          "output_type": "stream",
          "name": "stdout",
          "text": [
            "Матриця 3x3 з квадратних коренів перших натуральних чисел:\n",
            "[[1.         1.41421356 1.73205081]\n",
            " [2.         2.23606798 2.44948974]\n",
            " [2.64575131 2.82842712 3.        ]]\n"
          ]
        }
      ]
    },
    {
      "cell_type": "markdown",
      "source": [
        "** Завдання 3** Створіть масив розміром 3x3, заповніть його випадковими цілими числами від -10 до 10 та знайдіть суму елементів кожного рядка.\n"
      ],
      "metadata": {
        "id": "koP1Kd7Vyi6O"
      }
    },
    {
      "cell_type": "code",
      "source": [
        "import numpy as np\n",
        "\n",
        "# Створюємо масив розміром 3x3, заповнений випадковими цілими числами від -10 до 10\n",
        "matrix = np.random.randint(-10, 11, size=(3, 3))\n",
        "\n",
        "# Виводимо створену матрицю\n",
        "print(\"Матриця 3x3 з випадкових цілих чисел:\")\n",
        "print(matrix)\n",
        "\n",
        "# Знаходимо суму елементів кожного рядка\n",
        "row_sums = np.sum(matrix, axis=1)\n",
        "\n",
        "# Виводимо суму елементів кожного рядка\n",
        "print(\"\\nСума елементів кожного рядка:\")\n",
        "print(row_sums)"
      ],
      "metadata": {
        "colab": {
          "base_uri": "https://localhost:8080/"
        },
        "id": "g-y42CbwzHsW",
        "outputId": "154b0ae3-26d1-4a8c-a44a-250f94ed634e"
      },
      "execution_count": 3,
      "outputs": [
        {
          "output_type": "stream",
          "name": "stdout",
          "text": [
            "Матриця 3x3 з випадкових цілих чисел:\n",
            "[[-10   1   6]\n",
            " [  2  -9   4]\n",
            " [ -3  -4   4]]\n",
            "\n",
            "Сума елементів кожного рядка:\n",
            "[-3 -3 -3]\n"
          ]
        }
      ]
    },
    {
      "cell_type": "markdown",
      "source": [
        "**Завдання 4** Створіть масив розміром 4x4, заповніть його випадковими дійсними числами від -1.0 до 1.0 та виведіть його значення"
      ],
      "metadata": {
        "id": "lJfoGt5LzN49"
      }
    },
    {
      "cell_type": "code",
      "source": [
        "import numpy as np\n",
        "\n",
        "# Створюємо масив розміром 4x4, заповнений випадковими дійсними числами від -1.0 до 1.0\n",
        "matrix = np.random.uniform(-1.0, 1.0, size=(4, 4))\n",
        "\n",
        "# Виводимо створену матрицю\n",
        "print(\"Матриця 4x4 з випадкових дійсних чисел:\")\n",
        "print(matrix)\n"
      ],
      "metadata": {
        "colab": {
          "base_uri": "https://localhost:8080/"
        },
        "id": "jXhYhSIbzdi2",
        "outputId": "a71e7b82-d0cf-446d-c753-c09f2ae3a64b"
      },
      "execution_count": 4,
      "outputs": [
        {
          "output_type": "stream",
          "name": "stdout",
          "text": [
            "Матриця 4x4 з випадкових дійсних чисел:\n",
            "[[-0.55084878  0.34653757 -0.44030699 -0.85346798]\n",
            " [-0.09509673  0.5386734   0.10251219 -0.36369578]\n",
            " [-0.14829705 -0.53786481  0.38342531  0.89973068]\n",
            " [-0.1241553   0.63156357 -0.56946513 -0.48867388]]\n"
          ]
        }
      ]
    },
    {
      "cell_type": "markdown",
      "source": [
        "**Завдання 5** Створіть два одновимірних масиви розміром 8, заповніть їх випадковими цілими числами в діапазоні від 5 до 10 та виконайте на них поелементні операції додавання, віднімання та множення"
      ],
      "metadata": {
        "id": "Tu7xBafRzk9k"
      }
    },
    {
      "cell_type": "code",
      "source": [
        "import numpy as np\n",
        "\n",
        "# Створюємо два одновимірних масиви розміром 8, заповнених випадковими цілими числами від 5 до 10\n",
        "array1 = np.random.randint(5, 11, size=8)\n",
        "array2 = np.random.randint(5, 11, size=8)\n",
        "\n",
        "# Виконуємо поелементні операції\n",
        "addition = array1 + array2\n",
        "subtraction = array1 - array2\n",
        "multiplication = array1 * array2\n",
        "\n",
        "# Виводимо результати\n",
        "print(\"Перший масив:\")\n",
        "print(array1)\n",
        "print(\"Другий масив:\")\n",
        "print(array2)\n",
        "print(\"\\nРезультат поелементного додавання:\")\n",
        "print(addition)\n",
        "print(\"\\nРезультат поелементного віднімання:\")\n",
        "print(subtraction)\n",
        "print(\"\\nРезультат поелементного множення:\")\n",
        "print(multiplication)"
      ],
      "metadata": {
        "colab": {
          "base_uri": "https://localhost:8080/"
        },
        "id": "IA92BYovzxl0",
        "outputId": "01aac4d0-1bed-4d34-89ff-0dae33153c57"
      },
      "execution_count": 6,
      "outputs": [
        {
          "output_type": "stream",
          "name": "stdout",
          "text": [
            "Перший масив:\n",
            "[ 8  6  9  5  7  9 10 10]\n",
            "Другий масив:\n",
            "[10  9  8 10  7  9  9  9]\n",
            "\n",
            "Результат поелементного додавання:\n",
            "[18 15 17 15 14 18 19 19]\n",
            "\n",
            "Результат поелементного віднімання:\n",
            "[-2 -3  1 -5  0  0  1  1]\n",
            "\n",
            "Результат поелементного множення:\n",
            "[80 54 72 50 49 81 90 90]\n"
          ]
        }
      ]
    },
    {
      "cell_type": "markdown",
      "source": [
        "**Завдання 6** Створіть дві матриці 4x4, заповніть їх довільними цілими числами від 1 до 15 та знайдіть їх добуток"
      ],
      "metadata": {
        "id": "dFKX8Fp5z6Yl"
      }
    },
    {
      "cell_type": "code",
      "source": [
        "import numpy as np\n",
        "\n",
        "# Створюємо дві матриці 4x4, заповнені випадковими цілими числами від 1 до 15\n",
        "matrix1 = np.random.randint(1, 16, size=(4, 4))\n",
        "matrix2 = np.random.randint(1, 16, size=(4, 4))\n",
        "\n",
        "# Обчислюємо добуток матриць\n",
        "matrix_product = np.dot(matrix1, matrix2)\n",
        "\n",
        "# Виводимо результати\n",
        "print(\"Перша матриця:\")\n",
        "print(matrix1)\n",
        "print(\"\\nДруга матриця:\")\n",
        "print(matrix2)\n",
        "print(\"\\nДобуток матриць:\")\n",
        "print(matrix_product)\n"
      ],
      "metadata": {
        "colab": {
          "base_uri": "https://localhost:8080/"
        },
        "id": "h1rqWQCn0J0E",
        "outputId": "b6f4ce74-15d2-4fdf-d8ed-4dd3e6450b2d"
      },
      "execution_count": 7,
      "outputs": [
        {
          "output_type": "stream",
          "name": "stdout",
          "text": [
            "Перша матриця:\n",
            "[[ 9  2  3 14]\n",
            " [ 5  2  9 12]\n",
            " [ 8  9  5 12]\n",
            " [ 7 13  8  2]]\n",
            "\n",
            "Друга матриця:\n",
            "[[ 3  9  2 15]\n",
            " [ 2  6  9  5]\n",
            " [ 2  6 14  9]\n",
            " [ 7 10  6  5]]\n",
            "\n",
            "Добуток матриць:\n",
            "[[135 251 162 242]\n",
            " [121 231 226 226]\n",
            " [136 276 239 270]\n",
            " [ 77 209 255 252]]\n"
          ]
        }
      ]
    },
    {
      "cell_type": "markdown",
      "source": [
        "**Завдання 7** Створіть дві матриці розміром 4x2 та 2x2, заповніть їх випадковими цілими числами в діапазоні від 1 до 6 та перемножте їх між собою.\n"
      ],
      "metadata": {
        "id": "dGUduYaj0Lts"
      }
    },
    {
      "cell_type": "code",
      "source": [
        "import numpy as np\n",
        "\n",
        "# Створюємо випадкові матриці\n",
        "matrix1 = np.random.randint(1, 7, size=(4, 2))\n",
        "matrix2 = np.random.randint(1, 7, size=(2, 2))\n",
        "\n",
        "print(\"Матриця 4x2:\")\n",
        "print(matrix1)\n",
        "\n",
        "print(\"\\nМатриця 2x2:\")\n",
        "print(matrix2)\n",
        "\n",
        "# Перемножуємо матриці\n",
        "result = np.dot(matrix1, matrix2)\n",
        "\n",
        "print(\"\\nРезультат перемноження:\")\n",
        "print(result)"
      ],
      "metadata": {
        "colab": {
          "base_uri": "https://localhost:8080/"
        },
        "id": "ay4cK5vL0TRl",
        "outputId": "8fd66712-52a7-46d2-f79d-e092786ecac4"
      },
      "execution_count": 8,
      "outputs": [
        {
          "output_type": "stream",
          "name": "stdout",
          "text": [
            "Матриця 4x2:\n",
            "[[4 6]\n",
            " [2 2]\n",
            " [4 6]\n",
            " [6 5]]\n",
            "\n",
            "Матриця 2x2:\n",
            "[[5 1]\n",
            " [6 4]]\n",
            "\n",
            "Результат перемноження:\n",
            "[[56 28]\n",
            " [22 10]\n",
            " [56 28]\n",
            " [60 26]]\n"
          ]
        }
      ]
    },
    {
      "cell_type": "markdown",
      "source": [
        "**Завдання 8** Створіть матрицю розміром 3x3, заповніть її випадковими цілими числами в діапазоні від 1 до 10 та знайдіть її обернену матрицю."
      ],
      "metadata": {
        "id": "ZSkdlw160e2t"
      }
    },
    {
      "cell_type": "code",
      "source": [
        "import numpy as np\n",
        "\n",
        "# Створюємо випадкову матрицю розміром 3x3\n",
        "matrix = np.random.randint(1, 11, size=(3, 3))\n",
        "\n",
        "print(\"Оригінальна матриця:\")\n",
        "print(matrix)\n",
        "\n",
        "# Перевіряємо, чи матриця є невиродженою (має обернену матрицю)\n",
        "if np.linalg.det(matrix) == 0:\n",
        "    print(\"\\nМатриця є виродженою і не має оберненої матриці.\")\n",
        "else:\n",
        "    # Знаходимо обернену матрицю\n",
        "    inverse_matrix = np.linalg.inv(matrix)\n",
        "    print(\"\\nОбернена матриця:\")\n",
        "    print(inverse_matrix)"
      ],
      "metadata": {
        "colab": {
          "base_uri": "https://localhost:8080/"
        },
        "id": "URyVoC7O0oUk",
        "outputId": "4d3d7f57-cd5b-488d-a0b6-0d8acef516a3"
      },
      "execution_count": 9,
      "outputs": [
        {
          "output_type": "stream",
          "name": "stdout",
          "text": [
            "Оригінальна матриця:\n",
            "[[2 4 1]\n",
            " [6 3 5]\n",
            " [1 1 3]]\n",
            "\n",
            "Обернена матриця:\n",
            "[[-0.09756098  0.26829268 -0.41463415]\n",
            " [ 0.31707317 -0.12195122  0.09756098]\n",
            " [-0.07317073 -0.04878049  0.43902439]]\n"
          ]
        }
      ]
    },
    {
      "cell_type": "markdown",
      "source": [
        "**Завдання 9** Створіть матрицю розміром 4x4, заповніть її випадковими дійсними числами в діапазоні від 0 до 100 та транспонуйте її."
      ],
      "metadata": {
        "id": "wr3jkRpB0psk"
      }
    },
    {
      "cell_type": "code",
      "source": [
        "import numpy as np\n",
        "\n",
        "# Створюємо випадкову матрицю розміром 4x4\n",
        "matrix = np.random.uniform(0, 100, size=(4, 4))\n",
        "\n",
        "print(\"Оригінальна матриця:\")\n",
        "print(matrix)\n",
        "\n",
        "# Транспонуємо матрицю\n",
        "transposed_matrix = np.transpose(matrix)\n",
        "\n",
        "print(\"\\nТранспонована матриця:\")\n",
        "print(transposed_matrix)"
      ],
      "metadata": {
        "colab": {
          "base_uri": "https://localhost:8080/"
        },
        "id": "eqKRkyfB0y7W",
        "outputId": "8e7e2e4d-6325-47ec-d3dd-761a711e6bb4"
      },
      "execution_count": 10,
      "outputs": [
        {
          "output_type": "stream",
          "name": "stdout",
          "text": [
            "Оригінальна матриця:\n",
            "[[62.64166602 13.04328601 12.76972312 56.71851798]\n",
            " [52.29763072 39.52789466  4.51683126 67.30187385]\n",
            " [47.17385185 25.83773585 46.37302515  9.21216958]\n",
            " [ 6.57775233 94.25184722 85.57059645 69.3260778 ]]\n",
            "\n",
            "Транспонована матриця:\n",
            "[[62.64166602 52.29763072 47.17385185  6.57775233]\n",
            " [13.04328601 39.52789466 25.83773585 94.25184722]\n",
            " [12.76972312  4.51683126 46.37302515 85.57059645]\n",
            " [56.71851798 67.30187385  9.21216958 69.3260778 ]]\n"
          ]
        }
      ]
    },
    {
      "cell_type": "markdown",
      "source": [
        "**Завдання 10** Створіть матрицю розміром 3x4 та вектор розміром 4x1, заповніть матрицю випадковими дійсними числами від 0 до 1, а вектор - випадковими цілими числами в діапазоні від 1 до 10, і знайдіть добуток матриці на вектор."
      ],
      "metadata": {
        "id": "ZDaVRkos01ps"
      }
    },
    {
      "cell_type": "code",
      "source": [
        "import numpy as np\n",
        "\n",
        "# Створюємо матрицю розміром 3x4 з випадковими дійсними числами від 0 до 1\n",
        "matrix = np.random.uniform(0, 1, size=(3, 4))\n",
        "\n",
        "# Створюємо вектор розміром 4x1 з випадковими цілими числами від 1 до 10\n",
        "vector = np.random.randint(1, 11, size=(4, 1))\n",
        "\n",
        "print(\"Матриця (3x4):\")\n",
        "print(matrix)\n",
        "\n",
        "print(\"\\nВектор (4x1):\")\n",
        "print(vector)\n",
        "\n",
        "# Знаходимо добуток матриці на вектор\n",
        "result = np.dot(matrix, vector)\n",
        "\n",
        "print(\"\\nРезультат добутку матриці на вектор:\")\n",
        "print(result)"
      ],
      "metadata": {
        "colab": {
          "base_uri": "https://localhost:8080/"
        },
        "id": "p47IslC51AQj",
        "outputId": "3a0173c0-326f-464d-ab99-670aa72d1d3b"
      },
      "execution_count": 12,
      "outputs": [
        {
          "output_type": "stream",
          "name": "stdout",
          "text": [
            "Матриця (3x4):\n",
            "[[0.96957595 0.45419669 0.58839586 0.99776242]\n",
            " [0.69671871 0.66380741 0.18337005 0.00423559]\n",
            " [0.93138897 0.70379844 0.84735979 0.59048428]]\n",
            "\n",
            "Вектор (4x1):\n",
            "[[4]\n",
            " [8]\n",
            " [1]\n",
            " [9]]\n",
            "\n",
            "Результат добутку матриці на вектор:\n",
            "[[17.08013493]\n",
            " [ 8.31882452]\n",
            " [15.51766177]]\n"
          ]
        }
      ]
    },
    {
      "cell_type": "markdown",
      "source": [
        "**Висновок:** я згадала, як створювати різні типи матриць і векторів, заповнених випадковими числами, і виконула базові операції з ними, такі як множення матриць, транспонування та обчислення оберненої матриці, множення на верктор\n"
      ],
      "metadata": {
        "id": "yFm39BHI1QoU"
      }
    }
  ]
}